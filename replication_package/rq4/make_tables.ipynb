{
 "cells": [
  {
   "cell_type": "code",
   "execution_count": 42,
   "metadata": {},
   "outputs": [],
   "source": [
    "import pandas as pd"
   ]
  },
  {
   "cell_type": "code",
   "execution_count": 43,
   "metadata": {},
   "outputs": [],
   "source": [
    "sp_rf = pd.read_csv('bias_symptoms_sp_rf.csv', index_col=[0,1], header=[0,1]).droplevel(0, axis=0)\n",
    "eo_rf = pd.read_csv(\"bias_symptoms_eo_rf.csv\", index_col=[0, 1], header=[0, 1]).droplevel(0, axis=0)\n",
    "ao_rf = pd.read_csv(\"bias_symptoms_ao_rf.csv\", index_col=[0, 1], header=[0, 1]).droplevel(0, axis=0)"
   ]
  },
  {
   "cell_type": "code",
   "execution_count": 44,
   "metadata": {},
   "outputs": [],
   "source": [
    "def make_table(sp_rf, p_vals):\n",
    "  sp_table = pd.DataFrame()\n",
    "  for index in sp_rf.index:\n",
    "      sp_table.loc['\\\\textbf{AUC}', index] = sp_rf.loc[index, ('ap', 'mean')].round(3).astype(str) + \" $\\pm$ \" + sp_rf.loc[index, ('ap', 'std')].round(3).astype(str)\n",
    "      sp_table.loc['\\\\textbf{Acc}', index] = sp_rf.loc[index, ('accuracy', 'mean')].round(3).astype(str) + \" $\\pm$ \" + sp_rf.loc[index, ('accuracy', 'std')].round(3).astype(str)\n",
    "      sp_table.loc['\\\\textbf{Prec}', index] = sp_rf.loc[index, ('precision', 'mean')].round(3).astype(str) + \" $\\pm$ \" + sp_rf.loc[index, ('precision', 'std')].round(3).astype(str)\n",
    "      sp_table.loc['\\\\textbf{Rec}', index] = sp_rf.loc[index, ('recall', 'mean')].round(3).astype(str) + \" $\\pm$ \" + sp_rf.loc[index, ('recall', 'std')].round(3).astype(str)\n",
    "      sp_table.loc['\\\\textbf{F1}', index] = sp_rf.loc[index, ('f1', 'mean')].round(3).astype(str) + \" $\\pm$ \" + sp_rf.loc[index, ('f1', 'std')].round(3).astype(str)\n",
    "  sp_table['$p$-value'] = p_vals\n",
    "  sp_table['$p$-value']=sp_table['$p$-value'].astype(str)\n",
    "  \n",
    "  return sp_table"
   ]
  },
  {
   "cell_type": "code",
   "execution_count": 45,
   "metadata": {},
   "outputs": [],
   "source": [
    "sp_table = make_table(sp_rf, [0.4,\n",
    "0.7,\n",
    "0.65,\n",
    "0.34,\n",
    "0.4])"
   ]
  },
  {
   "cell_type": "code",
   "execution_count": 46,
   "metadata": {},
   "outputs": [
    {
     "data": {
      "text/html": [
       "<div>\n",
       "<style scoped>\n",
       "    .dataframe tbody tr th:only-of-type {\n",
       "        vertical-align: middle;\n",
       "    }\n",
       "\n",
       "    .dataframe tbody tr th {\n",
       "        vertical-align: top;\n",
       "    }\n",
       "\n",
       "    .dataframe thead th {\n",
       "        text-align: right;\n",
       "    }\n",
       "</style>\n",
       "<table border=\"1\" class=\"dataframe\">\n",
       "  <thead>\n",
       "    <tr style=\"text-align: right;\">\n",
       "      <th></th>\n",
       "      <th>MLP</th>\n",
       "      <th>Random Forest</th>\n",
       "      <th>XGBoost</th>\n",
       "      <th>$p$-value</th>\n",
       "    </tr>\n",
       "  </thead>\n",
       "  <tbody>\n",
       "    <tr>\n",
       "      <th>\\textbf{AUC}</th>\n",
       "      <td>0.844 $\\pm$ 0.105</td>\n",
       "      <td>0.909 $\\pm$ 0.05</td>\n",
       "      <td>0.906 $\\pm$ 0.077</td>\n",
       "      <td>0.4</td>\n",
       "    </tr>\n",
       "    <tr>\n",
       "      <th>\\textbf{Acc}</th>\n",
       "      <td>0.726 $\\pm$ 0.182</td>\n",
       "      <td>0.828 $\\pm$ 0.125</td>\n",
       "      <td>0.816 $\\pm$ 0.171</td>\n",
       "      <td>0.7</td>\n",
       "    </tr>\n",
       "    <tr>\n",
       "      <th>\\textbf{Prec}</th>\n",
       "      <td>0.688 $\\pm$ 0.204</td>\n",
       "      <td>0.782 $\\pm$ 0.141</td>\n",
       "      <td>0.755 $\\pm$ 0.15</td>\n",
       "      <td>0.65</td>\n",
       "    </tr>\n",
       "    <tr>\n",
       "      <th>\\textbf{Rec}</th>\n",
       "      <td>0.574 $\\pm$ 0.19</td>\n",
       "      <td>0.718 $\\pm$ 0.169</td>\n",
       "      <td>0.707 $\\pm$ 0.266</td>\n",
       "      <td>0.34</td>\n",
       "    </tr>\n",
       "    <tr>\n",
       "      <th>\\textbf{F1}</th>\n",
       "      <td>0.599 $\\pm$ 0.176</td>\n",
       "      <td>0.738 $\\pm$ 0.131</td>\n",
       "      <td>0.705 $\\pm$ 0.214</td>\n",
       "      <td>0.4</td>\n",
       "    </tr>\n",
       "  </tbody>\n",
       "</table>\n",
       "</div>"
      ],
      "text/plain": [
       "                             MLP      Random Forest            XGBoost  \\\n",
       "\\textbf{AUC}   0.844 $\\pm$ 0.105   0.909 $\\pm$ 0.05  0.906 $\\pm$ 0.077   \n",
       "\\textbf{Acc}   0.726 $\\pm$ 0.182  0.828 $\\pm$ 0.125  0.816 $\\pm$ 0.171   \n",
       "\\textbf{Prec}  0.688 $\\pm$ 0.204  0.782 $\\pm$ 0.141   0.755 $\\pm$ 0.15   \n",
       "\\textbf{Rec}    0.574 $\\pm$ 0.19  0.718 $\\pm$ 0.169  0.707 $\\pm$ 0.266   \n",
       "\\textbf{F1}    0.599 $\\pm$ 0.176  0.738 $\\pm$ 0.131  0.705 $\\pm$ 0.214   \n",
       "\n",
       "              $p$-value  \n",
       "\\textbf{AUC}        0.4  \n",
       "\\textbf{Acc}        0.7  \n",
       "\\textbf{Prec}      0.65  \n",
       "\\textbf{Rec}       0.34  \n",
       "\\textbf{F1}         0.4  "
      ]
     },
     "execution_count": 46,
     "metadata": {},
     "output_type": "execute_result"
    }
   ],
   "source": [
    "sp_table"
   ]
  },
  {
   "cell_type": "code",
   "execution_count": 47,
   "metadata": {},
   "outputs": [],
   "source": [
    "eo_table = make_table(eo_rf, [0.47,\n",
    "0.54,\n",
    "0.51,\n",
    "0.68,\n",
    "0.43\n",
    "])\n",
    "ao_table = make_table(ao_rf,[0.99,\n",
    "0.85,\n",
    "0.93,\n",
    "0.61,\n",
    "0.83\n",
    "])"
   ]
  },
  {
   "cell_type": "code",
   "execution_count": 48,
   "metadata": {},
   "outputs": [],
   "source": [
    "full_table = pd.concat([sp_table, eo_table, ao_table], axis=1)"
   ]
  },
  {
   "cell_type": "code",
   "execution_count": 49,
   "metadata": {},
   "outputs": [],
   "source": [
    "full_table.to_latex('rf_table.tex', escape=False)"
   ]
  },
  {
   "cell_type": "code",
   "execution_count": 50,
   "metadata": {},
   "outputs": [],
   "source": [
    "sp_mlp = pd.read_csv(\n",
    "    \"bias_symptoms_sp_mlp.csv\", index_col=[0, 1], header=[0, 1]\n",
    ").droplevel(0, axis=0)\n",
    "eo_mlp = pd.read_csv(\n",
    "    \"bias_symptoms_eo_mlp.csv\", index_col=[0, 1], header=[0, 1]\n",
    ").droplevel(0, axis=0)\n",
    "ao_mlp = pd.read_csv(\n",
    "    \"bias_symptoms_ao_mlp.csv\", index_col=[0, 1], header=[0, 1]\n",
    ").droplevel(0, axis=0)"
   ]
  },
  {
   "cell_type": "code",
   "execution_count": 51,
   "metadata": {},
   "outputs": [],
   "source": [
    "sp_table = make_table(sp_mlp, [0.28,\n",
    "0.33,\n",
    "0.26,\n",
    "0.37,\n",
    "0.22\n",
    "])\n",
    "\n",
    "eo_table = make_table(eo_mlp, [0.23,\n",
    "0.47,\n",
    "0.76,\n",
    "0.48,\n",
    "0.53])\n",
    "\n",
    "ao_table = make_table(ao_mlp, [0.93,\n",
    "0.81,\n",
    "0.99,\n",
    "0.91,\n",
    "0.88])"
   ]
  },
  {
   "cell_type": "code",
   "execution_count": 52,
   "metadata": {},
   "outputs": [],
   "source": [
    "full_table = pd.concat([sp_table, eo_table, ao_table], axis=1)\n",
    "full_table.to_latex('mlp_table.tex', escape=False)"
   ]
  }
 ],
 "metadata": {
  "kernelspec": {
   "display_name": "bias",
   "language": "python",
   "name": "python3"
  },
  "language_info": {
   "codemirror_mode": {
    "name": "ipython",
    "version": 3
   },
   "file_extension": ".py",
   "mimetype": "text/x-python",
   "name": "python",
   "nbconvert_exporter": "python",
   "pygments_lexer": "ipython3",
   "version": "3.8.19"
  }
 },
 "nbformat": 4,
 "nbformat_minor": 2
}
