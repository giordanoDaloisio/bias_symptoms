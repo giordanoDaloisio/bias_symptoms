{
 "cells": [
  {
   "cell_type": "code",
   "execution_count": 1,
   "metadata": {},
   "outputs": [],
   "source": [
    "import pandas as pd"
   ]
  },
  {
   "cell_type": "code",
   "execution_count": 8,
   "metadata": {},
   "outputs": [],
   "source": [
    "def process_table(sp):\n",
    "    sp[\"AUC\"] = sp[(\"ap\", \"mean\")].astype(str) + \"$\\pm$\" + sp[(\"ap\", \"std\")].astype(str)\n",
    "    sp[\"Accuracy\"] = (\n",
    "        sp[(\"accuracy\", \"mean\")].astype(str)\n",
    "        + \"$\\pm$\"\n",
    "        + sp[(\"accuracy\", \"std\")].astype(str)\n",
    "    )\n",
    "    sp[\"Precision\"] = (\n",
    "        sp[(\"precision\", \"mean\")].astype(str)\n",
    "        + \"$\\pm$\"\n",
    "        + sp[(\"precision\", \"std\")].astype(str)\n",
    "    )\n",
    "    sp[\"Recall\"] = (\n",
    "        sp[(\"recall\", \"mean\")].astype(str) + \"$\\pm$\" + sp[(\"recall\", \"std\")].astype(str)\n",
    "    )\n",
    "    sp[\"F1\"] = sp[(\"f1\", \"mean\")].astype(str) + \"$\\pm$\" + sp[(\"f1\", \"std\")].astype(str)\n",
    "    sp.drop(\n",
    "        columns=[\n",
    "            (\"ap\", \"mean\"),\n",
    "            (\"ap\", \"std\"),\n",
    "            (\"accuracy\", \"mean\"),\n",
    "            (\"accuracy\", \"std\"),\n",
    "            (\"precision\", \"mean\"),\n",
    "            (\"precision\", \"std\"),\n",
    "            (\"recall\", \"mean\"),\n",
    "            (\"recall\", \"std\"),\n",
    "            (\"f1\", \"mean\"),\n",
    "            (\"f1\", \"std\"),\n",
    "        ],\n",
    "        inplace=True,\n",
    "    )\n",
    "    sp.columns = sp.columns.droplevel(1)\n",
    "    sp = sp.transpose()\n",
    "    return sp"
   ]
  },
  {
   "cell_type": "markdown",
   "metadata": {},
   "source": [
    "## Log Reg"
   ]
  },
  {
   "cell_type": "code",
   "execution_count": 9,
   "metadata": {},
   "outputs": [],
   "source": [
    "sp = pd.read_csv('../rq2/bias_symptoms_sp.csv', index_col=0, header=[0,1]).round(3)\n",
    "eo = pd.read_csv(\n",
    "    \"../rq2/bias_symptoms_eo.csv\", index_col=0, header=[0, 1]\n",
    ").round(3)\n",
    "ao = pd.read_csv(\n",
    "    \"../rq2/bias_symptoms_ao.csv\", index_col=0, header=[0, 1]\n",
    ").round(3)\n",
    "full = pd.read_csv(\n",
    "    \"../rq2/bias_symptoms_full.csv\", index_col=0, header=[0, 1]\n",
    ").round(3)"
   ]
  },
  {
   "cell_type": "code",
   "execution_count": 10,
   "metadata": {},
   "outputs": [],
   "source": [
    "sp = process_table(sp)"
   ]
  },
  {
   "cell_type": "code",
   "execution_count": 11,
   "metadata": {},
   "outputs": [],
   "source": [
    "eo = process_table(eo)\n",
    "ao = process_table(ao)\n",
    "full = process_table(full)"
   ]
  },
  {
   "cell_type": "code",
   "execution_count": 12,
   "metadata": {},
   "outputs": [],
   "source": [
    "table = pd.concat([sp, eo, ao, full], axis=1)"
   ]
  },
  {
   "cell_type": "code",
   "execution_count": 13,
   "metadata": {},
   "outputs": [
    {
     "data": {
      "text/html": [
       "<div>\n",
       "<style scoped>\n",
       "    .dataframe tbody tr th:only-of-type {\n",
       "        vertical-align: middle;\n",
       "    }\n",
       "\n",
       "    .dataframe tbody tr th {\n",
       "        vertical-align: top;\n",
       "    }\n",
       "\n",
       "    .dataframe thead th {\n",
       "        text-align: right;\n",
       "    }\n",
       "</style>\n",
       "<table border=\"1\" class=\"dataframe\">\n",
       "  <thead>\n",
       "    <tr style=\"text-align: right;\">\n",
       "      <th></th>\n",
       "      <th>0</th>\n",
       "      <th>1</th>\n",
       "      <th>2</th>\n",
       "      <th>0</th>\n",
       "      <th>1</th>\n",
       "      <th>2</th>\n",
       "      <th>0</th>\n",
       "      <th>1</th>\n",
       "      <th>2</th>\n",
       "      <th>0</th>\n",
       "      <th>1</th>\n",
       "      <th>2</th>\n",
       "    </tr>\n",
       "  </thead>\n",
       "  <tbody>\n",
       "    <tr>\n",
       "      <th>model</th>\n",
       "      <td>MLP</td>\n",
       "      <td>Random Forest</td>\n",
       "      <td>XGBoost</td>\n",
       "      <td>MLP</td>\n",
       "      <td>Random Forest</td>\n",
       "      <td>XGBoost</td>\n",
       "      <td>MLP</td>\n",
       "      <td>Random Forest</td>\n",
       "      <td>XGBoost</td>\n",
       "      <td>MLP</td>\n",
       "      <td>Random Forest</td>\n",
       "      <td>XGBoost</td>\n",
       "    </tr>\n",
       "    <tr>\n",
       "      <th>AUC</th>\n",
       "      <td>0.883$\\pm$0.046</td>\n",
       "      <td>0.909$\\pm$0.066</td>\n",
       "      <td>0.899$\\pm$0.083</td>\n",
       "      <td>0.75$\\pm$0.136</td>\n",
       "      <td>0.781$\\pm$0.146</td>\n",
       "      <td>0.784$\\pm$0.148</td>\n",
       "      <td>0.799$\\pm$0.087</td>\n",
       "      <td>0.805$\\pm$0.104</td>\n",
       "      <td>0.801$\\pm$0.085</td>\n",
       "      <td>0.81$\\pm$0.106</td>\n",
       "      <td>0.832$\\pm$0.117</td>\n",
       "      <td>0.828$\\pm$0.114</td>\n",
       "    </tr>\n",
       "    <tr>\n",
       "      <th>Accuracy</th>\n",
       "      <td>0.821$\\pm$0.089</td>\n",
       "      <td>0.775$\\pm$0.205</td>\n",
       "      <td>0.78$\\pm$0.198</td>\n",
       "      <td>0.71$\\pm$0.16</td>\n",
       "      <td>0.745$\\pm$0.141</td>\n",
       "      <td>0.722$\\pm$0.151</td>\n",
       "      <td>0.754$\\pm$0.109</td>\n",
       "      <td>0.793$\\pm$0.091</td>\n",
       "      <td>0.777$\\pm$0.088</td>\n",
       "      <td>0.762$\\pm$0.123</td>\n",
       "      <td>0.771$\\pm$0.143</td>\n",
       "      <td>0.76$\\pm$0.144</td>\n",
       "    </tr>\n",
       "    <tr>\n",
       "      <th>Precision</th>\n",
       "      <td>0.702$\\pm$0.223</td>\n",
       "      <td>0.77$\\pm$0.154</td>\n",
       "      <td>0.764$\\pm$0.149</td>\n",
       "      <td>0.668$\\pm$0.267</td>\n",
       "      <td>0.733$\\pm$0.225</td>\n",
       "      <td>0.689$\\pm$0.208</td>\n",
       "      <td>0.604$\\pm$0.217</td>\n",
       "      <td>0.683$\\pm$0.201</td>\n",
       "      <td>0.66$\\pm$0.209</td>\n",
       "      <td>0.658$\\pm$0.223</td>\n",
       "      <td>0.729$\\pm$0.185</td>\n",
       "      <td>0.704$\\pm$0.182</td>\n",
       "    </tr>\n",
       "    <tr>\n",
       "      <th>Recall</th>\n",
       "      <td>0.815$\\pm$0.146</td>\n",
       "      <td>0.675$\\pm$0.344</td>\n",
       "      <td>0.688$\\pm$0.303</td>\n",
       "      <td>0.654$\\pm$0.139</td>\n",
       "      <td>0.664$\\pm$0.127</td>\n",
       "      <td>0.612$\\pm$0.185</td>\n",
       "      <td>0.698$\\pm$0.22</td>\n",
       "      <td>0.696$\\pm$0.216</td>\n",
       "      <td>0.65$\\pm$0.208</td>\n",
       "      <td>0.722$\\pm$0.174</td>\n",
       "      <td>0.679$\\pm$0.228</td>\n",
       "      <td>0.65$\\pm$0.222</td>\n",
       "    </tr>\n",
       "    <tr>\n",
       "      <th>F1</th>\n",
       "      <td>0.728$\\pm$0.147</td>\n",
       "      <td>0.659$\\pm$0.236</td>\n",
       "      <td>0.684$\\pm$0.202</td>\n",
       "      <td>0.645$\\pm$0.191</td>\n",
       "      <td>0.69$\\pm$0.169</td>\n",
       "      <td>0.639$\\pm$0.184</td>\n",
       "      <td>0.642$\\pm$0.204</td>\n",
       "      <td>0.681$\\pm$0.188</td>\n",
       "      <td>0.648$\\pm$0.19</td>\n",
       "      <td>0.672$\\pm$0.174</td>\n",
       "      <td>0.677$\\pm$0.186</td>\n",
       "      <td>0.657$\\pm$0.179</td>\n",
       "    </tr>\n",
       "  </tbody>\n",
       "</table>\n",
       "</div>"
      ],
      "text/plain": [
       "                         0                1                2                0  \\\n",
       "model                  MLP    Random Forest          XGBoost              MLP   \n",
       "AUC        0.883$\\pm$0.046  0.909$\\pm$0.066  0.899$\\pm$0.083   0.75$\\pm$0.136   \n",
       "Accuracy   0.821$\\pm$0.089  0.775$\\pm$0.205   0.78$\\pm$0.198    0.71$\\pm$0.16   \n",
       "Precision  0.702$\\pm$0.223   0.77$\\pm$0.154  0.764$\\pm$0.149  0.668$\\pm$0.267   \n",
       "Recall     0.815$\\pm$0.146  0.675$\\pm$0.344  0.688$\\pm$0.303  0.654$\\pm$0.139   \n",
       "F1         0.728$\\pm$0.147  0.659$\\pm$0.236  0.684$\\pm$0.202  0.645$\\pm$0.191   \n",
       "\n",
       "                         1                2                0                1  \\\n",
       "model        Random Forest          XGBoost              MLP    Random Forest   \n",
       "AUC        0.781$\\pm$0.146  0.784$\\pm$0.148  0.799$\\pm$0.087  0.805$\\pm$0.104   \n",
       "Accuracy   0.745$\\pm$0.141  0.722$\\pm$0.151  0.754$\\pm$0.109  0.793$\\pm$0.091   \n",
       "Precision  0.733$\\pm$0.225  0.689$\\pm$0.208  0.604$\\pm$0.217  0.683$\\pm$0.201   \n",
       "Recall     0.664$\\pm$0.127  0.612$\\pm$0.185   0.698$\\pm$0.22  0.696$\\pm$0.216   \n",
       "F1          0.69$\\pm$0.169  0.639$\\pm$0.184  0.642$\\pm$0.204  0.681$\\pm$0.188   \n",
       "\n",
       "                         2                0                1                2  \n",
       "model              XGBoost              MLP    Random Forest          XGBoost  \n",
       "AUC        0.801$\\pm$0.085   0.81$\\pm$0.106  0.832$\\pm$0.117  0.828$\\pm$0.114  \n",
       "Accuracy   0.777$\\pm$0.088  0.762$\\pm$0.123  0.771$\\pm$0.143   0.76$\\pm$0.144  \n",
       "Precision   0.66$\\pm$0.209  0.658$\\pm$0.223  0.729$\\pm$0.185  0.704$\\pm$0.182  \n",
       "Recall      0.65$\\pm$0.208  0.722$\\pm$0.174  0.679$\\pm$0.228   0.65$\\pm$0.222  \n",
       "F1          0.648$\\pm$0.19  0.672$\\pm$0.174  0.677$\\pm$0.186  0.657$\\pm$0.179  "
      ]
     },
     "execution_count": 13,
     "metadata": {},
     "output_type": "execute_result"
    }
   ],
   "source": [
    "table"
   ]
  },
  {
   "cell_type": "code",
   "execution_count": 14,
   "metadata": {},
   "outputs": [],
   "source": [
    "table.to_latex(\"effectiveness_results_logreg.tex\", escape=False)"
   ]
  },
  {
   "cell_type": "markdown",
   "metadata": {},
   "source": [
    "## MLP"
   ]
  },
  {
   "cell_type": "code",
   "execution_count": 16,
   "metadata": {},
   "outputs": [],
   "source": [
    "sp = pd.read_csv(\n",
    "    \"../rq4/bias_symptoms_sp_mlp.csv\", index_col=0, header=[0, 1]\n",
    ").round(3)\n",
    "eo = pd.read_csv(\n",
    "    \"../rq4/bias_symptoms_eo_mlp.csv\", index_col=0, header=[0, 1]\n",
    ").round(3)\n",
    "ao = pd.read_csv(\n",
    "    \"../rq4/bias_symptoms_ao_mlp.csv\", index_col=0, header=[0, 1]\n",
    ").round(3)"
   ]
  },
  {
   "cell_type": "code",
   "execution_count": 17,
   "metadata": {},
   "outputs": [],
   "source": [
    "sp = process_table(sp)\n",
    "eo = process_table(eo)\n",
    "ao = process_table(ao)"
   ]
  },
  {
   "cell_type": "code",
   "execution_count": 18,
   "metadata": {},
   "outputs": [],
   "source": [
    "table = pd.concat([sp, eo, ao], axis=1)"
   ]
  },
  {
   "cell_type": "code",
   "execution_count": 19,
   "metadata": {},
   "outputs": [],
   "source": [
    "table.drop(['Accuracy', 'Precision', 'Recall', 'F1'], inplace=True)"
   ]
  },
  {
   "cell_type": "code",
   "execution_count": 20,
   "metadata": {},
   "outputs": [],
   "source": [
    "table.T.to_latex(\"effectiveness_results_mlp.tex\", escape=False)"
   ]
  },
  {
   "cell_type": "markdown",
   "metadata": {},
   "source": [
    "## Random Forest"
   ]
  },
  {
   "cell_type": "code",
   "execution_count": 22,
   "metadata": {},
   "outputs": [],
   "source": [
    "sp = pd.read_csv(\n",
    "    \"../rq4/bias_symptoms_sp_rf.csv\", index_col=0, header=[0, 1]\n",
    ").round(3)\n",
    "eo = pd.read_csv(\n",
    "    \"../rq4/bias_symptoms_eo_rf.csv\", index_col=0, header=[0, 1]\n",
    ").round(3)\n",
    "ao = pd.read_csv(\n",
    "    \"../rq4/bias_symptoms_ao_rf.csv\", index_col=0, header=[0, 1]\n",
    ").round(3)"
   ]
  },
  {
   "cell_type": "code",
   "execution_count": 23,
   "metadata": {},
   "outputs": [],
   "source": [
    "sp = process_table(sp)\n",
    "eo = process_table(eo)\n",
    "ao = process_table(ao)"
   ]
  },
  {
   "cell_type": "code",
   "execution_count": 25,
   "metadata": {},
   "outputs": [],
   "source": [
    "table = pd.concat([sp, eo, ao], axis=1)"
   ]
  },
  {
   "cell_type": "code",
   "execution_count": 26,
   "metadata": {},
   "outputs": [],
   "source": [
    "table.drop(['Accuracy', 'Precision', 'Recall', 'F1'], inplace=True)"
   ]
  },
  {
   "cell_type": "code",
   "execution_count": 27,
   "metadata": {},
   "outputs": [],
   "source": [
    "table.T.to_latex(\"effectiveness_results_rf.tex\", escape=False)"
   ]
  }
 ],
 "metadata": {
  "kernelspec": {
   "display_name": "bias",
   "language": "python",
   "name": "python3"
  },
  "language_info": {
   "codemirror_mode": {
    "name": "ipython",
    "version": 3
   },
   "file_extension": ".py",
   "mimetype": "text/x-python",
   "name": "python",
   "nbconvert_exporter": "python",
   "pygments_lexer": "ipython3",
   "version": "3.8.19"
  }
 },
 "nbformat": 4,
 "nbformat_minor": 2
}
