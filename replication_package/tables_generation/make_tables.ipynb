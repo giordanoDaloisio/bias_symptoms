{
 "cells": [
  {
   "cell_type": "code",
   "execution_count": 1,
   "metadata": {},
   "outputs": [],
   "source": [
    "import pandas as pd"
   ]
  },
  {
   "cell_type": "code",
   "execution_count": 2,
   "metadata": {},
   "outputs": [],
   "source": [
    "def process_table(sp):\n",
    "    sp[\"AP\"] = sp[(\"ap\", \"mean\")].astype(str) + \"$\\pm$\" + sp[(\"ap\", \"std\")].astype(str)\n",
    "    sp[\"Accuracy\"] = (\n",
    "        sp[(\"accuracy\", \"mean\")].astype(str)\n",
    "        + \"$\\pm$\"\n",
    "        + sp[(\"accuracy\", \"std\")].astype(str)\n",
    "    )\n",
    "    sp[\"Precision\"] = (\n",
    "        sp[(\"precision\", \"mean\")].astype(str)\n",
    "        + \"$\\pm$\"\n",
    "        + sp[(\"precision\", \"std\")].astype(str)\n",
    "    )\n",
    "    sp[\"Recall\"] = (\n",
    "        sp[(\"recall\", \"mean\")].astype(str) + \"$\\pm$\" + sp[(\"recall\", \"std\")].astype(str)\n",
    "    )\n",
    "    sp[\"F1\"] = sp[(\"f1\", \"mean\")].astype(str) + \"$\\pm$\" + sp[(\"f1\", \"std\")].astype(str)\n",
    "    sp.drop(\n",
    "        columns=[\n",
    "            (\"ap\", \"mean\"),\n",
    "            (\"ap\", \"std\"),\n",
    "            (\"accuracy\", \"mean\"),\n",
    "            (\"accuracy\", \"std\"),\n",
    "            (\"precision\", \"mean\"),\n",
    "            (\"precision\", \"std\"),\n",
    "            (\"recall\", \"mean\"),\n",
    "            (\"recall\", \"std\"),\n",
    "            (\"f1\", \"mean\"),\n",
    "            (\"f1\", \"std\"),\n",
    "        ],\n",
    "        inplace=True,\n",
    "    )\n",
    "    sp.columns = sp.columns.droplevel(1)\n",
    "    sp = sp.transpose()\n",
    "    return sp"
   ]
  },
  {
   "cell_type": "markdown",
   "metadata": {},
   "source": [
    "## Log Reg"
   ]
  },
  {
   "cell_type": "code",
   "execution_count": 3,
   "metadata": {},
   "outputs": [],
   "source": [
    "sp = pd.read_csv('../effectiveness_eval/bias_symptoms_sp.csv', index_col=0, header=[0,1]).round(3)\n",
    "eo = pd.read_csv(\n",
    "    \"../effectiveness_eval/bias_symptoms_eo.csv\", index_col=0, header=[0, 1]\n",
    ").round(3)\n",
    "ao = pd.read_csv(\n",
    "    \"../effectiveness_eval/bias_symptoms_ao.csv\", index_col=0, header=[0, 1]\n",
    ").round(3)\n",
    "full = pd.read_csv(\n",
    "    \"../effectiveness_eval/bias_symptoms_full.csv\", index_col=0, header=[0, 1]\n",
    ").round(3)"
   ]
  },
  {
   "cell_type": "code",
   "execution_count": 4,
   "metadata": {},
   "outputs": [],
   "source": [
    "sp = process_table(sp)"
   ]
  },
  {
   "cell_type": "code",
   "execution_count": 5,
   "metadata": {},
   "outputs": [],
   "source": [
    "eo = process_table(eo)\n",
    "ao = process_table(ao)\n",
    "full = process_table(full)"
   ]
  },
  {
   "cell_type": "code",
   "execution_count": 6,
   "metadata": {},
   "outputs": [],
   "source": [
    "table = pd.concat([sp, eo, ao, full], axis=1)"
   ]
  },
  {
   "cell_type": "code",
   "execution_count": 8,
   "metadata": {},
   "outputs": [
    {
     "data": {
      "text/html": [
       "<div>\n",
       "<style scoped>\n",
       "    .dataframe tbody tr th:only-of-type {\n",
       "        vertical-align: middle;\n",
       "    }\n",
       "\n",
       "    .dataframe tbody tr th {\n",
       "        vertical-align: top;\n",
       "    }\n",
       "\n",
       "    .dataframe thead th {\n",
       "        text-align: right;\n",
       "    }\n",
       "</style>\n",
       "<table border=\"1\" class=\"dataframe\">\n",
       "  <thead>\n",
       "    <tr style=\"text-align: right;\">\n",
       "      <th></th>\n",
       "      <th>0</th>\n",
       "      <th>1</th>\n",
       "      <th>2</th>\n",
       "      <th>0</th>\n",
       "      <th>1</th>\n",
       "      <th>2</th>\n",
       "      <th>0</th>\n",
       "      <th>1</th>\n",
       "      <th>2</th>\n",
       "      <th>0</th>\n",
       "      <th>1</th>\n",
       "      <th>2</th>\n",
       "    </tr>\n",
       "  </thead>\n",
       "  <tbody>\n",
       "    <tr>\n",
       "      <th>model</th>\n",
       "      <td>MLP</td>\n",
       "      <td>Random Forest</td>\n",
       "      <td>XGBoost</td>\n",
       "      <td>MLP</td>\n",
       "      <td>Random Forest</td>\n",
       "      <td>XGBoost</td>\n",
       "      <td>MLP</td>\n",
       "      <td>Random Forest</td>\n",
       "      <td>XGBoost</td>\n",
       "      <td>MLP</td>\n",
       "      <td>Random Forest</td>\n",
       "      <td>XGBoost</td>\n",
       "    </tr>\n",
       "    <tr>\n",
       "      <th>AP</th>\n",
       "      <td>0.71$\\pm$0.052</td>\n",
       "      <td>0.823$\\pm$0.075</td>\n",
       "      <td>0.783$\\pm$0.114</td>\n",
       "      <td>0.562$\\pm$0.234</td>\n",
       "      <td>0.646$\\pm$0.304</td>\n",
       "      <td>0.659$\\pm$0.299</td>\n",
       "      <td>0.673$\\pm$0.154</td>\n",
       "      <td>0.694$\\pm$0.152</td>\n",
       "      <td>0.701$\\pm$0.154</td>\n",
       "      <td>0.648$\\pm$0.166</td>\n",
       "      <td>0.721$\\pm$0.202</td>\n",
       "      <td>0.714$\\pm$0.197</td>\n",
       "    </tr>\n",
       "    <tr>\n",
       "      <th>Accuracy</th>\n",
       "      <td>0.695$\\pm$0.099</td>\n",
       "      <td>0.779$\\pm$0.077</td>\n",
       "      <td>0.766$\\pm$0.09</td>\n",
       "      <td>0.751$\\pm$0.078</td>\n",
       "      <td>0.741$\\pm$0.077</td>\n",
       "      <td>0.76$\\pm$0.072</td>\n",
       "      <td>0.676$\\pm$0.074</td>\n",
       "      <td>0.664$\\pm$0.087</td>\n",
       "      <td>0.654$\\pm$0.106</td>\n",
       "      <td>0.707$\\pm$0.085</td>\n",
       "      <td>0.728$\\pm$0.089</td>\n",
       "      <td>0.727$\\pm$0.099</td>\n",
       "    </tr>\n",
       "    <tr>\n",
       "      <th>Precision</th>\n",
       "      <td>0.684$\\pm$0.109</td>\n",
       "      <td>0.832$\\pm$0.043</td>\n",
       "      <td>0.797$\\pm$0.089</td>\n",
       "      <td>0.625$\\pm$0.244</td>\n",
       "      <td>0.636$\\pm$0.34</td>\n",
       "      <td>0.651$\\pm$0.319</td>\n",
       "      <td>0.604$\\pm$0.201</td>\n",
       "      <td>0.677$\\pm$0.175</td>\n",
       "      <td>0.687$\\pm$0.192</td>\n",
       "      <td>0.638$\\pm$0.182</td>\n",
       "      <td>0.715$\\pm$0.224</td>\n",
       "      <td>0.712$\\pm$0.214</td>\n",
       "    </tr>\n",
       "    <tr>\n",
       "      <th>Recall</th>\n",
       "      <td>0.692$\\pm$0.224</td>\n",
       "      <td>0.644$\\pm$0.164</td>\n",
       "      <td>0.666$\\pm$0.2</td>\n",
       "      <td>0.494$\\pm$0.208</td>\n",
       "      <td>0.494$\\pm$0.21</td>\n",
       "      <td>0.552$\\pm$0.177</td>\n",
       "      <td>0.721$\\pm$0.132</td>\n",
       "      <td>0.621$\\pm$0.202</td>\n",
       "      <td>0.655$\\pm$0.273</td>\n",
       "      <td>0.635$\\pm$0.206</td>\n",
       "      <td>0.586$\\pm$0.191</td>\n",
       "      <td>0.624$\\pm$0.211</td>\n",
       "    </tr>\n",
       "    <tr>\n",
       "      <th>F1</th>\n",
       "      <td>0.662$\\pm$0.106</td>\n",
       "      <td>0.715$\\pm$0.114</td>\n",
       "      <td>0.707$\\pm$0.133</td>\n",
       "      <td>0.542$\\pm$0.211</td>\n",
       "      <td>0.529$\\pm$0.264</td>\n",
       "      <td>0.579$\\pm$0.252</td>\n",
       "      <td>0.644$\\pm$0.15</td>\n",
       "      <td>0.609$\\pm$0.045</td>\n",
       "      <td>0.606$\\pm$0.072</td>\n",
       "      <td>0.616$\\pm$0.159</td>\n",
       "      <td>0.618$\\pm$0.174</td>\n",
       "      <td>0.631$\\pm$0.167</td>\n",
       "    </tr>\n",
       "  </tbody>\n",
       "</table>\n",
       "</div>"
      ],
      "text/plain": [
       "                         0                1                2                0  \\\n",
       "model                  MLP    Random Forest          XGBoost              MLP   \n",
       "AP          0.71$\\pm$0.052  0.823$\\pm$0.075  0.783$\\pm$0.114  0.562$\\pm$0.234   \n",
       "Accuracy   0.695$\\pm$0.099  0.779$\\pm$0.077   0.766$\\pm$0.09  0.751$\\pm$0.078   \n",
       "Precision  0.684$\\pm$0.109  0.832$\\pm$0.043  0.797$\\pm$0.089  0.625$\\pm$0.244   \n",
       "Recall     0.692$\\pm$0.224  0.644$\\pm$0.164    0.666$\\pm$0.2  0.494$\\pm$0.208   \n",
       "F1         0.662$\\pm$0.106  0.715$\\pm$0.114  0.707$\\pm$0.133  0.542$\\pm$0.211   \n",
       "\n",
       "                         1                2                0                1  \\\n",
       "model        Random Forest          XGBoost              MLP    Random Forest   \n",
       "AP         0.646$\\pm$0.304  0.659$\\pm$0.299  0.673$\\pm$0.154  0.694$\\pm$0.152   \n",
       "Accuracy   0.741$\\pm$0.077   0.76$\\pm$0.072  0.676$\\pm$0.074  0.664$\\pm$0.087   \n",
       "Precision   0.636$\\pm$0.34  0.651$\\pm$0.319  0.604$\\pm$0.201  0.677$\\pm$0.175   \n",
       "Recall      0.494$\\pm$0.21  0.552$\\pm$0.177  0.721$\\pm$0.132  0.621$\\pm$0.202   \n",
       "F1         0.529$\\pm$0.264  0.579$\\pm$0.252   0.644$\\pm$0.15  0.609$\\pm$0.045   \n",
       "\n",
       "                         2                0                1                2  \n",
       "model              XGBoost              MLP    Random Forest          XGBoost  \n",
       "AP         0.701$\\pm$0.154  0.648$\\pm$0.166  0.721$\\pm$0.202  0.714$\\pm$0.197  \n",
       "Accuracy   0.654$\\pm$0.106  0.707$\\pm$0.085  0.728$\\pm$0.089  0.727$\\pm$0.099  \n",
       "Precision  0.687$\\pm$0.192  0.638$\\pm$0.182  0.715$\\pm$0.224  0.712$\\pm$0.214  \n",
       "Recall     0.655$\\pm$0.273  0.635$\\pm$0.206  0.586$\\pm$0.191  0.624$\\pm$0.211  \n",
       "F1         0.606$\\pm$0.072  0.616$\\pm$0.159  0.618$\\pm$0.174  0.631$\\pm$0.167  "
      ]
     },
     "execution_count": 8,
     "metadata": {},
     "output_type": "execute_result"
    }
   ],
   "source": [
    "table"
   ]
  },
  {
   "cell_type": "code",
   "execution_count": 9,
   "metadata": {},
   "outputs": [],
   "source": [
    "table.to_latex(\"effectiveness_results_logreg.tex\", escape=False)"
   ]
  },
  {
   "cell_type": "markdown",
   "metadata": {},
   "source": [
    "## MLP"
   ]
  },
  {
   "cell_type": "code",
   "execution_count": 9,
   "metadata": {},
   "outputs": [],
   "source": [
    "sp = pd.read_csv(\n",
    "    \"../generability_eval/bias_symptoms_sp_mlp.csv\", index_col=0, header=[0, 1]\n",
    ").round(3)\n",
    "eo = pd.read_csv(\n",
    "    \"../generability_eval/bias_symptoms_eo_mlp.csv\", index_col=0, header=[0, 1]\n",
    ").round(3)\n",
    "ao = pd.read_csv(\n",
    "    \"../generability_eval/bias_symptoms_ao_mlp.csv\", index_col=0, header=[0, 1]\n",
    ").round(3)\n",
    "full = pd.read_csv(\n",
    "    \"../generability_eval/bias_symptoms_full_mlp.csv\", index_col=0, header=[0, 1]\n",
    ").round(3)"
   ]
  },
  {
   "cell_type": "code",
   "execution_count": 10,
   "metadata": {},
   "outputs": [],
   "source": [
    "sp = process_table(sp)\n",
    "eo = process_table(eo)\n",
    "ao = process_table(ao)\n",
    "full = process_table(full)"
   ]
  },
  {
   "cell_type": "code",
   "execution_count": 11,
   "metadata": {},
   "outputs": [],
   "source": [
    "table = pd.concat([sp, eo, ao, full], axis=1)"
   ]
  },
  {
   "cell_type": "code",
   "execution_count": 13,
   "metadata": {},
   "outputs": [],
   "source": [
    "table.drop(['Accuracy', 'Precision', 'Recall', 'F1'], inplace=True)"
   ]
  },
  {
   "cell_type": "code",
   "execution_count": 18,
   "metadata": {},
   "outputs": [],
   "source": [
    "table.T.to_latex(\"effectiveness_results_mlp.tex\", escape=False)"
   ]
  },
  {
   "cell_type": "markdown",
   "metadata": {},
   "source": [
    "## Random Forest"
   ]
  },
  {
   "cell_type": "code",
   "execution_count": 19,
   "metadata": {},
   "outputs": [],
   "source": [
    "sp = pd.read_csv(\n",
    "    \"../generability_eval/bias_symptoms_sp_rf.csv\", index_col=0, header=[0, 1]\n",
    ").round(3)\n",
    "eo = pd.read_csv(\n",
    "    \"../generability_eval/bias_symptoms_eo_rf.csv\", index_col=0, header=[0, 1]\n",
    ").round(3)\n",
    "ao = pd.read_csv(\n",
    "    \"../generability_eval/bias_symptoms_ao_rf.csv\", index_col=0, header=[0, 1]\n",
    ").round(3)\n",
    "full = pd.read_csv(\n",
    "    \"../generability_eval/bias_symptoms_full_rf.csv\", index_col=0, header=[0, 1]\n",
    ").round(3)"
   ]
  },
  {
   "cell_type": "code",
   "execution_count": 20,
   "metadata": {},
   "outputs": [],
   "source": [
    "sp = process_table(sp)\n",
    "eo = process_table(eo)\n",
    "ao = process_table(ao)\n",
    "full = process_table(full)"
   ]
  },
  {
   "cell_type": "code",
   "execution_count": 21,
   "metadata": {},
   "outputs": [],
   "source": [
    "table = pd.concat([sp, eo, ao, full], axis=1)"
   ]
  },
  {
   "cell_type": "code",
   "execution_count": 22,
   "metadata": {},
   "outputs": [],
   "source": [
    "table.drop(['Accuracy', 'Precision', 'Recall', 'F1'], inplace=True)"
   ]
  },
  {
   "cell_type": "code",
   "execution_count": 23,
   "metadata": {},
   "outputs": [],
   "source": [
    "table.T.to_latex(\"effectiveness_results_rf.tex\", escape=False)"
   ]
  }
 ],
 "metadata": {
  "kernelspec": {
   "display_name": "sens_disc",
   "language": "python",
   "name": "python3"
  },
  "language_info": {
   "codemirror_mode": {
    "name": "ipython",
    "version": 3
   },
   "file_extension": ".py",
   "mimetype": "text/x-python",
   "name": "python",
   "nbconvert_exporter": "python",
   "pygments_lexer": "ipython3",
   "version": "3.10.13"
  }
 },
 "nbformat": 4,
 "nbformat_minor": 2
}
