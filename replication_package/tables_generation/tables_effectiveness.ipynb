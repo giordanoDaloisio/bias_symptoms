{
 "cells": [
  {
   "cell_type": "code",
   "execution_count": 1,
   "metadata": {},
   "outputs": [],
   "source": [
    "import pandas as pd\n",
    "from scipy.stats import mannwhitneyu"
   ]
  },
  {
   "cell_type": "code",
   "execution_count": 30,
   "metadata": {},
   "outputs": [],
   "source": [
    "def parse_table(full):\n",
    "  bin_table = full[[\"pkg\", \"time\", \"approach\"]]\n",
    "  bin_table = bin_table.groupby(\"approach\").agg([\"mean\", \"std\"]).round(3)\n",
    "  # bin_table['CPU Consumption (pkg)'] = bin_table[('pkg', 'mean')].astype(str) + \" $\\pm$ \"+ bin_table[('pkg', 'std')].astype(str)\n",
    "  # bin_table = bin_table.drop(columns=[('pkg', 'mean'), ('pkg', 'std')])\n",
    "  # bin_table[\"Execution Time (s)\"] = (\n",
    "  #     bin_table[(\"time\", \"mean\")].astype(str)\n",
    "  #     + \" $\\pm$ \"\n",
    "  #     + bin_table[(\"time\", \"std\")].astype(str)\n",
    "  # )\n",
    "  # bin_table = bin_table.drop(columns=[(\"time\", \"mean\"), (\"time\", \"std\")])\n",
    "  return bin_table\n"
   ]
  },
  {
   "cell_type": "markdown",
   "metadata": {},
   "source": [
    "## Binary case"
   ]
  },
  {
   "cell_type": "code",
   "execution_count": 14,
   "metadata": {},
   "outputs": [],
   "source": [
    "manila = pd.read_csv(\"../execution_time_eval/manila_binary/measures.csv\")\n",
    "our = pd.read_csv(\"../execution_time_eval/our_approach_binary/measures.csv\")\n",
    "aequitas = pd.read_csv(\"../execution_time_eval/aequitas_binary/measures.csv\")\n",
    "manila_time = pd.read_fwf(\"../execution_time_eval/manila_binary/times.txt\", header=None)\n",
    "manila[\"time\"] = manila_time\n",
    "our_time = pd.read_fwf(\n",
    "    \"../execution_time_eval/our_approach_binary/times.txt\", header=None\n",
    ")\n",
    "our[\"time\"] = our_time\n",
    "aequitas_time = pd.read_fwf(\n",
    "    \"../execution_time_eval/aequitas_binary/times.txt\", header=None\n",
    ")\n",
    "aequitas[\"time\"] = aequitas_time\n",
    "manila[\"approach\"] = \"Baseline\"\n",
    "aequitas[\"approach\"] = \"Aequitas\"\n",
    "our[\"approach\"] = \"Our approach\"\n",
    "full = pd.concat([manila, aequitas, our])"
   ]
  },
  {
   "cell_type": "code",
   "execution_count": 31,
   "metadata": {},
   "outputs": [],
   "source": [
    "bin_table = parse_table(full)"
   ]
  },
  {
   "cell_type": "code",
   "execution_count": 32,
   "metadata": {},
   "outputs": [
    {
     "data": {
      "text/html": [
       "<div>\n",
       "<style scoped>\n",
       "    .dataframe tbody tr th:only-of-type {\n",
       "        vertical-align: middle;\n",
       "    }\n",
       "\n",
       "    .dataframe tbody tr th {\n",
       "        vertical-align: top;\n",
       "    }\n",
       "\n",
       "    .dataframe thead tr th {\n",
       "        text-align: left;\n",
       "    }\n",
       "\n",
       "    .dataframe thead tr:last-of-type th {\n",
       "        text-align: right;\n",
       "    }\n",
       "</style>\n",
       "<table border=\"1\" class=\"dataframe\">\n",
       "  <thead>\n",
       "    <tr>\n",
       "      <th></th>\n",
       "      <th colspan=\"2\" halign=\"left\">pkg</th>\n",
       "      <th colspan=\"2\" halign=\"left\">time</th>\n",
       "    </tr>\n",
       "    <tr>\n",
       "      <th></th>\n",
       "      <th>mean</th>\n",
       "      <th>std</th>\n",
       "      <th>mean</th>\n",
       "      <th>std</th>\n",
       "    </tr>\n",
       "    <tr>\n",
       "      <th>approach</th>\n",
       "      <th></th>\n",
       "      <th></th>\n",
       "      <th></th>\n",
       "      <th></th>\n",
       "    </tr>\n",
       "  </thead>\n",
       "  <tbody>\n",
       "    <tr>\n",
       "      <th>Aequitas</th>\n",
       "      <td>2.857494e+06</td>\n",
       "      <td>2.809346e+06</td>\n",
       "      <td>0.105</td>\n",
       "      <td>0.089</td>\n",
       "    </tr>\n",
       "    <tr>\n",
       "      <th>Baseline</th>\n",
       "      <td>1.112026e+07</td>\n",
       "      <td>1.555398e+07</td>\n",
       "      <td>0.520</td>\n",
       "      <td>0.723</td>\n",
       "    </tr>\n",
       "    <tr>\n",
       "      <th>Our approach</th>\n",
       "      <td>1.812770e+06</td>\n",
       "      <td>1.749259e+06</td>\n",
       "      <td>0.069</td>\n",
       "      <td>0.070</td>\n",
       "    </tr>\n",
       "  </tbody>\n",
       "</table>\n",
       "</div>"
      ],
      "text/plain": [
       "                       pkg                 time       \n",
       "                      mean           std   mean    std\n",
       "approach                                              \n",
       "Aequitas      2.857494e+06  2.809346e+06  0.105  0.089\n",
       "Baseline      1.112026e+07  1.555398e+07  0.520  0.723\n",
       "Our approach  1.812770e+06  1.749259e+06  0.069  0.070"
      ]
     },
     "execution_count": 32,
     "metadata": {},
     "output_type": "execute_result"
    }
   ],
   "source": [
    "bin_table"
   ]
  },
  {
   "cell_type": "markdown",
   "metadata": {},
   "source": [
    "## All data"
   ]
  },
  {
   "cell_type": "code",
   "execution_count": 33,
   "metadata": {},
   "outputs": [],
   "source": [
    "manila = pd.read_csv(\"../execution_time_eval/manila_full/measures.csv\")\n",
    "our = pd.read_csv(\"../execution_time_eval/our_approach_full/measures.csv\")\n",
    "manila_time = pd.read_fwf(\"../execution_time_eval/manila_full/times.txt\", header=None)\n",
    "manila[\"time\"] = manila_time\n",
    "our_time = pd.read_fwf(\n",
    "    \"../execution_time_eval/our_approach_full/times.txt\", header=None\n",
    ")\n",
    "our[\"time\"] = our_time\n",
    "manila[\"approach\"] = \"Baseline\"\n",
    "our[\"approach\"] = \"Our approach\"\n",
    "full = pd.concat([manila, our])"
   ]
  },
  {
   "cell_type": "code",
   "execution_count": 34,
   "metadata": {},
   "outputs": [
    {
     "data": {
      "text/html": [
       "<div>\n",
       "<style scoped>\n",
       "    .dataframe tbody tr th:only-of-type {\n",
       "        vertical-align: middle;\n",
       "    }\n",
       "\n",
       "    .dataframe tbody tr th {\n",
       "        vertical-align: top;\n",
       "    }\n",
       "\n",
       "    .dataframe thead tr th {\n",
       "        text-align: left;\n",
       "    }\n",
       "\n",
       "    .dataframe thead tr:last-of-type th {\n",
       "        text-align: right;\n",
       "    }\n",
       "</style>\n",
       "<table border=\"1\" class=\"dataframe\">\n",
       "  <thead>\n",
       "    <tr>\n",
       "      <th></th>\n",
       "      <th colspan=\"2\" halign=\"left\">pkg</th>\n",
       "      <th colspan=\"2\" halign=\"left\">time</th>\n",
       "    </tr>\n",
       "    <tr>\n",
       "      <th></th>\n",
       "      <th>mean</th>\n",
       "      <th>std</th>\n",
       "      <th>mean</th>\n",
       "      <th>std</th>\n",
       "    </tr>\n",
       "    <tr>\n",
       "      <th>approach</th>\n",
       "      <th></th>\n",
       "      <th></th>\n",
       "      <th></th>\n",
       "      <th></th>\n",
       "    </tr>\n",
       "  </thead>\n",
       "  <tbody>\n",
       "    <tr>\n",
       "      <th>Baseline</th>\n",
       "      <td>1.769408e+08</td>\n",
       "      <td>7.259604e+08</td>\n",
       "      <td>9.940</td>\n",
       "      <td>40.948</td>\n",
       "    </tr>\n",
       "    <tr>\n",
       "      <th>Our approach</th>\n",
       "      <td>2.513731e+06</td>\n",
       "      <td>8.561106e+06</td>\n",
       "      <td>0.119</td>\n",
       "      <td>0.399</td>\n",
       "    </tr>\n",
       "  </tbody>\n",
       "</table>\n",
       "</div>"
      ],
      "text/plain": [
       "                       pkg                 time        \n",
       "                      mean           std   mean     std\n",
       "approach                                               \n",
       "Baseline      1.769408e+08  7.259604e+08  9.940  40.948\n",
       "Our approach  2.513731e+06  8.561106e+06  0.119   0.399"
      ]
     },
     "execution_count": 34,
     "metadata": {},
     "output_type": "execute_result"
    }
   ],
   "source": [
    "parse_table(full)"
   ]
  }
 ],
 "metadata": {
  "kernelspec": {
   "display_name": "sens_disc",
   "language": "python",
   "name": "python3"
  },
  "language_info": {
   "codemirror_mode": {
    "name": "ipython",
    "version": 3
   },
   "file_extension": ".py",
   "mimetype": "text/x-python",
   "name": "python",
   "nbconvert_exporter": "python",
   "pygments_lexer": "ipython3",
   "version": "3.10.13"
  }
 },
 "nbformat": 4,
 "nbformat_minor": 2
}
