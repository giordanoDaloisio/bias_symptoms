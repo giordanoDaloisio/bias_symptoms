{
 "cells": [
  {
   "cell_type": "code",
   "execution_count": 2,
   "id": "39bc6f43",
   "metadata": {},
   "outputs": [],
   "source": [
    "import pandas as pd"
   ]
  },
  {
   "cell_type": "code",
   "execution_count": 3,
   "id": "8205f814",
   "metadata": {},
   "outputs": [],
   "source": [
    "stats = pd.read_csv('data_stats.csv')"
   ]
  },
  {
   "cell_type": "code",
   "execution_count": 21,
   "id": "ff3e3231",
   "metadata": {},
   "outputs": [],
   "source": [
    "stats[stats['Unbalance'] < 0.3]['File'].to_csv('balanced.csv', index=False)"
   ]
  },
  {
   "cell_type": "code",
   "execution_count": 22,
   "id": "46dc76e7",
   "metadata": {},
   "outputs": [],
   "source": [
    "stats[stats['Unbalance'] >= 0.3]['File'].to_csv('unbalanced.csv', index=False)"
   ]
  },
  {
   "cell_type": "code",
   "execution_count": null,
   "id": "7d970983",
   "metadata": {},
   "outputs": [
    {
     "data": {
      "application/vnd.microsoft.datawrangler.viewer.v0+json": {
       "columns": [
        {
         "name": "index",
         "rawType": "object",
         "type": "string"
        },
        {
         "name": "Noise",
         "rawType": "float64",
         "type": "float"
        }
       ],
       "ref": "072b295a-8cc1-4e14-bfcd-46b518a3c6c5",
       "rows": [
        [
         "count",
         "24.0"
        ],
        [
         "mean",
         "0.3620337177365913"
        ],
        [
         "std",
         "0.2013933318148329"
        ],
        [
         "min",
         "0.0"
        ],
        [
         "25%",
         "0.26473296359955306"
        ],
        [
         "50%",
         "0.388836463652255"
        ],
        [
         "75%",
         "0.47223696416657446"
        ],
        [
         "max",
         "0.7212691356397086"
        ]
       ],
       "shape": {
        "columns": 1,
        "rows": 8
       }
      },
      "text/plain": [
       "count    24.000000\n",
       "mean      0.362034\n",
       "std       0.201393\n",
       "min       0.000000\n",
       "25%       0.264733\n",
       "50%       0.388836\n",
       "75%       0.472237\n",
       "max       0.721269\n",
       "Name: Noise, dtype: float64"
      ]
     },
     "execution_count": 15,
     "metadata": {},
     "output_type": "execute_result"
    }
   ],
   "source": [
    "stats['Noise'].describe()"
   ]
  },
  {
   "cell_type": "code",
   "execution_count": 23,
   "id": "cc6799c4",
   "metadata": {},
   "outputs": [],
   "source": [
    "stats[stats['Noise'] >= 0.3].to_csv('noisy.csv', index=False)\n",
    "stats[stats['Noise'] < 0.3].to_csv('clean.csv', index=False)"
   ]
  }
 ],
 "metadata": {
  "kernelspec": {
   "display_name": "ds",
   "language": "python",
   "name": "python3"
  },
  "language_info": {
   "codemirror_mode": {
    "name": "ipython",
    "version": 3
   },
   "file_extension": ".py",
   "mimetype": "text/x-python",
   "name": "python",
   "nbconvert_exporter": "python",
   "pygments_lexer": "ipython3",
   "version": "3.10.16"
  }
 },
 "nbformat": 4,
 "nbformat_minor": 5
}
