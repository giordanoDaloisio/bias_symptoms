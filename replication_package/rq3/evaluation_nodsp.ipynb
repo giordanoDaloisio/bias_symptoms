{
 "cells": [
  {
   "cell_type": "code",
   "execution_count": 25,
   "metadata": {},
   "outputs": [],
   "source": [
    "import matplotlib.pyplot as plt\n",
    "import pandas as pd\n",
    "import seaborn as sns\n",
    "from scipy.stats import kruskal, mannwhitneyu\n",
    "from sklearn.ensemble import RandomForestClassifier\n",
    "from sklearn.metrics import (accuracy_score, average_precision_score, f1_score,\n",
    "                             precision_score, recall_score, matthews_corrcoef, roc_auc_score)\n",
    "from sklearn.model_selection import KFold\n",
    "from sklearn.neural_network import MLPClassifier\n",
    "from xgboost import XGBClassifier\n",
    "from joblib import load\n",
    "\n",
    "sns.set_theme(style = 'whitegrid', context='paper', palette='Greys', font_scale=1.5)"
   ]
  },
  {
   "cell_type": "code",
   "execution_count": 26,
   "metadata": {},
   "outputs": [],
   "source": [
    "data = pd.read_csv('../data/bias_symptoms_logreg_reduced.csv', index_col=[0,1])\n",
    "data.index = data.index.droplevel(1)\n",
    "labels = ['statistical_parity', 'equal_opportunity', 'average_odds']"
   ]
  },
  {
   "cell_type": "code",
   "execution_count": 29,
   "metadata": {},
   "outputs": [],
   "source": [
    "def evaluate_methods(train, test, label, mlp_test_ap, rf_test_ap, xgb_test_ap, mlp_test_prec, rf_test_prec, xgb_test_prec, mlp_test_rec, rf_test_rec, xgb_test_rec, mlp_test_f1, rf_test_f1, xgb_test_f1, mlp_test_acc, rf_test_acc, xgb_test_acc, mlp_sp, rf_sp, xgb_sp):\n",
    "    mlp_sp.fit(train.drop(columns=label), train[label])\n",
    "    rf_sp.fit(train.drop(columns=label), train[label])\n",
    "    xgb_sp.fit(train.drop(columns=label), train[label])\n",
    "\n",
    "    # mlp_test_sp = mlp_sp.predict_proba(test.drop(columns=label))\n",
    "    # rf_test_sp = rf_sp.predict_proba(test.drop(columns=label))\n",
    "    # xgb_test_sp = xgb_sp.predict_proba(test.drop(columns=label))\n",
    "\n",
    "    mlp_test_pred_sp = mlp_sp.predict(test.drop(columns=label))\n",
    "    rf_test_pred_sp = rf_sp.predict(test.drop(columns=label))\n",
    "    xgb_test_pred_sp = xgb_sp.predict(test.drop(columns=label))\n",
    "\n",
    "    # mlp_test_ap.append(roc_auc_score(test[label], mlp_test_sp[:, 1]))\n",
    "    # rf_test_ap.append(roc_auc_score(test[label], rf_test_sp[:, 1]))\n",
    "    # xgb_test_ap.append(roc_auc_score(test[label], xgb_test_sp[:, 1]))\n",
    "\n",
    "    mlp_test_prec.append(precision_score(test[label], mlp_test_pred_sp))\n",
    "    rf_test_prec.append(precision_score(test[label], rf_test_pred_sp))\n",
    "    xgb_test_prec.append(precision_score(test[label], xgb_test_pred_sp))\n",
    "\n",
    "    mlp_test_rec.append(recall_score(test[label], mlp_test_pred_sp))\n",
    "    rf_test_rec.append(recall_score(test[label], rf_test_pred_sp))\n",
    "    xgb_test_rec.append(recall_score(test[label], xgb_test_pred_sp))\n",
    "\n",
    "    mlp_test_f1.append(f1_score(test[label], mlp_test_pred_sp))\n",
    "    rf_test_f1.append(f1_score(test[label], rf_test_pred_sp))\n",
    "    xgb_test_f1.append(f1_score(test[label], xgb_test_pred_sp))\n",
    "\n",
    "    mlp_test_acc.append(accuracy_score(test[label], mlp_test_pred_sp))\n",
    "    rf_test_acc.append(accuracy_score(test[label], rf_test_pred_sp))\n",
    "    xgb_test_acc.append(accuracy_score(test[label], xgb_test_pred_sp))"
   ]
  },
  {
   "cell_type": "code",
   "execution_count": 30,
   "metadata": {},
   "outputs": [
    {
     "name": "stdout",
     "output_type": "stream",
     "text": [
      "Index(['arrhythmia', 'german', 'student', 'adult', 'park', 'wine', 'placement',\n",
      "       'hearth', 'resyduo', 'us', 'cmc', 'law', 'medical', 'vaccine', 'compas',\n",
      "       'obesity', 'ricci', 'credit', 'bank', 'health', 'diabetic', 'crime',\n",
      "       'ibm'],\n",
      "      dtype='object', name='data')\n",
      "Index(['drug'], dtype='object', name='data')\n",
      "Train size:  5910\n",
      "Test size:  20\n"
     ]
    },
    {
     "name": "stderr",
     "output_type": "stream",
     "text": [
      "/Users/giord/miniconda3/envs/ds/lib/python3.10/site-packages/sklearn/metrics/_classification.py:1531: UndefinedMetricWarning: Precision is ill-defined and being set to 0.0 due to no predicted samples. Use `zero_division` parameter to control this behavior.\n",
      "  _warn_prf(average, modifier, f\"{metric.capitalize()} is\", len(result))\n"
     ]
    },
    {
     "name": "stdout",
     "output_type": "stream",
     "text": [
      "Index(['arrhythmia', 'german', 'student', 'adult', 'park', 'wine', 'placement',\n",
      "       'hearth', 'drug', 'resyduo', 'us', 'cmc', 'law', 'medical', 'vaccine',\n",
      "       'compas', 'ricci', 'credit', 'bank', 'health', 'diabetic', 'crime',\n",
      "       'ibm'],\n",
      "      dtype='object', name='data')\n",
      "Index(['obesity'], dtype='object', name='data')\n",
      "Train size:  5870\n",
      "Test size:  60\n",
      "Index(['german', 'student', 'adult', 'park', 'wine', 'placement', 'hearth',\n",
      "       'drug', 'resyduo', 'us', 'cmc', 'law', 'medical', 'vaccine', 'compas',\n",
      "       'obesity', 'ricci', 'credit', 'bank', 'health', 'diabetic', 'crime',\n",
      "       'ibm'],\n",
      "      dtype='object', name='data')\n",
      "Index(['arrhythmia'], dtype='object', name='data')\n",
      "Train size:  5612\n",
      "Test size:  318\n",
      "Index(['arrhythmia', 'german', 'student', 'adult', 'park', 'wine', 'placement',\n",
      "       'hearth', 'drug', 'resyduo', 'us', 'cmc', 'law', 'medical', 'vaccine',\n",
      "       'compas', 'obesity', 'ricci', 'bank', 'health', 'diabetic', 'crime',\n",
      "       'ibm'],\n",
      "      dtype='object', name='data')\n",
      "Index(['credit'], dtype='object', name='data')\n",
      "Train size:  5920\n",
      "Test size:  10\n"
     ]
    },
    {
     "name": "stderr",
     "output_type": "stream",
     "text": [
      "/Users/giord/miniconda3/envs/ds/lib/python3.10/site-packages/sklearn/metrics/_classification.py:1531: UndefinedMetricWarning: Precision is ill-defined and being set to 0.0 due to no predicted samples. Use `zero_division` parameter to control this behavior.\n",
      "  _warn_prf(average, modifier, f\"{metric.capitalize()} is\", len(result))\n",
      "/Users/giord/miniconda3/envs/ds/lib/python3.10/site-packages/sklearn/metrics/_classification.py:1531: UndefinedMetricWarning: Precision is ill-defined and being set to 0.0 due to no predicted samples. Use `zero_division` parameter to control this behavior.\n",
      "  _warn_prf(average, modifier, f\"{metric.capitalize()} is\", len(result))\n",
      "/Users/giord/miniconda3/envs/ds/lib/python3.10/site-packages/sklearn/metrics/_classification.py:1531: UndefinedMetricWarning: Precision is ill-defined and being set to 0.0 due to no predicted samples. Use `zero_division` parameter to control this behavior.\n",
      "  _warn_prf(average, modifier, f\"{metric.capitalize()} is\", len(result))\n",
      "/Users/giord/miniconda3/envs/ds/lib/python3.10/site-packages/sklearn/metrics/_classification.py:1531: UndefinedMetricWarning: Recall is ill-defined and being set to 0.0 due to no true samples. Use `zero_division` parameter to control this behavior.\n",
      "  _warn_prf(average, modifier, f\"{metric.capitalize()} is\", len(result))\n",
      "/Users/giord/miniconda3/envs/ds/lib/python3.10/site-packages/sklearn/metrics/_classification.py:1531: UndefinedMetricWarning: Recall is ill-defined and being set to 0.0 due to no true samples. Use `zero_division` parameter to control this behavior.\n",
      "  _warn_prf(average, modifier, f\"{metric.capitalize()} is\", len(result))\n",
      "/Users/giord/miniconda3/envs/ds/lib/python3.10/site-packages/sklearn/metrics/_classification.py:1531: UndefinedMetricWarning: Recall is ill-defined and being set to 0.0 due to no true samples. Use `zero_division` parameter to control this behavior.\n",
      "  _warn_prf(average, modifier, f\"{metric.capitalize()} is\", len(result))\n",
      "/Users/giord/miniconda3/envs/ds/lib/python3.10/site-packages/sklearn/metrics/_classification.py:1531: UndefinedMetricWarning: F-score is ill-defined and being set to 0.0 due to no true nor predicted samples. Use `zero_division` parameter to control this behavior.\n",
      "  _warn_prf(average, modifier, f\"{metric.capitalize()} is\", len(result))\n",
      "/Users/giord/miniconda3/envs/ds/lib/python3.10/site-packages/sklearn/metrics/_classification.py:1531: UndefinedMetricWarning: F-score is ill-defined and being set to 0.0 due to no true nor predicted samples. Use `zero_division` parameter to control this behavior.\n",
      "  _warn_prf(average, modifier, f\"{metric.capitalize()} is\", len(result))\n",
      "/Users/giord/miniconda3/envs/ds/lib/python3.10/site-packages/sklearn/metrics/_classification.py:1531: UndefinedMetricWarning: F-score is ill-defined and being set to 0.0 due to no true nor predicted samples. Use `zero_division` parameter to control this behavior.\n",
      "  _warn_prf(average, modifier, f\"{metric.capitalize()} is\", len(result))\n",
      "/Users/giord/miniconda3/envs/ds/lib/python3.10/site-packages/sklearn/metrics/_classification.py:1531: UndefinedMetricWarning: Precision is ill-defined and being set to 0.0 due to no predicted samples. Use `zero_division` parameter to control this behavior.\n",
      "  _warn_prf(average, modifier, f\"{metric.capitalize()} is\", len(result))\n",
      "/Users/giord/miniconda3/envs/ds/lib/python3.10/site-packages/sklearn/metrics/_classification.py:1531: UndefinedMetricWarning: Precision is ill-defined and being set to 0.0 due to no predicted samples. Use `zero_division` parameter to control this behavior.\n",
      "  _warn_prf(average, modifier, f\"{metric.capitalize()} is\", len(result))\n",
      "/Users/giord/miniconda3/envs/ds/lib/python3.10/site-packages/sklearn/metrics/_classification.py:1531: UndefinedMetricWarning: Precision is ill-defined and being set to 0.0 due to no predicted samples. Use `zero_division` parameter to control this behavior.\n",
      "  _warn_prf(average, modifier, f\"{metric.capitalize()} is\", len(result))\n",
      "/Users/giord/miniconda3/envs/ds/lib/python3.10/site-packages/sklearn/metrics/_classification.py:1531: UndefinedMetricWarning: Recall is ill-defined and being set to 0.0 due to no true samples. Use `zero_division` parameter to control this behavior.\n",
      "  _warn_prf(average, modifier, f\"{metric.capitalize()} is\", len(result))\n",
      "/Users/giord/miniconda3/envs/ds/lib/python3.10/site-packages/sklearn/metrics/_classification.py:1531: UndefinedMetricWarning: Recall is ill-defined and being set to 0.0 due to no true samples. Use `zero_division` parameter to control this behavior.\n",
      "  _warn_prf(average, modifier, f\"{metric.capitalize()} is\", len(result))\n",
      "/Users/giord/miniconda3/envs/ds/lib/python3.10/site-packages/sklearn/metrics/_classification.py:1531: UndefinedMetricWarning: Recall is ill-defined and being set to 0.0 due to no true samples. Use `zero_division` parameter to control this behavior.\n",
      "  _warn_prf(average, modifier, f\"{metric.capitalize()} is\", len(result))\n",
      "/Users/giord/miniconda3/envs/ds/lib/python3.10/site-packages/sklearn/metrics/_classification.py:1531: UndefinedMetricWarning: F-score is ill-defined and being set to 0.0 due to no true nor predicted samples. Use `zero_division` parameter to control this behavior.\n",
      "  _warn_prf(average, modifier, f\"{metric.capitalize()} is\", len(result))\n",
      "/Users/giord/miniconda3/envs/ds/lib/python3.10/site-packages/sklearn/metrics/_classification.py:1531: UndefinedMetricWarning: F-score is ill-defined and being set to 0.0 due to no true nor predicted samples. Use `zero_division` parameter to control this behavior.\n",
      "  _warn_prf(average, modifier, f\"{metric.capitalize()} is\", len(result))\n",
      "/Users/giord/miniconda3/envs/ds/lib/python3.10/site-packages/sklearn/metrics/_classification.py:1531: UndefinedMetricWarning: F-score is ill-defined and being set to 0.0 due to no true nor predicted samples. Use `zero_division` parameter to control this behavior.\n",
      "  _warn_prf(average, modifier, f\"{metric.capitalize()} is\", len(result))\n",
      "/Users/giord/miniconda3/envs/ds/lib/python3.10/site-packages/sklearn/metrics/_classification.py:1531: UndefinedMetricWarning: Precision is ill-defined and being set to 0.0 due to no predicted samples. Use `zero_division` parameter to control this behavior.\n",
      "  _warn_prf(average, modifier, f\"{metric.capitalize()} is\", len(result))\n",
      "/Users/giord/miniconda3/envs/ds/lib/python3.10/site-packages/sklearn/metrics/_classification.py:1531: UndefinedMetricWarning: Precision is ill-defined and being set to 0.0 due to no predicted samples. Use `zero_division` parameter to control this behavior.\n",
      "  _warn_prf(average, modifier, f\"{metric.capitalize()} is\", len(result))\n",
      "/Users/giord/miniconda3/envs/ds/lib/python3.10/site-packages/sklearn/metrics/_classification.py:1531: UndefinedMetricWarning: Precision is ill-defined and being set to 0.0 due to no predicted samples. Use `zero_division` parameter to control this behavior.\n",
      "  _warn_prf(average, modifier, f\"{metric.capitalize()} is\", len(result))\n",
      "/Users/giord/miniconda3/envs/ds/lib/python3.10/site-packages/sklearn/metrics/_classification.py:1531: UndefinedMetricWarning: Recall is ill-defined and being set to 0.0 due to no true samples. Use `zero_division` parameter to control this behavior.\n",
      "  _warn_prf(average, modifier, f\"{metric.capitalize()} is\", len(result))\n",
      "/Users/giord/miniconda3/envs/ds/lib/python3.10/site-packages/sklearn/metrics/_classification.py:1531: UndefinedMetricWarning: Recall is ill-defined and being set to 0.0 due to no true samples. Use `zero_division` parameter to control this behavior.\n",
      "  _warn_prf(average, modifier, f\"{metric.capitalize()} is\", len(result))\n",
      "/Users/giord/miniconda3/envs/ds/lib/python3.10/site-packages/sklearn/metrics/_classification.py:1531: UndefinedMetricWarning: Recall is ill-defined and being set to 0.0 due to no true samples. Use `zero_division` parameter to control this behavior.\n",
      "  _warn_prf(average, modifier, f\"{metric.capitalize()} is\", len(result))\n",
      "/Users/giord/miniconda3/envs/ds/lib/python3.10/site-packages/sklearn/metrics/_classification.py:1531: UndefinedMetricWarning: F-score is ill-defined and being set to 0.0 due to no true nor predicted samples. Use `zero_division` parameter to control this behavior.\n",
      "  _warn_prf(average, modifier, f\"{metric.capitalize()} is\", len(result))\n",
      "/Users/giord/miniconda3/envs/ds/lib/python3.10/site-packages/sklearn/metrics/_classification.py:1531: UndefinedMetricWarning: F-score is ill-defined and being set to 0.0 due to no true nor predicted samples. Use `zero_division` parameter to control this behavior.\n",
      "  _warn_prf(average, modifier, f\"{metric.capitalize()} is\", len(result))\n",
      "/Users/giord/miniconda3/envs/ds/lib/python3.10/site-packages/sklearn/metrics/_classification.py:1531: UndefinedMetricWarning: F-score is ill-defined and being set to 0.0 due to no true nor predicted samples. Use `zero_division` parameter to control this behavior.\n",
      "  _warn_prf(average, modifier, f\"{metric.capitalize()} is\", len(result))\n"
     ]
    },
    {
     "name": "stdout",
     "output_type": "stream",
     "text": [
      "Index(['arrhythmia', 'german', 'student', 'adult', 'park', 'wine', 'placement',\n",
      "       'hearth', 'drug', 'resyduo', 'us', 'law', 'medical', 'vaccine',\n",
      "       'compas', 'obesity', 'ricci', 'credit', 'bank', 'health', 'diabetic',\n",
      "       'crime', 'ibm'],\n",
      "      dtype='object', name='data')\n",
      "Index(['cmc'], dtype='object', name='data')\n",
      "Train size:  5900\n",
      "Test size:  30\n",
      "Index(['arrhythmia', 'german', 'student', 'adult', 'park', 'wine', 'placement',\n",
      "       'hearth', 'drug', 'us', 'cmc', 'law', 'medical', 'vaccine', 'compas',\n",
      "       'obesity', 'ricci', 'credit', 'bank', 'health', 'diabetic', 'crime',\n",
      "       'ibm'],\n",
      "      dtype='object', name='data')\n",
      "Index(['resyduo'], dtype='object', name='data')\n",
      "Train size:  5920\n",
      "Test size:  10\n"
     ]
    },
    {
     "name": "stderr",
     "output_type": "stream",
     "text": [
      "/Users/giord/miniconda3/envs/ds/lib/python3.10/site-packages/sklearn/metrics/_classification.py:1531: UndefinedMetricWarning: Precision is ill-defined and being set to 0.0 due to no predicted samples. Use `zero_division` parameter to control this behavior.\n",
      "  _warn_prf(average, modifier, f\"{metric.capitalize()} is\", len(result))\n",
      "/Users/giord/miniconda3/envs/ds/lib/python3.10/site-packages/sklearn/metrics/_classification.py:1531: UndefinedMetricWarning: Precision is ill-defined and being set to 0.0 due to no predicted samples. Use `zero_division` parameter to control this behavior.\n",
      "  _warn_prf(average, modifier, f\"{metric.capitalize()} is\", len(result))\n",
      "/Users/giord/miniconda3/envs/ds/lib/python3.10/site-packages/sklearn/metrics/_classification.py:1531: UndefinedMetricWarning: Precision is ill-defined and being set to 0.0 due to no predicted samples. Use `zero_division` parameter to control this behavior.\n",
      "  _warn_prf(average, modifier, f\"{metric.capitalize()} is\", len(result))\n",
      "/Users/giord/miniconda3/envs/ds/lib/python3.10/site-packages/sklearn/metrics/_classification.py:1531: UndefinedMetricWarning: Recall is ill-defined and being set to 0.0 due to no true samples. Use `zero_division` parameter to control this behavior.\n",
      "  _warn_prf(average, modifier, f\"{metric.capitalize()} is\", len(result))\n",
      "/Users/giord/miniconda3/envs/ds/lib/python3.10/site-packages/sklearn/metrics/_classification.py:1531: UndefinedMetricWarning: Recall is ill-defined and being set to 0.0 due to no true samples. Use `zero_division` parameter to control this behavior.\n",
      "  _warn_prf(average, modifier, f\"{metric.capitalize()} is\", len(result))\n",
      "/Users/giord/miniconda3/envs/ds/lib/python3.10/site-packages/sklearn/metrics/_classification.py:1531: UndefinedMetricWarning: Recall is ill-defined and being set to 0.0 due to no true samples. Use `zero_division` parameter to control this behavior.\n",
      "  _warn_prf(average, modifier, f\"{metric.capitalize()} is\", len(result))\n",
      "/Users/giord/miniconda3/envs/ds/lib/python3.10/site-packages/sklearn/metrics/_classification.py:1531: UndefinedMetricWarning: F-score is ill-defined and being set to 0.0 due to no true nor predicted samples. Use `zero_division` parameter to control this behavior.\n",
      "  _warn_prf(average, modifier, f\"{metric.capitalize()} is\", len(result))\n",
      "/Users/giord/miniconda3/envs/ds/lib/python3.10/site-packages/sklearn/metrics/_classification.py:1531: UndefinedMetricWarning: F-score is ill-defined and being set to 0.0 due to no true nor predicted samples. Use `zero_division` parameter to control this behavior.\n",
      "  _warn_prf(average, modifier, f\"{metric.capitalize()} is\", len(result))\n",
      "/Users/giord/miniconda3/envs/ds/lib/python3.10/site-packages/sklearn/metrics/_classification.py:1531: UndefinedMetricWarning: F-score is ill-defined and being set to 0.0 due to no true nor predicted samples. Use `zero_division` parameter to control this behavior.\n",
      "  _warn_prf(average, modifier, f\"{metric.capitalize()} is\", len(result))\n",
      "/Users/giord/miniconda3/envs/ds/lib/python3.10/site-packages/sklearn/metrics/_classification.py:1531: UndefinedMetricWarning: Precision is ill-defined and being set to 0.0 due to no predicted samples. Use `zero_division` parameter to control this behavior.\n",
      "  _warn_prf(average, modifier, f\"{metric.capitalize()} is\", len(result))\n",
      "/Users/giord/miniconda3/envs/ds/lib/python3.10/site-packages/sklearn/metrics/_classification.py:1531: UndefinedMetricWarning: Precision is ill-defined and being set to 0.0 due to no predicted samples. Use `zero_division` parameter to control this behavior.\n",
      "  _warn_prf(average, modifier, f\"{metric.capitalize()} is\", len(result))\n",
      "/Users/giord/miniconda3/envs/ds/lib/python3.10/site-packages/sklearn/metrics/_classification.py:1531: UndefinedMetricWarning: Precision is ill-defined and being set to 0.0 due to no predicted samples. Use `zero_division` parameter to control this behavior.\n",
      "  _warn_prf(average, modifier, f\"{metric.capitalize()} is\", len(result))\n",
      "/Users/giord/miniconda3/envs/ds/lib/python3.10/site-packages/sklearn/metrics/_classification.py:1531: UndefinedMetricWarning: Precision is ill-defined and being set to 0.0 due to no predicted samples. Use `zero_division` parameter to control this behavior.\n",
      "  _warn_prf(average, modifier, f\"{metric.capitalize()} is\", len(result))\n",
      "/Users/giord/miniconda3/envs/ds/lib/python3.10/site-packages/sklearn/metrics/_classification.py:1531: UndefinedMetricWarning: Precision is ill-defined and being set to 0.0 due to no predicted samples. Use `zero_division` parameter to control this behavior.\n",
      "  _warn_prf(average, modifier, f\"{metric.capitalize()} is\", len(result))\n",
      "/Users/giord/miniconda3/envs/ds/lib/python3.10/site-packages/sklearn/metrics/_classification.py:1531: UndefinedMetricWarning: Precision is ill-defined and being set to 0.0 due to no predicted samples. Use `zero_division` parameter to control this behavior.\n",
      "  _warn_prf(average, modifier, f\"{metric.capitalize()} is\", len(result))\n",
      "/Users/giord/miniconda3/envs/ds/lib/python3.10/site-packages/sklearn/metrics/_classification.py:1531: UndefinedMetricWarning: Recall is ill-defined and being set to 0.0 due to no true samples. Use `zero_division` parameter to control this behavior.\n",
      "  _warn_prf(average, modifier, f\"{metric.capitalize()} is\", len(result))\n",
      "/Users/giord/miniconda3/envs/ds/lib/python3.10/site-packages/sklearn/metrics/_classification.py:1531: UndefinedMetricWarning: Recall is ill-defined and being set to 0.0 due to no true samples. Use `zero_division` parameter to control this behavior.\n",
      "  _warn_prf(average, modifier, f\"{metric.capitalize()} is\", len(result))\n",
      "/Users/giord/miniconda3/envs/ds/lib/python3.10/site-packages/sklearn/metrics/_classification.py:1531: UndefinedMetricWarning: Recall is ill-defined and being set to 0.0 due to no true samples. Use `zero_division` parameter to control this behavior.\n",
      "  _warn_prf(average, modifier, f\"{metric.capitalize()} is\", len(result))\n",
      "/Users/giord/miniconda3/envs/ds/lib/python3.10/site-packages/sklearn/metrics/_classification.py:1531: UndefinedMetricWarning: F-score is ill-defined and being set to 0.0 due to no true nor predicted samples. Use `zero_division` parameter to control this behavior.\n",
      "  _warn_prf(average, modifier, f\"{metric.capitalize()} is\", len(result))\n",
      "/Users/giord/miniconda3/envs/ds/lib/python3.10/site-packages/sklearn/metrics/_classification.py:1531: UndefinedMetricWarning: F-score is ill-defined and being set to 0.0 due to no true nor predicted samples. Use `zero_division` parameter to control this behavior.\n",
      "  _warn_prf(average, modifier, f\"{metric.capitalize()} is\", len(result))\n",
      "/Users/giord/miniconda3/envs/ds/lib/python3.10/site-packages/sklearn/metrics/_classification.py:1531: UndefinedMetricWarning: F-score is ill-defined and being set to 0.0 due to no true nor predicted samples. Use `zero_division` parameter to control this behavior.\n",
      "  _warn_prf(average, modifier, f\"{metric.capitalize()} is\", len(result))\n"
     ]
    },
    {
     "name": "stdout",
     "output_type": "stream",
     "text": [
      "Index(['arrhythmia', 'german', 'student', 'adult', 'park', 'wine', 'placement',\n",
      "       'hearth', 'drug', 'resyduo', 'us', 'cmc', 'law', 'vaccine', 'compas',\n",
      "       'obesity', 'ricci', 'credit', 'bank', 'health', 'diabetic', 'crime',\n",
      "       'ibm'],\n",
      "      dtype='object', name='data')\n",
      "Index(['medical'], dtype='object', name='data')\n",
      "Train size:  5869\n",
      "Test size:  61\n",
      "Index(['arrhythmia', 'student', 'adult', 'park', 'wine', 'placement', 'hearth',\n",
      "       'drug', 'resyduo', 'us', 'cmc', 'law', 'medical', 'vaccine', 'compas',\n",
      "       'obesity', 'ricci', 'credit', 'bank', 'health', 'diabetic', 'crime',\n",
      "       'ibm'],\n",
      "      dtype='object', name='data')\n",
      "Index(['german'], dtype='object', name='data')\n",
      "Train size:  5412\n",
      "Test size:  518\n",
      "Index(['arrhythmia', 'german', 'student', 'adult', 'park', 'wine', 'placement',\n",
      "       'hearth', 'drug', 'resyduo', 'us', 'cmc', 'law', 'medical', 'vaccine',\n",
      "       'compas', 'obesity', 'ricci', 'credit', 'bank', 'health', 'crime',\n",
      "       'ibm'],\n",
      "      dtype='object', name='data')\n",
      "Index(['diabetic'], dtype='object', name='data')\n",
      "Train size:  5221\n",
      "Test size:  709\n",
      "Index(['arrhythmia', 'german', 'student', 'adult', 'park', 'placement',\n",
      "       'hearth', 'drug', 'resyduo', 'us', 'cmc', 'law', 'medical', 'vaccine',\n",
      "       'compas', 'obesity', 'ricci', 'credit', 'bank', 'health', 'diabetic',\n",
      "       'crime', 'ibm'],\n",
      "      dtype='object', name='data')\n",
      "Index(['wine'], dtype='object', name='data')\n",
      "Train size:  5910\n",
      "Test size:  20\n"
     ]
    },
    {
     "name": "stderr",
     "output_type": "stream",
     "text": [
      "/Users/giord/miniconda3/envs/ds/lib/python3.10/site-packages/sklearn/metrics/_classification.py:1531: UndefinedMetricWarning: Precision is ill-defined and being set to 0.0 due to no predicted samples. Use `zero_division` parameter to control this behavior.\n",
      "  _warn_prf(average, modifier, f\"{metric.capitalize()} is\", len(result))\n",
      "/Users/giord/miniconda3/envs/ds/lib/python3.10/site-packages/sklearn/metrics/_classification.py:1531: UndefinedMetricWarning: Precision is ill-defined and being set to 0.0 due to no predicted samples. Use `zero_division` parameter to control this behavior.\n",
      "  _warn_prf(average, modifier, f\"{metric.capitalize()} is\", len(result))\n"
     ]
    },
    {
     "name": "stdout",
     "output_type": "stream",
     "text": [
      "Index(['arrhythmia', 'german', 'adult', 'park', 'wine', 'placement', 'hearth',\n",
      "       'drug', 'resyduo', 'us', 'cmc', 'law', 'medical', 'vaccine', 'compas',\n",
      "       'obesity', 'ricci', 'credit', 'bank', 'health', 'diabetic', 'crime',\n",
      "       'ibm'],\n",
      "      dtype='object', name='data')\n",
      "Index(['student'], dtype='object', name='data')\n",
      "Train size:  5621\n",
      "Test size:  309\n",
      "Index(['arrhythmia', 'german', 'student', 'adult', 'park', 'wine', 'placement',\n",
      "       'hearth', 'drug', 'resyduo', 'us', 'cmc', 'medical', 'vaccine',\n",
      "       'compas', 'obesity', 'ricci', 'credit', 'bank', 'health', 'diabetic',\n",
      "       'crime', 'ibm'],\n",
      "      dtype='object', name='data')\n",
      "Index(['law'], dtype='object', name='data')\n",
      "Train size:  5880\n",
      "Test size:  50\n"
     ]
    },
    {
     "name": "stderr",
     "output_type": "stream",
     "text": [
      "/Users/giord/miniconda3/envs/ds/lib/python3.10/site-packages/sklearn/metrics/_classification.py:1531: UndefinedMetricWarning: Precision is ill-defined and being set to 0.0 due to no predicted samples. Use `zero_division` parameter to control this behavior.\n",
      "  _warn_prf(average, modifier, f\"{metric.capitalize()} is\", len(result))\n",
      "/Users/giord/miniconda3/envs/ds/lib/python3.10/site-packages/sklearn/metrics/_classification.py:1531: UndefinedMetricWarning: Precision is ill-defined and being set to 0.0 due to no predicted samples. Use `zero_division` parameter to control this behavior.\n",
      "  _warn_prf(average, modifier, f\"{metric.capitalize()} is\", len(result))\n"
     ]
    },
    {
     "name": "stdout",
     "output_type": "stream",
     "text": [
      "Index(['arrhythmia', 'german', 'student', 'adult', 'park', 'wine', 'placement',\n",
      "       'hearth', 'drug', 'resyduo', 'us', 'cmc', 'law', 'medical', 'vaccine',\n",
      "       'obesity', 'ricci', 'credit', 'bank', 'health', 'diabetic', 'crime',\n",
      "       'ibm'],\n",
      "      dtype='object', name='data')\n",
      "Index(['compas'], dtype='object', name='data')\n",
      "Train size:  4559\n",
      "Test size:  1371\n",
      "Index(['arrhythmia', 'german', 'student', 'park', 'wine', 'placement',\n",
      "       'hearth', 'drug', 'resyduo', 'us', 'cmc', 'law', 'medical', 'vaccine',\n",
      "       'compas', 'obesity', 'ricci', 'credit', 'bank', 'health', 'diabetic',\n",
      "       'crime', 'ibm'],\n",
      "      dtype='object', name='data')\n",
      "Index(['adult'], dtype='object', name='data')\n",
      "Train size:  5028\n",
      "Test size:  902\n",
      "Index(['arrhythmia', 'german', 'student', 'adult', 'wine', 'placement',\n",
      "       'hearth', 'drug', 'resyduo', 'us', 'cmc', 'law', 'medical', 'vaccine',\n",
      "       'compas', 'obesity', 'ricci', 'credit', 'bank', 'health', 'diabetic',\n",
      "       'crime', 'ibm'],\n",
      "      dtype='object', name='data')\n",
      "Index(['park'], dtype='object', name='data')\n",
      "Train size:  5910\n",
      "Test size:  20\n"
     ]
    },
    {
     "name": "stderr",
     "output_type": "stream",
     "text": [
      "/Users/giord/miniconda3/envs/ds/lib/python3.10/site-packages/sklearn/metrics/_classification.py:1531: UndefinedMetricWarning: Precision is ill-defined and being set to 0.0 due to no predicted samples. Use `zero_division` parameter to control this behavior.\n",
      "  _warn_prf(average, modifier, f\"{metric.capitalize()} is\", len(result))\n",
      "/Users/giord/miniconda3/envs/ds/lib/python3.10/site-packages/sklearn/metrics/_classification.py:1531: UndefinedMetricWarning: Precision is ill-defined and being set to 0.0 due to no predicted samples. Use `zero_division` parameter to control this behavior.\n",
      "  _warn_prf(average, modifier, f\"{metric.capitalize()} is\", len(result))\n"
     ]
    },
    {
     "name": "stdout",
     "output_type": "stream",
     "text": [
      "Index(['arrhythmia', 'german', 'student', 'adult', 'park', 'wine', 'placement',\n",
      "       'hearth', 'drug', 'resyduo', 'us', 'cmc', 'law', 'medical', 'vaccine',\n",
      "       'compas', 'obesity', 'ricci', 'credit', 'bank', 'health', 'diabetic',\n",
      "       'ibm'],\n",
      "      dtype='object', name='data')\n",
      "Index(['crime'], dtype='object', name='data')\n",
      "Train size:  5909\n",
      "Test size:  21\n",
      "Index(['arrhythmia', 'german', 'student', 'adult', 'park', 'wine', 'placement',\n",
      "       'hearth', 'drug', 'resyduo', 'us', 'cmc', 'law', 'medical', 'vaccine',\n",
      "       'compas', 'obesity', 'credit', 'bank', 'health', 'diabetic', 'crime',\n",
      "       'ibm'],\n",
      "      dtype='object', name='data')\n",
      "Index(['ricci'], dtype='object', name='data')\n",
      "Train size:  5883\n",
      "Test size:  47\n",
      "Index(['arrhythmia', 'german', 'student', 'adult', 'park', 'wine', 'placement',\n",
      "       'hearth', 'drug', 'resyduo', 'us', 'cmc', 'law', 'medical', 'vaccine',\n",
      "       'compas', 'obesity', 'ricci', 'credit', 'bank', 'diabetic', 'crime',\n",
      "       'ibm'],\n",
      "      dtype='object', name='data')\n",
      "Index(['health'], dtype='object', name='data')\n",
      "Train size:  5759\n",
      "Test size:  171\n"
     ]
    },
    {
     "name": "stderr",
     "output_type": "stream",
     "text": [
      "/Users/giord/miniconda3/envs/ds/lib/python3.10/site-packages/sklearn/metrics/_classification.py:1531: UndefinedMetricWarning: Precision is ill-defined and being set to 0.0 due to no predicted samples. Use `zero_division` parameter to control this behavior.\n",
      "  _warn_prf(average, modifier, f\"{metric.capitalize()} is\", len(result))\n"
     ]
    },
    {
     "name": "stdout",
     "output_type": "stream",
     "text": [
      "Index(['arrhythmia', 'german', 'student', 'adult', 'park', 'wine', 'placement',\n",
      "       'hearth', 'drug', 'resyduo', 'us', 'cmc', 'law', 'medical', 'vaccine',\n",
      "       'compas', 'obesity', 'ricci', 'credit', 'bank', 'health', 'diabetic',\n",
      "       'crime'],\n",
      "      dtype='object', name='data')\n",
      "Index(['ibm'], dtype='object', name='data')\n",
      "Train size:  5640\n",
      "Test size:  290\n",
      "Index(['arrhythmia', 'german', 'student', 'adult', 'park', 'wine', 'placement',\n",
      "       'drug', 'resyduo', 'us', 'cmc', 'law', 'medical', 'vaccine', 'compas',\n",
      "       'obesity', 'ricci', 'credit', 'bank', 'health', 'diabetic', 'crime',\n",
      "       'ibm'],\n",
      "      dtype='object', name='data')\n",
      "Index(['hearth'], dtype='object', name='data')\n",
      "Train size:  5892\n",
      "Test size:  38\n",
      "Index(['arrhythmia', 'german', 'student', 'adult', 'park', 'wine', 'placement',\n",
      "       'hearth', 'drug', 'resyduo', 'cmc', 'law', 'medical', 'vaccine',\n",
      "       'compas', 'obesity', 'ricci', 'credit', 'bank', 'health', 'diabetic',\n",
      "       'crime', 'ibm'],\n",
      "      dtype='object', name='data')\n",
      "Index(['us'], dtype='object', name='data')\n",
      "Train size:  5780\n",
      "Test size:  150\n"
     ]
    },
    {
     "name": "stderr",
     "output_type": "stream",
     "text": [
      "/Users/giord/miniconda3/envs/ds/lib/python3.10/site-packages/sklearn/metrics/_classification.py:1531: UndefinedMetricWarning: Recall is ill-defined and being set to 0.0 due to no true samples. Use `zero_division` parameter to control this behavior.\n",
      "  _warn_prf(average, modifier, f\"{metric.capitalize()} is\", len(result))\n",
      "/Users/giord/miniconda3/envs/ds/lib/python3.10/site-packages/sklearn/metrics/_classification.py:1531: UndefinedMetricWarning: Recall is ill-defined and being set to 0.0 due to no true samples. Use `zero_division` parameter to control this behavior.\n",
      "  _warn_prf(average, modifier, f\"{metric.capitalize()} is\", len(result))\n",
      "/Users/giord/miniconda3/envs/ds/lib/python3.10/site-packages/sklearn/metrics/_classification.py:1531: UndefinedMetricWarning: Recall is ill-defined and being set to 0.0 due to no true samples. Use `zero_division` parameter to control this behavior.\n",
      "  _warn_prf(average, modifier, f\"{metric.capitalize()} is\", len(result))\n"
     ]
    },
    {
     "name": "stdout",
     "output_type": "stream",
     "text": [
      "Index(['arrhythmia', 'german', 'student', 'adult', 'park', 'wine', 'placement',\n",
      "       'hearth', 'drug', 'resyduo', 'us', 'cmc', 'law', 'medical', 'compas',\n",
      "       'obesity', 'ricci', 'credit', 'bank', 'health', 'diabetic', 'crime',\n",
      "       'ibm'],\n",
      "      dtype='object', name='data')\n",
      "Index(['vaccine'], dtype='object', name='data')\n",
      "Train size:  5720\n",
      "Test size:  210\n",
      "Index(['arrhythmia', 'german', 'student', 'adult', 'park', 'wine', 'placement',\n",
      "       'hearth', 'drug', 'resyduo', 'us', 'cmc', 'law', 'medical', 'vaccine',\n",
      "       'compas', 'obesity', 'ricci', 'credit', 'health', 'diabetic', 'crime',\n",
      "       'ibm'],\n",
      "      dtype='object', name='data')\n",
      "Index(['bank'], dtype='object', name='data')\n",
      "Train size:  5490\n",
      "Test size:  440\n"
     ]
    },
    {
     "name": "stderr",
     "output_type": "stream",
     "text": [
      "/Users/giord/miniconda3/envs/ds/lib/python3.10/site-packages/sklearn/metrics/_classification.py:1531: UndefinedMetricWarning: Precision is ill-defined and being set to 0.0 due to no predicted samples. Use `zero_division` parameter to control this behavior.\n",
      "  _warn_prf(average, modifier, f\"{metric.capitalize()} is\", len(result))\n",
      "/Users/giord/miniconda3/envs/ds/lib/python3.10/site-packages/sklearn/metrics/_classification.py:1531: UndefinedMetricWarning: Precision is ill-defined and being set to 0.0 due to no predicted samples. Use `zero_division` parameter to control this behavior.\n",
      "  _warn_prf(average, modifier, f\"{metric.capitalize()} is\", len(result))\n",
      "/Users/giord/miniconda3/envs/ds/lib/python3.10/site-packages/sklearn/metrics/_classification.py:1531: UndefinedMetricWarning: Recall is ill-defined and being set to 0.0 due to no true samples. Use `zero_division` parameter to control this behavior.\n",
      "  _warn_prf(average, modifier, f\"{metric.capitalize()} is\", len(result))\n",
      "/Users/giord/miniconda3/envs/ds/lib/python3.10/site-packages/sklearn/metrics/_classification.py:1531: UndefinedMetricWarning: Recall is ill-defined and being set to 0.0 due to no true samples. Use `zero_division` parameter to control this behavior.\n",
      "  _warn_prf(average, modifier, f\"{metric.capitalize()} is\", len(result))\n",
      "/Users/giord/miniconda3/envs/ds/lib/python3.10/site-packages/sklearn/metrics/_classification.py:1531: UndefinedMetricWarning: Recall is ill-defined and being set to 0.0 due to no true samples. Use `zero_division` parameter to control this behavior.\n",
      "  _warn_prf(average, modifier, f\"{metric.capitalize()} is\", len(result))\n",
      "/Users/giord/miniconda3/envs/ds/lib/python3.10/site-packages/sklearn/metrics/_classification.py:1531: UndefinedMetricWarning: F-score is ill-defined and being set to 0.0 due to no true nor predicted samples. Use `zero_division` parameter to control this behavior.\n",
      "  _warn_prf(average, modifier, f\"{metric.capitalize()} is\", len(result))\n",
      "/Users/giord/miniconda3/envs/ds/lib/python3.10/site-packages/sklearn/metrics/_classification.py:1531: UndefinedMetricWarning: F-score is ill-defined and being set to 0.0 due to no true nor predicted samples. Use `zero_division` parameter to control this behavior.\n",
      "  _warn_prf(average, modifier, f\"{metric.capitalize()} is\", len(result))\n",
      "/Users/giord/miniconda3/envs/ds/lib/python3.10/site-packages/sklearn/metrics/_classification.py:1531: UndefinedMetricWarning: Precision is ill-defined and being set to 0.0 due to no predicted samples. Use `zero_division` parameter to control this behavior.\n",
      "  _warn_prf(average, modifier, f\"{metric.capitalize()} is\", len(result))\n",
      "/Users/giord/miniconda3/envs/ds/lib/python3.10/site-packages/sklearn/metrics/_classification.py:1531: UndefinedMetricWarning: Recall is ill-defined and being set to 0.0 due to no true samples. Use `zero_division` parameter to control this behavior.\n",
      "  _warn_prf(average, modifier, f\"{metric.capitalize()} is\", len(result))\n",
      "/Users/giord/miniconda3/envs/ds/lib/python3.10/site-packages/sklearn/metrics/_classification.py:1531: UndefinedMetricWarning: Recall is ill-defined and being set to 0.0 due to no true samples. Use `zero_division` parameter to control this behavior.\n",
      "  _warn_prf(average, modifier, f\"{metric.capitalize()} is\", len(result))\n",
      "/Users/giord/miniconda3/envs/ds/lib/python3.10/site-packages/sklearn/metrics/_classification.py:1531: UndefinedMetricWarning: Recall is ill-defined and being set to 0.0 due to no true samples. Use `zero_division` parameter to control this behavior.\n",
      "  _warn_prf(average, modifier, f\"{metric.capitalize()} is\", len(result))\n",
      "/Users/giord/miniconda3/envs/ds/lib/python3.10/site-packages/sklearn/metrics/_classification.py:1531: UndefinedMetricWarning: F-score is ill-defined and being set to 0.0 due to no true nor predicted samples. Use `zero_division` parameter to control this behavior.\n",
      "  _warn_prf(average, modifier, f\"{metric.capitalize()} is\", len(result))\n"
     ]
    },
    {
     "name": "stdout",
     "output_type": "stream",
     "text": [
      "Index(['arrhythmia', 'german', 'student', 'adult', 'park', 'wine', 'hearth',\n",
      "       'drug', 'resyduo', 'us', 'cmc', 'law', 'medical', 'vaccine', 'compas',\n",
      "       'obesity', 'ricci', 'credit', 'bank', 'health', 'diabetic', 'crime',\n",
      "       'ibm'],\n",
      "      dtype='object', name='data')\n",
      "Index(['placement'], dtype='object', name='data')\n",
      "Train size:  5775\n",
      "Test size:  155\n"
     ]
    }
   ],
   "source": [
    "# Average Precision\n",
    "\n",
    "sp_mlp_train_ap = []\n",
    "sp_rf_train_ap = []\n",
    "sp_xgb_train_ap = []\n",
    "sp_mlp_test_ap = []\n",
    "sp_rf_test_ap = []\n",
    "sp_xgb_test_ap = []\n",
    "\n",
    "eo_mlp_train_ap = []\n",
    "eo_rf_train_ap = []\n",
    "eo_xgb_train_ap = []\n",
    "eo_mlp_test_ap = []\n",
    "eo_rf_test_ap = []\n",
    "eo_xgb_test_ap = []\n",
    "\n",
    "ao_mlp_train_ap = []\n",
    "ao_rf_train_ap = []\n",
    "ao_xgb_train_ap = []\n",
    "ao_mlp_test_ap = []\n",
    "ao_rf_test_ap = []\n",
    "ao_xgb_test_ap = []\n",
    "\n",
    "# Precision\n",
    "\n",
    "sp_mlp_train_prec = []\n",
    "sp_rf_train_prec = []\n",
    "sp_xgb_train_prec = []\n",
    "sp_mlp_test_prec = []\n",
    "sp_rf_test_prec = []\n",
    "sp_xgb_test_prec = []\n",
    "\n",
    "eo_mlp_train_prec = []\n",
    "eo_rf_train_prec = []\n",
    "eo_xgb_train_prec = []\n",
    "eo_mlp_test_prec = []\n",
    "eo_rf_test_prec = []\n",
    "eo_xgb_test_prec = []\n",
    "\n",
    "ao_mlp_train_prec = []\n",
    "ao_rf_train_prec = []\n",
    "ao_xgb_train_prec = []\n",
    "ao_mlp_test_prec = []\n",
    "ao_rf_test_prec = []\n",
    "ao_xgb_test_prec = []\n",
    "\n",
    "# Recall\n",
    "\n",
    "sp_mlp_train_rec = []\n",
    "sp_rf_train_rec = []\n",
    "sp_xgb_train_rec = []\n",
    "sp_mlp_test_rec = []\n",
    "sp_rf_test_rec = []\n",
    "sp_xgb_test_rec = []\n",
    "\n",
    "eo_mlp_train_rec = []\n",
    "eo_rf_train_rec = []\n",
    "eo_xgb_train_rec = []\n",
    "eo_mlp_test_rec = []\n",
    "eo_rf_test_rec = []\n",
    "eo_xgb_test_rec = []\n",
    "\n",
    "ao_mlp_train_rec = []\n",
    "ao_rf_train_rec = []\n",
    "ao_xgb_train_rec = []\n",
    "ao_mlp_test_rec = []\n",
    "ao_rf_test_rec = []\n",
    "ao_xgb_test_rec = []\n",
    "\n",
    "# F1 Score\n",
    "\n",
    "sp_mlp_train_f1 = []\n",
    "sp_rf_train_f1 = []\n",
    "sp_xgb_train_f1 = []\n",
    "sp_mlp_test_f1 = []\n",
    "sp_rf_test_f1 = []\n",
    "sp_xgb_test_f1 = []\n",
    "\n",
    "eo_mlp_train_f1 = []\n",
    "eo_rf_train_f1 = []\n",
    "eo_xgb_train_f1 = []\n",
    "eo_mlp_test_f1 = []\n",
    "eo_rf_test_f1 = []\n",
    "eo_xgb_test_f1 = []\n",
    "\n",
    "ao_mlp_train_f1 = []\n",
    "ao_rf_train_f1 = []\n",
    "ao_xgb_train_f1 = []\n",
    "ao_mlp_test_f1 = []\n",
    "ao_rf_test_f1 = []\n",
    "ao_xgb_test_f1 = []\n",
    "\n",
    "# Accuracy\n",
    "\n",
    "sp_mlp_train_acc = []\n",
    "sp_rf_train_acc = []\n",
    "sp_xgb_train_acc = []\n",
    "sp_mlp_test_acc = []\n",
    "sp_rf_test_acc = []\n",
    "sp_xgb_test_acc = []\n",
    "\n",
    "eo_mlp_train_acc = []\n",
    "eo_rf_train_acc = []\n",
    "eo_xgb_train_acc = []\n",
    "eo_mlp_test_acc = []\n",
    "eo_rf_test_acc = []\n",
    "eo_xgb_test_acc = []\n",
    "\n",
    "ao_mlp_train_acc = []\n",
    "ao_rf_train_acc = []\n",
    "ao_xgb_train_acc = []\n",
    "ao_mlp_test_acc = []\n",
    "ao_rf_test_acc = []\n",
    "ao_xgb_test_acc = []\n",
    "\n",
    "# MCC\n",
    "sp_mlp_train_mcc = []\n",
    "sp_rf_train_mcc = []\n",
    "sp_xgb_train_mcc = []\n",
    "sp_mlp_test_mcc = []\n",
    "sp_rf_test_mcc = []\n",
    "sp_xgb_test_mcc = []\n",
    "\n",
    "eo_mlp_train_mcc = []\n",
    "eo_rf_train_mcc = []\n",
    "eo_xgb_train_mcc = []\n",
    "eo_mlp_test_mcc = []\n",
    "eo_rf_test_mcc = []\n",
    "eo_xgb_test_mcc = []\n",
    "\n",
    "ao_mlp_train_mcc = []\n",
    "ao_rf_train_mcc = []\n",
    "ao_xgb_train_mcc = []\n",
    "ao_mlp_test_mcc = []\n",
    "ao_rf_test_mcc = []\n",
    "ao_xgb_test_mcc = []\n",
    "\n",
    "kfold = KFold(n_splits=24, shuffle=True, random_state=42)\n",
    "for itrain, itest in kfold.split(data.index.unique().values):\n",
    "    train_index = data.index.unique()[itrain]\n",
    "    test_index = data.index.unique()[itest]\n",
    "    print(train_index)\n",
    "    print(test_index)\n",
    "    train = data.loc[train_index].drop(columns='pos_prob')\n",
    "    test = data.loc[test_index].drop(columns='pos_prob')\n",
    "\n",
    "    print(\"Train size: \", train.shape[0])\n",
    "    print(\"Test size: \", test.shape[0])\n",
    "\n",
    "    # Statistical Parity\n",
    "\n",
    "    mlp_sp = load('../../ml_models/bias_symptoms_logreg_reduced_mlp_statistical_parity_nodsp.joblib')\n",
    "    rf_sp = load('../../ml_models/bias_symptoms_logreg_reduced_rf_statistical_parity_nodsp.joblib')\n",
    "    xgb_sp = load('../../ml_models/bias_symptoms_logreg_reduced_xgb_statistical_parity_nodsp.joblib')\n",
    "\n",
    "    evaluate_methods(\n",
    "        train, \n",
    "        test, \n",
    "        'statistical_parity', \n",
    "        sp_mlp_test_ap, \n",
    "        sp_rf_test_ap, \n",
    "        sp_xgb_test_ap, \n",
    "        sp_mlp_test_prec, \n",
    "        sp_rf_test_prec, \n",
    "        sp_xgb_test_prec, \n",
    "        sp_mlp_test_rec, \n",
    "        sp_rf_test_rec, \n",
    "        sp_xgb_test_rec, \n",
    "        sp_mlp_test_f1, \n",
    "        sp_rf_test_f1, \n",
    "        sp_xgb_test_f1, \n",
    "        sp_mlp_test_acc, \n",
    "        sp_rf_test_acc, \n",
    "        sp_xgb_test_acc,\n",
    "        mlp_sp,\n",
    "        rf_sp,\n",
    "        xgb_sp\n",
    "      )\n",
    "\n",
    "    # Equal Opportunity\n",
    "\n",
    "    mlp_eo = load('../../ml_models/bias_symptoms_logreg_reduced_mlp_equal_opportunity_nodsp.joblib')\n",
    "    rf_eo = load('../../ml_models/bias_symptoms_logreg_reduced_rf_equal_opportunity_nodsp.joblib')\n",
    "    xgb_eo = load('../../ml_models/bias_symptoms_logreg_reduced_xgb_equal_opportunity_nodsp.joblib')\n",
    "\n",
    "    evaluate_methods(\n",
    "        train,\n",
    "        test,\n",
    "        \"equal_opportunity\",\n",
    "        eo_mlp_test_ap,\n",
    "        eo_rf_test_ap,\n",
    "        eo_xgb_test_ap,\n",
    "        eo_mlp_test_prec,\n",
    "        eo_rf_test_prec,\n",
    "        eo_xgb_test_prec,\n",
    "        eo_mlp_test_rec,\n",
    "        eo_rf_test_rec,\n",
    "        eo_xgb_test_rec,\n",
    "        eo_mlp_test_f1,\n",
    "        eo_rf_test_f1,\n",
    "        eo_xgb_test_f1,\n",
    "        eo_mlp_test_acc,\n",
    "        eo_rf_test_acc,\n",
    "        eo_xgb_test_acc,\n",
    "        mlp_eo,\n",
    "        rf_eo,\n",
    "        xgb_eo\n",
    "    )\n",
    "\n",
    "    # Average Odds\n",
    "\n",
    "    mlp_ao = load('../../ml_models/bias_symptoms_logreg_reduced_mlp_average_odds_nodps.joblib')\n",
    "    rf_ao = load('../../ml_models/bias_symptoms_logreg_reduced_rf_average_odds_nodsp.joblib')\n",
    "    xgb_ao = load('../../ml_models/bias_symptoms_logreg_reduced_xgb_average_odds_nodsp.joblib')\n",
    "\n",
    "    evaluate_methods(\n",
    "        train,\n",
    "        test,\n",
    "        \"average_odds\",\n",
    "        ao_mlp_test_ap,\n",
    "        ao_rf_test_ap,\n",
    "        ao_xgb_test_ap,\n",
    "        ao_mlp_test_prec,\n",
    "        ao_rf_test_prec,\n",
    "        ao_xgb_test_prec,\n",
    "        ao_mlp_test_rec,\n",
    "        ao_rf_test_rec,\n",
    "        ao_xgb_test_rec,\n",
    "        ao_mlp_test_f1,\n",
    "        ao_rf_test_f1,\n",
    "        ao_xgb_test_f1,\n",
    "        ao_mlp_test_acc,\n",
    "        ao_rf_test_acc,\n",
    "        ao_xgb_test_acc,\n",
    "        mlp_ao,\n",
    "        rf_ao,\n",
    "        xgb_ao\n",
    "    )\n",
    "\n",
    "  "
   ]
  },
  {
   "cell_type": "code",
   "execution_count": 32,
   "metadata": {},
   "outputs": [],
   "source": [
    "sp_data_full_xgb = pd.DataFrame({\n",
    "    'accuracy': sp_xgb_test_acc,\n",
    "    'precision': sp_xgb_test_prec,\n",
    "    'recall': sp_xgb_test_rec,\n",
    "    'f1': sp_xgb_test_f1,\n",
    "})\n",
    "sp_data_full_xgb['model'] = 'XGBoost'\n",
    "sp_data_full_rf = pd.DataFrame({\n",
    "    'accuracy': sp_rf_test_acc,\n",
    "    'precision': sp_rf_test_prec,\n",
    "    'recall': sp_rf_test_rec,\n",
    "    'f1': sp_rf_test_f1,\n",
    "})\n",
    "sp_data_full_rf['model'] = 'Random Forest'\n",
    "sp_data_full_mlp = pd.DataFrame({\n",
    "    'accuracy': sp_mlp_test_acc,\n",
    "    'precision': sp_mlp_test_prec,\n",
    "    'recall': sp_mlp_test_rec,\n",
    "    'f1': sp_mlp_test_f1,\n",
    "}) \n",
    "sp_data_full_mlp['model'] = 'MLP'\n",
    "sp_data_full = pd.concat([sp_data_full_xgb, sp_data_full_rf, sp_data_full_mlp])\n",
    "\n",
    "eo_data_full_xgb = pd.DataFrame({\n",
    "    'accuracy': eo_xgb_test_acc,\n",
    "    'precision': eo_xgb_test_prec,\n",
    "    'recall': eo_xgb_test_rec,\n",
    "    'f1': eo_xgb_test_f1,\n",
    "})\n",
    "eo_data_full_xgb['model'] = 'XGBoost'\n",
    "eo_data_full_rf = pd.DataFrame({\n",
    "    'accuracy': eo_rf_test_acc,\n",
    "    'precision': eo_rf_test_prec,\n",
    "    'recall': eo_rf_test_rec,\n",
    "    'f1': eo_rf_test_f1,\n",
    "})\n",
    "eo_data_full_rf['model'] = 'Random Forest'\n",
    "eo_data_full_mlp = pd.DataFrame({\n",
    "    'accuracy': eo_mlp_test_acc,\n",
    "    'precision': eo_mlp_test_prec,\n",
    "    'recall': eo_mlp_test_rec,\n",
    "    'f1': eo_mlp_test_f1,\n",
    "})\n",
    "eo_data_full_mlp['model'] = 'MLP'\n",
    "eo_data_full = pd.concat([eo_data_full_xgb, eo_data_full_rf, eo_data_full_mlp])\n",
    "\n",
    "ao_data_full_xgb = pd.DataFrame({\n",
    "    'accuracy': ao_xgb_test_acc,\n",
    "    'precision': ao_xgb_test_prec,\n",
    "    'recall': ao_xgb_test_rec,\n",
    "    'f1': ao_xgb_test_f1,\n",
    "})\n",
    "ao_data_full_xgb['model'] = 'XGBoost'\n",
    "ao_data_full_rf = pd.DataFrame({\n",
    "    'accuracy': ao_rf_test_acc,\n",
    "    'precision': ao_rf_test_prec,\n",
    "    'recall': ao_rf_test_rec,\n",
    "    'f1': ao_rf_test_f1,\n",
    "})\n",
    "ao_data_full_rf['model'] = 'Random Forest'\n",
    "ao_data_full_mlp = pd.DataFrame({\n",
    "    'accuracy': ao_mlp_test_acc,\n",
    "    'precision': ao_mlp_test_prec,\n",
    "    'recall': ao_mlp_test_rec,\n",
    "    'f1': ao_mlp_test_f1,\n",
    "})\n",
    "ao_data_full_mlp['model'] = 'MLP'\n",
    "ao_data_full = pd.concat([ao_data_full_xgb, ao_data_full_rf, ao_data_full_mlp])"
   ]
  },
  {
   "cell_type": "code",
   "execution_count": 33,
   "metadata": {},
   "outputs": [],
   "source": [
    "def group_metrics(data):\n",
    "    return data.groupby('model').agg(['mean', 'std']).round(3).reset_index()"
   ]
  },
  {
   "cell_type": "code",
   "execution_count": 34,
   "metadata": {},
   "outputs": [],
   "source": [
    "sp = group_metrics(sp_data_full)\n",
    "eo = group_metrics(eo_data_full)\n",
    "ao = group_metrics(ao_data_full)\n",
    "full_data = pd.concat([sp_data_full, eo_data_full, ao_data_full])\n",
    "full = group_metrics(full_data)\n",
    "sp.to_csv(\"bias_symptoms_sp.csv\")\n",
    "eo.to_csv(\"bias_symptoms_eo.csv\")\n",
    "ao.to_csv(\"bias_symptoms_ao.csv\")\n",
    "full.to_csv(\"bias_symptoms_full.csv\")"
   ]
  },
  {
   "cell_type": "code",
   "execution_count": 35,
   "metadata": {},
   "outputs": [
    {
     "data": {
      "application/vnd.microsoft.datawrangler.viewer.v0+json": {
       "columns": [
        {
         "name": "index",
         "rawType": "int64",
         "type": "integer"
        },
        {
         "name": "('model', '')",
         "rawType": "object",
         "type": "string"
        },
        {
         "name": "('accuracy', 'mean')",
         "rawType": "float64",
         "type": "float"
        },
        {
         "name": "('accuracy', 'std')",
         "rawType": "float64",
         "type": "float"
        },
        {
         "name": "('precision', 'mean')",
         "rawType": "float64",
         "type": "float"
        },
        {
         "name": "('precision', 'std')",
         "rawType": "float64",
         "type": "float"
        },
        {
         "name": "('recall', 'mean')",
         "rawType": "float64",
         "type": "float"
        },
        {
         "name": "('recall', 'std')",
         "rawType": "float64",
         "type": "float"
        },
        {
         "name": "('f1', 'mean')",
         "rawType": "float64",
         "type": "float"
        },
        {
         "name": "('f1', 'std')",
         "rawType": "float64",
         "type": "float"
        }
       ],
       "ref": "b9623087-275a-47c4-89f5-47b52fb1b3dd",
       "rows": [
        [
         "0",
         "MLP",
         "0.791",
         "0.187",
         "0.565",
         "0.36",
         "0.726",
         "0.375",
         "0.567",
         "0.348"
        ],
        [
         "1",
         "Random Forest",
         "0.784",
         "0.172",
         "0.592",
         "0.367",
         "0.594",
         "0.383",
         "0.55",
         "0.335"
        ],
        [
         "2",
         "XGBoost",
         "0.778",
         "0.184",
         "0.571",
         "0.363",
         "0.62",
         "0.368",
         "0.543",
         "0.332"
        ]
       ],
       "shape": {
        "columns": 9,
        "rows": 3
       }
      },
      "text/html": [
       "<div>\n",
       "<style scoped>\n",
       "    .dataframe tbody tr th:only-of-type {\n",
       "        vertical-align: middle;\n",
       "    }\n",
       "\n",
       "    .dataframe tbody tr th {\n",
       "        vertical-align: top;\n",
       "    }\n",
       "\n",
       "    .dataframe thead tr th {\n",
       "        text-align: left;\n",
       "    }\n",
       "</style>\n",
       "<table border=\"1\" class=\"dataframe\">\n",
       "  <thead>\n",
       "    <tr>\n",
       "      <th></th>\n",
       "      <th>model</th>\n",
       "      <th colspan=\"2\" halign=\"left\">accuracy</th>\n",
       "      <th colspan=\"2\" halign=\"left\">precision</th>\n",
       "      <th colspan=\"2\" halign=\"left\">recall</th>\n",
       "      <th colspan=\"2\" halign=\"left\">f1</th>\n",
       "    </tr>\n",
       "    <tr>\n",
       "      <th></th>\n",
       "      <th></th>\n",
       "      <th>mean</th>\n",
       "      <th>std</th>\n",
       "      <th>mean</th>\n",
       "      <th>std</th>\n",
       "      <th>mean</th>\n",
       "      <th>std</th>\n",
       "      <th>mean</th>\n",
       "      <th>std</th>\n",
       "    </tr>\n",
       "  </thead>\n",
       "  <tbody>\n",
       "    <tr>\n",
       "      <th>0</th>\n",
       "      <td>MLP</td>\n",
       "      <td>0.791</td>\n",
       "      <td>0.187</td>\n",
       "      <td>0.565</td>\n",
       "      <td>0.360</td>\n",
       "      <td>0.726</td>\n",
       "      <td>0.375</td>\n",
       "      <td>0.567</td>\n",
       "      <td>0.348</td>\n",
       "    </tr>\n",
       "    <tr>\n",
       "      <th>1</th>\n",
       "      <td>Random Forest</td>\n",
       "      <td>0.784</td>\n",
       "      <td>0.172</td>\n",
       "      <td>0.592</td>\n",
       "      <td>0.367</td>\n",
       "      <td>0.594</td>\n",
       "      <td>0.383</td>\n",
       "      <td>0.550</td>\n",
       "      <td>0.335</td>\n",
       "    </tr>\n",
       "    <tr>\n",
       "      <th>2</th>\n",
       "      <td>XGBoost</td>\n",
       "      <td>0.778</td>\n",
       "      <td>0.184</td>\n",
       "      <td>0.571</td>\n",
       "      <td>0.363</td>\n",
       "      <td>0.620</td>\n",
       "      <td>0.368</td>\n",
       "      <td>0.543</td>\n",
       "      <td>0.332</td>\n",
       "    </tr>\n",
       "  </tbody>\n",
       "</table>\n",
       "</div>"
      ],
      "text/plain": [
       "           model accuracy        precision        recall            f1       \n",
       "                     mean    std      mean    std   mean    std   mean    std\n",
       "0            MLP    0.791  0.187     0.565  0.360  0.726  0.375  0.567  0.348\n",
       "1  Random Forest    0.784  0.172     0.592  0.367  0.594  0.383  0.550  0.335\n",
       "2        XGBoost    0.778  0.184     0.571  0.363  0.620  0.368  0.543  0.332"
      ]
     },
     "execution_count": 35,
     "metadata": {},
     "output_type": "execute_result"
    }
   ],
   "source": [
    "sp"
   ]
  },
  {
   "cell_type": "markdown",
   "metadata": {},
   "source": [
    "## Accuracy of DSP and SP"
   ]
  },
  {
   "cell_type": "code",
   "execution_count": 21,
   "metadata": {},
   "outputs": [],
   "source": [
    "import numpy as np"
   ]
  },
  {
   "cell_type": "code",
   "execution_count": 15,
   "metadata": {},
   "outputs": [],
   "source": [
    "data = pd.read_csv('../data/bias_symptoms_logreg_reduced.csv', index_col=[0,1])"
   ]
  },
  {
   "cell_type": "code",
   "execution_count": 20,
   "metadata": {},
   "outputs": [
    {
     "name": "stdout",
     "output_type": "stream",
     "text": [
      "Dataset: arrhythmia\n",
      "Accuracy: 0.5912, F1 Score: 0.7111, Precision: 0.9816, Recall: 0.5575\n",
      "Dataset: german\n",
      "Accuracy: 0.5946, F1 Score: 0.2045, Precision: 1.0000, Recall: 0.1139\n",
      "Dataset: student\n",
      "Accuracy: 0.8252, F1 Score: 0.0690, Precision: 1.0000, Recall: 0.0357\n",
      "Dataset: adult\n",
      "Accuracy: 0.6386, F1 Score: 0.1809, Precision: 0.8372, Recall: 0.1014\n",
      "Dataset: park\n",
      "Accuracy: 0.2500, F1 Score: 0.0000, Precision: 0.0000, Recall: 0.0000\n",
      "Dataset: wine\n",
      "Accuracy: 0.3000, F1 Score: 0.0000, Precision: 0.0000, Recall: 0.0000\n",
      "Dataset: placement\n",
      "Accuracy: 0.6516, F1 Score: 0.2703, Precision: 0.9091, Recall: 0.1587\n",
      "Dataset: hearth\n",
      "Accuracy: 0.5263, F1 Score: 0.4706, Precision: 1.0000, Recall: 0.3077\n",
      "Dataset: drug\n",
      "Accuracy: 0.2500, F1 Score: 0.0000, Precision: 0.0000, Recall: 0.0000\n",
      "Dataset: resyduo\n",
      "Accuracy: 1.0000, F1 Score: 0.0000, Precision: 0.0000, Recall: 0.0000\n",
      "Dataset: us\n",
      "Accuracy: 0.8667, F1 Score: 0.0000, Precision: 0.0000, Recall: 0.0000\n",
      "Dataset: cmc\n",
      "Accuracy: 0.5667, F1 Score: 0.0000, Precision: 0.0000, Recall: 0.0000\n",
      "Dataset: law\n",
      "Accuracy: 0.0000, F1 Score: 0.0000, Precision: 0.0000, Recall: 0.0000\n",
      "Dataset: medical\n",
      "Accuracy: 0.3607, F1 Score: 0.4179, Precision: 0.7368, Recall: 0.2917\n",
      "Dataset: vaccine\n",
      "Accuracy: 0.9762, F1 Score: 0.0000, Precision: 0.0000, Recall: 0.0000\n",
      "Dataset: compas\n",
      "Accuracy: 0.4128, F1 Score: 0.4528, Precision: 0.9328, Recall: 0.2989\n",
      "Dataset: obesity\n",
      "Accuracy: 0.7167, F1 Score: 0.1053, Precision: 0.3333, Recall: 0.0625\n",
      "Dataset: ricci\n",
      "Accuracy: 0.6170, F1 Score: 0.1818, Precision: 1.0000, Recall: 0.1000\n",
      "Dataset: credit\n",
      "Accuracy: 1.0000, F1 Score: 0.0000, Precision: 0.0000, Recall: 0.0000\n",
      "Dataset: bank\n",
      "Accuracy: 1.0000, F1 Score: 0.0000, Precision: 0.0000, Recall: 0.0000\n",
      "Dataset: health\n",
      "Accuracy: 0.9883, F1 Score: 0.0000, Precision: 0.0000, Recall: 0.0000\n",
      "Dataset: diabetic\n",
      "Accuracy: 0.2990, F1 Score: 0.0119, Precision: 1.0000, Recall: 0.0060\n",
      "Dataset: crime\n",
      "Accuracy: 0.0000, F1 Score: 0.0000, Precision: 0.0000, Recall: 0.0000\n",
      "Dataset: ibm\n",
      "Accuracy: 0.9862, F1 Score: 0.8333, Precision: 0.7143, Recall: 1.0000\n"
     ]
    },
    {
     "name": "stderr",
     "output_type": "stream",
     "text": [
      "/Users/giord/miniconda3/envs/ds/lib/python3.10/site-packages/sklearn/metrics/_classification.py:1531: UndefinedMetricWarning: Precision is ill-defined and being set to 0.0 due to no predicted samples. Use `zero_division` parameter to control this behavior.\n",
      "  _warn_prf(average, modifier, f\"{metric.capitalize()} is\", len(result))\n",
      "/Users/giord/miniconda3/envs/ds/lib/python3.10/site-packages/sklearn/metrics/_classification.py:1531: UndefinedMetricWarning: Precision is ill-defined and being set to 0.0 due to no predicted samples. Use `zero_division` parameter to control this behavior.\n",
      "  _warn_prf(average, modifier, f\"{metric.capitalize()} is\", len(result))\n",
      "/Users/giord/miniconda3/envs/ds/lib/python3.10/site-packages/sklearn/metrics/_classification.py:1531: UndefinedMetricWarning: Precision is ill-defined and being set to 0.0 due to no predicted samples. Use `zero_division` parameter to control this behavior.\n",
      "  _warn_prf(average, modifier, f\"{metric.capitalize()} is\", len(result))\n",
      "/Users/giord/miniconda3/envs/ds/lib/python3.10/site-packages/sklearn/metrics/_classification.py:1531: UndefinedMetricWarning: F-score is ill-defined and being set to 0.0 due to no true nor predicted samples. Use `zero_division` parameter to control this behavior.\n",
      "  _warn_prf(average, modifier, f\"{metric.capitalize()} is\", len(result))\n",
      "/Users/giord/miniconda3/envs/ds/lib/python3.10/site-packages/sklearn/metrics/_classification.py:1531: UndefinedMetricWarning: Precision is ill-defined and being set to 0.0 due to no predicted samples. Use `zero_division` parameter to control this behavior.\n",
      "  _warn_prf(average, modifier, f\"{metric.capitalize()} is\", len(result))\n",
      "/Users/giord/miniconda3/envs/ds/lib/python3.10/site-packages/sklearn/metrics/_classification.py:1531: UndefinedMetricWarning: Recall is ill-defined and being set to 0.0 due to no true samples. Use `zero_division` parameter to control this behavior.\n",
      "  _warn_prf(average, modifier, f\"{metric.capitalize()} is\", len(result))\n",
      "/Users/giord/miniconda3/envs/ds/lib/python3.10/site-packages/sklearn/metrics/_classification.py:1531: UndefinedMetricWarning: Precision is ill-defined and being set to 0.0 due to no predicted samples. Use `zero_division` parameter to control this behavior.\n",
      "  _warn_prf(average, modifier, f\"{metric.capitalize()} is\", len(result))\n",
      "/Users/giord/miniconda3/envs/ds/lib/python3.10/site-packages/sklearn/metrics/_classification.py:1531: UndefinedMetricWarning: Precision is ill-defined and being set to 0.0 due to no predicted samples. Use `zero_division` parameter to control this behavior.\n",
      "  _warn_prf(average, modifier, f\"{metric.capitalize()} is\", len(result))\n",
      "/Users/giord/miniconda3/envs/ds/lib/python3.10/site-packages/sklearn/metrics/_classification.py:1531: UndefinedMetricWarning: Precision is ill-defined and being set to 0.0 due to no predicted samples. Use `zero_division` parameter to control this behavior.\n",
      "  _warn_prf(average, modifier, f\"{metric.capitalize()} is\", len(result))\n",
      "/Users/giord/miniconda3/envs/ds/lib/python3.10/site-packages/sklearn/metrics/_classification.py:1531: UndefinedMetricWarning: F-score is ill-defined and being set to 0.0 due to no true nor predicted samples. Use `zero_division` parameter to control this behavior.\n",
      "  _warn_prf(average, modifier, f\"{metric.capitalize()} is\", len(result))\n",
      "/Users/giord/miniconda3/envs/ds/lib/python3.10/site-packages/sklearn/metrics/_classification.py:1531: UndefinedMetricWarning: Precision is ill-defined and being set to 0.0 due to no predicted samples. Use `zero_division` parameter to control this behavior.\n",
      "  _warn_prf(average, modifier, f\"{metric.capitalize()} is\", len(result))\n",
      "/Users/giord/miniconda3/envs/ds/lib/python3.10/site-packages/sklearn/metrics/_classification.py:1531: UndefinedMetricWarning: Recall is ill-defined and being set to 0.0 due to no true samples. Use `zero_division` parameter to control this behavior.\n",
      "  _warn_prf(average, modifier, f\"{metric.capitalize()} is\", len(result))\n",
      "/Users/giord/miniconda3/envs/ds/lib/python3.10/site-packages/sklearn/metrics/_classification.py:1531: UndefinedMetricWarning: F-score is ill-defined and being set to 0.0 due to no true nor predicted samples. Use `zero_division` parameter to control this behavior.\n",
      "  _warn_prf(average, modifier, f\"{metric.capitalize()} is\", len(result))\n",
      "/Users/giord/miniconda3/envs/ds/lib/python3.10/site-packages/sklearn/metrics/_classification.py:1531: UndefinedMetricWarning: Precision is ill-defined and being set to 0.0 due to no predicted samples. Use `zero_division` parameter to control this behavior.\n",
      "  _warn_prf(average, modifier, f\"{metric.capitalize()} is\", len(result))\n",
      "/Users/giord/miniconda3/envs/ds/lib/python3.10/site-packages/sklearn/metrics/_classification.py:1531: UndefinedMetricWarning: Recall is ill-defined and being set to 0.0 due to no true samples. Use `zero_division` parameter to control this behavior.\n",
      "  _warn_prf(average, modifier, f\"{metric.capitalize()} is\", len(result))\n",
      "/Users/giord/miniconda3/envs/ds/lib/python3.10/site-packages/sklearn/metrics/_classification.py:1531: UndefinedMetricWarning: Precision is ill-defined and being set to 0.0 due to no predicted samples. Use `zero_division` parameter to control this behavior.\n",
      "  _warn_prf(average, modifier, f\"{metric.capitalize()} is\", len(result))\n"
     ]
    }
   ],
   "source": [
    "acc_list = []\n",
    "prec_list = []\n",
    "rec_list = []\n",
    "f1_list = []\n",
    "for dataset in data.index.get_level_values(0).unique():\n",
    "    print(f\"Dataset: {dataset}\")\n",
    "    dataset_data = data.xs(dataset, level=0)\n",
    "    y_true = dataset_data['statistical_parity']\n",
    "    y_pred = dataset_data['pos_prob'].apply(lambda x: 1 if x > 0.5 else 0)\n",
    "    \n",
    "    acc = accuracy_score(y_true, y_pred)\n",
    "    f1 = f1_score(y_true, y_pred)\n",
    "    prec = precision_score(y_true, y_pred)\n",
    "    rec = recall_score(y_true, y_pred)\n",
    "    \n",
    "    acc_list.append(acc)\n",
    "    prec_list.append(prec)\n",
    "    rec_list.append(rec)\n",
    "    f1_list.append(f1)\n",
    "\n",
    "    print(f\"Accuracy: {acc:.4f}, F1 Score: {f1:.4f}, Precision: {prec:.4f}, Recall: {rec:.4f}\")"
   ]
  },
  {
   "cell_type": "code",
   "execution_count": 22,
   "metadata": {},
   "outputs": [
    {
     "name": "stdout",
     "output_type": "stream",
     "text": [
      "Mean Accuracy: 0.6007, Mean F1 Score: 0.1629, Mean Precision: 0.4352, Mean Recall: 0.1264\n"
     ]
    }
   ],
   "source": [
    "np.mean(acc_list), np.mean(prec_list), np.mean(rec_list), np.mean(f1_list)\n",
    "print(f\"Mean Accuracy: {np.mean(acc_list):.4f}, Mean F1 Score: {np.mean(f1_list):.4f}, Mean Precision: {np.mean(prec_list):.4f}, Mean Recall: {np.mean(rec_list):.4f}\")"
   ]
  },
  {
   "cell_type": "code",
   "execution_count": 23,
   "metadata": {},
   "outputs": [
    {
     "name": "stdout",
     "output_type": "stream",
     "text": [
      "Std Accuracy: 0.3100, Std F1 Score: 0.2381, Std Precision: 0.4555, Std Recall: 0.2291\n"
     ]
    }
   ],
   "source": [
    "np.std(acc_list), np.std(prec_list), np.std(rec_list), np.std(f1_list)\n",
    "print(f\"Std Accuracy: {np.std(acc_list):.4f}, Std F1 Score: {np.std(f1_list):.4f}, Std Precision: {np.std(prec_list):.4f}, Std Recall: {np.std(rec_list):.4f}\")"
   ]
  },
  {
   "cell_type": "code",
   "execution_count": 24,
   "metadata": {},
   "outputs": [
    {
     "data": {
      "text/plain": [
       "24"
      ]
     },
     "execution_count": 24,
     "metadata": {},
     "output_type": "execute_result"
    }
   ],
   "source": [
    "len(acc_list)"
   ]
  },
  {
   "cell_type": "code",
   "execution_count": null,
   "metadata": {},
   "outputs": [],
   "source": [
    "from pingouin import wilcoxon"
   ]
  },
  {
   "cell_type": "code",
   "execution_count": 43,
   "metadata": {},
   "outputs": [],
   "source": [
    "def get_wilcoxon(model_acc, model_prec, model_rec, model_f1, dsp_acc, dsp_prec, dsp_rec, dsp_f1):\n",
    "    acc_wilcoxon = wilcoxon(model_acc, dsp_acc)[['p-val', 'CLES']]\n",
    "    prec_wilcoxon = wilcoxon(model_prec, dsp_prec)[['p-val', 'CLES']]\n",
    "    rec_wilcoxon = wilcoxon(model_rec, dsp_rec)[['p-val', 'CLES']]\n",
    "    f1_wilcoxon = wilcoxon(model_f1, dsp_f1)[['p-val', 'CLES']]\n",
    "    \n",
    "    return pd.concat([acc_wilcoxon, prec_wilcoxon, rec_wilcoxon, f1_wilcoxon], axis=0)"
   ]
  },
  {
   "cell_type": "code",
   "execution_count": 44,
   "metadata": {},
   "outputs": [
    {
     "data": {
      "application/vnd.microsoft.datawrangler.viewer.v0+json": {
       "columns": [
        {
         "name": "index",
         "rawType": "object",
         "type": "string"
        },
        {
         "name": "p-val",
         "rawType": "float64",
         "type": "float"
        },
        {
         "name": "CLES",
         "rawType": "float64",
         "type": "float"
        }
       ],
       "ref": "81834eab-3278-4290-8bf0-c24bae0394f2",
       "rows": [
        [
         "Wilcoxon",
         "0.03721256552018154",
         "0.6614583333333334"
        ],
        [
         "Wilcoxon",
         "0.33787711143743715",
         "0.5746527777777778"
        ],
        [
         "Wilcoxon",
         "0.00011065309081650548",
         "0.8272569444444444"
        ],
        [
         "Wilcoxon",
         "0.00016570887533799345",
         "0.8020833333333334"
        ]
       ],
       "shape": {
        "columns": 2,
        "rows": 4
       }
      },
      "text/html": [
       "<div>\n",
       "<style scoped>\n",
       "    .dataframe tbody tr th:only-of-type {\n",
       "        vertical-align: middle;\n",
       "    }\n",
       "\n",
       "    .dataframe tbody tr th {\n",
       "        vertical-align: top;\n",
       "    }\n",
       "\n",
       "    .dataframe thead th {\n",
       "        text-align: right;\n",
       "    }\n",
       "</style>\n",
       "<table border=\"1\" class=\"dataframe\">\n",
       "  <thead>\n",
       "    <tr style=\"text-align: right;\">\n",
       "      <th></th>\n",
       "      <th>p-val</th>\n",
       "      <th>CLES</th>\n",
       "    </tr>\n",
       "  </thead>\n",
       "  <tbody>\n",
       "    <tr>\n",
       "      <th>Wilcoxon</th>\n",
       "      <td>0.037213</td>\n",
       "      <td>0.661458</td>\n",
       "    </tr>\n",
       "    <tr>\n",
       "      <th>Wilcoxon</th>\n",
       "      <td>0.337877</td>\n",
       "      <td>0.574653</td>\n",
       "    </tr>\n",
       "    <tr>\n",
       "      <th>Wilcoxon</th>\n",
       "      <td>0.000111</td>\n",
       "      <td>0.827257</td>\n",
       "    </tr>\n",
       "    <tr>\n",
       "      <th>Wilcoxon</th>\n",
       "      <td>0.000166</td>\n",
       "      <td>0.802083</td>\n",
       "    </tr>\n",
       "  </tbody>\n",
       "</table>\n",
       "</div>"
      ],
      "text/plain": [
       "             p-val      CLES\n",
       "Wilcoxon  0.037213  0.661458\n",
       "Wilcoxon  0.337877  0.574653\n",
       "Wilcoxon  0.000111  0.827257\n",
       "Wilcoxon  0.000166  0.802083"
      ]
     },
     "execution_count": 44,
     "metadata": {},
     "output_type": "execute_result"
    }
   ],
   "source": [
    "get_wilcoxon(sp_xgb_test_acc, sp_xgb_test_prec, sp_xgb_test_rec, sp_xgb_test_f1, acc_list, prec_list, rec_list, f1_list)"
   ]
  },
  {
   "cell_type": "code",
   "execution_count": 45,
   "metadata": {},
   "outputs": [
    {
     "data": {
      "application/vnd.microsoft.datawrangler.viewer.v0+json": {
       "columns": [
        {
         "name": "index",
         "rawType": "object",
         "type": "string"
        },
        {
         "name": "p-val",
         "rawType": "float64",
         "type": "float"
        },
        {
         "name": "CLES",
         "rawType": "float64",
         "type": "float"
        }
       ],
       "ref": "c11d672d-1189-49a8-a511-544b28f9ed32",
       "rows": [
        [
         "Wilcoxon",
         "0.014349076781645565",
         "0.6814236111111112"
        ],
        [
         "Wilcoxon",
         "0.2582750641247128",
         "0.5772569444444444"
        ],
        [
         "Wilcoxon",
         "0.00026157138266731455",
         "0.8029513888888888"
        ],
        [
         "Wilcoxon",
         "0.0003435443144933328",
         "0.7925347222222222"
        ]
       ],
       "shape": {
        "columns": 2,
        "rows": 4
       }
      },
      "text/html": [
       "<div>\n",
       "<style scoped>\n",
       "    .dataframe tbody tr th:only-of-type {\n",
       "        vertical-align: middle;\n",
       "    }\n",
       "\n",
       "    .dataframe tbody tr th {\n",
       "        vertical-align: top;\n",
       "    }\n",
       "\n",
       "    .dataframe thead th {\n",
       "        text-align: right;\n",
       "    }\n",
       "</style>\n",
       "<table border=\"1\" class=\"dataframe\">\n",
       "  <thead>\n",
       "    <tr style=\"text-align: right;\">\n",
       "      <th></th>\n",
       "      <th>p-val</th>\n",
       "      <th>CLES</th>\n",
       "    </tr>\n",
       "  </thead>\n",
       "  <tbody>\n",
       "    <tr>\n",
       "      <th>Wilcoxon</th>\n",
       "      <td>0.014349</td>\n",
       "      <td>0.681424</td>\n",
       "    </tr>\n",
       "    <tr>\n",
       "      <th>Wilcoxon</th>\n",
       "      <td>0.258275</td>\n",
       "      <td>0.577257</td>\n",
       "    </tr>\n",
       "    <tr>\n",
       "      <th>Wilcoxon</th>\n",
       "      <td>0.000262</td>\n",
       "      <td>0.802951</td>\n",
       "    </tr>\n",
       "    <tr>\n",
       "      <th>Wilcoxon</th>\n",
       "      <td>0.000344</td>\n",
       "      <td>0.792535</td>\n",
       "    </tr>\n",
       "  </tbody>\n",
       "</table>\n",
       "</div>"
      ],
      "text/plain": [
       "             p-val      CLES\n",
       "Wilcoxon  0.014349  0.681424\n",
       "Wilcoxon  0.258275  0.577257\n",
       "Wilcoxon  0.000262  0.802951\n",
       "Wilcoxon  0.000344  0.792535"
      ]
     },
     "execution_count": 45,
     "metadata": {},
     "output_type": "execute_result"
    }
   ],
   "source": [
    "get_wilcoxon(sp_rf_test_acc, sp_rf_test_prec, sp_rf_test_rec, sp_rf_test_f1, acc_list, prec_list, rec_list, f1_list)"
   ]
  },
  {
   "cell_type": "code",
   "execution_count": 46,
   "metadata": {},
   "outputs": [
    {
     "data": {
      "application/vnd.microsoft.datawrangler.viewer.v0+json": {
       "columns": [
        {
         "name": "index",
         "rawType": "object",
         "type": "string"
        },
        {
         "name": "p-val",
         "rawType": "float64",
         "type": "float"
        },
        {
         "name": "CLES",
         "rawType": "float64",
         "type": "float"
        }
       ],
       "ref": "ac5cf676-ba83-426d-b424-f3ce27f72263",
       "rows": [
        [
         "Wilcoxon",
         "0.027448192940379087",
         "0.6805555555555556"
        ],
        [
         "Wilcoxon",
         "0.29881903615804495",
         "0.5868055555555556"
        ],
        [
         "Wilcoxon",
         "9.742980825659062e-05",
         "0.8585069444444444"
        ],
        [
         "Wilcoxon",
         "0.00014558554132254795",
         "0.8203125"
        ]
       ],
       "shape": {
        "columns": 2,
        "rows": 4
       }
      },
      "text/html": [
       "<div>\n",
       "<style scoped>\n",
       "    .dataframe tbody tr th:only-of-type {\n",
       "        vertical-align: middle;\n",
       "    }\n",
       "\n",
       "    .dataframe tbody tr th {\n",
       "        vertical-align: top;\n",
       "    }\n",
       "\n",
       "    .dataframe thead th {\n",
       "        text-align: right;\n",
       "    }\n",
       "</style>\n",
       "<table border=\"1\" class=\"dataframe\">\n",
       "  <thead>\n",
       "    <tr style=\"text-align: right;\">\n",
       "      <th></th>\n",
       "      <th>p-val</th>\n",
       "      <th>CLES</th>\n",
       "    </tr>\n",
       "  </thead>\n",
       "  <tbody>\n",
       "    <tr>\n",
       "      <th>Wilcoxon</th>\n",
       "      <td>0.027448</td>\n",
       "      <td>0.680556</td>\n",
       "    </tr>\n",
       "    <tr>\n",
       "      <th>Wilcoxon</th>\n",
       "      <td>0.298819</td>\n",
       "      <td>0.586806</td>\n",
       "    </tr>\n",
       "    <tr>\n",
       "      <th>Wilcoxon</th>\n",
       "      <td>0.000097</td>\n",
       "      <td>0.858507</td>\n",
       "    </tr>\n",
       "    <tr>\n",
       "      <th>Wilcoxon</th>\n",
       "      <td>0.000146</td>\n",
       "      <td>0.820312</td>\n",
       "    </tr>\n",
       "  </tbody>\n",
       "</table>\n",
       "</div>"
      ],
      "text/plain": [
       "             p-val      CLES\n",
       "Wilcoxon  0.027448  0.680556\n",
       "Wilcoxon  0.298819  0.586806\n",
       "Wilcoxon  0.000097  0.858507\n",
       "Wilcoxon  0.000146  0.820312"
      ]
     },
     "execution_count": 46,
     "metadata": {},
     "output_type": "execute_result"
    }
   ],
   "source": [
    "get_wilcoxon(sp_mlp_test_acc, sp_mlp_test_prec, sp_mlp_test_rec, sp_mlp_test_f1, acc_list, prec_list, rec_list, f1_list)"
   ]
  }
 ],
 "metadata": {
  "kernelspec": {
   "display_name": "ds",
   "language": "python",
   "name": "python3"
  },
  "language_info": {
   "codemirror_mode": {
    "name": "ipython",
    "version": 3
   },
   "file_extension": ".py",
   "mimetype": "text/x-python",
   "name": "python",
   "nbconvert_exporter": "python",
   "pygments_lexer": "ipython3",
   "version": "3.10.16"
  }
 },
 "nbformat": 4,
 "nbformat_minor": 2
}
