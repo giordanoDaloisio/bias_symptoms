{
 "cells": [
  {
   "cell_type": "code",
   "execution_count": 30,
   "metadata": {},
   "outputs": [],
   "source": [
    "import pandas as pd\n",
    "import numpy as np\n",
    "import matplotlib.pyplot as plt\n",
    "import matplotlib.ticker as ticker\n",
    "import seaborn as sns\n",
    "import scipy.stats as stats\n",
    "import os\n",
    "\n",
    "sns.set_theme(style=\"whitegrid\", context=\"paper\", palette=\"binary\")\n",
    "formatter = ticker.ScalarFormatter(useMathText=True)"
   ]
  },
  {
   "cell_type": "markdown",
   "metadata": {},
   "source": [
    "# MLP Base Classifier"
   ]
  },
  {
   "cell_type": "code",
   "execution_count": 43,
   "metadata": {},
   "outputs": [],
   "source": [
    "manila_mlp = pd.read_csv(os.path.join(\"manila_full_mlp\", \"measures.csv\"))\n",
    "manila_mlp_time = pd.read_fwf(os.path.join(\"manila_full_mlp\", \"times.txt\"), header=None)\n",
    "manila_mlp['time'] = manila_mlp_time"
   ]
  },
  {
   "cell_type": "code",
   "execution_count": 44,
   "metadata": {},
   "outputs": [],
   "source": [
    "our_mlp = pd.read_csv(os.path.join(\"our_approach_mlp\", \"measures.csv\"))\n",
    "our_mlp_time = pd.read_fwf(os.path.join(\"our_approach_mlp\", \"times.txt\"), header=None)\n",
    "our_mlp[\"time\"] = our_mlp_time"
   ]
  },
  {
   "cell_type": "code",
   "execution_count": 48,
   "metadata": {},
   "outputs": [
    {
     "data": {
      "text/html": [
       "<div>\n",
       "<style scoped>\n",
       "    .dataframe tbody tr th:only-of-type {\n",
       "        vertical-align: middle;\n",
       "    }\n",
       "\n",
       "    .dataframe tbody tr th {\n",
       "        vertical-align: top;\n",
       "    }\n",
       "\n",
       "    .dataframe thead th {\n",
       "        text-align: right;\n",
       "    }\n",
       "</style>\n",
       "<table border=\"1\" class=\"dataframe\">\n",
       "  <thead>\n",
       "    <tr style=\"text-align: right;\">\n",
       "      <th></th>\n",
       "      <th>pkg</th>\n",
       "      <th>dram</th>\n",
       "      <th>duration</th>\n",
       "      <th>time</th>\n",
       "      <th>method</th>\n",
       "      <th>label</th>\n",
       "      <th>timestamp</th>\n",
       "      <th>socket</th>\n",
       "    </tr>\n",
       "  </thead>\n",
       "  <tbody>\n",
       "    <tr>\n",
       "      <th>0</th>\n",
       "      <td>2.660181e+09</td>\n",
       "      <td>9.829101e+07</td>\n",
       "      <td>1.777660e+08</td>\n",
       "      <td>179.212476</td>\n",
       "      <td>Baseline</td>\n",
       "      <td>NaN</td>\n",
       "      <td>NaN</td>\n",
       "      <td>NaN</td>\n",
       "    </tr>\n",
       "    <tr>\n",
       "      <th>1</th>\n",
       "      <td>2.657124e+09</td>\n",
       "      <td>9.849050e+07</td>\n",
       "      <td>1.784617e+08</td>\n",
       "      <td>178.196058</td>\n",
       "      <td>Baseline</td>\n",
       "      <td>NaN</td>\n",
       "      <td>NaN</td>\n",
       "      <td>NaN</td>\n",
       "    </tr>\n",
       "    <tr>\n",
       "      <th>2</th>\n",
       "      <td>2.672012e+09</td>\n",
       "      <td>9.868693e+07</td>\n",
       "      <td>1.789471e+08</td>\n",
       "      <td>178.762414</td>\n",
       "      <td>Baseline</td>\n",
       "      <td>NaN</td>\n",
       "      <td>NaN</td>\n",
       "      <td>NaN</td>\n",
       "    </tr>\n",
       "    <tr>\n",
       "      <th>3</th>\n",
       "      <td>2.679951e+09</td>\n",
       "      <td>9.821266e+07</td>\n",
       "      <td>1.786366e+08</td>\n",
       "      <td>177.928489</td>\n",
       "      <td>Baseline</td>\n",
       "      <td>NaN</td>\n",
       "      <td>NaN</td>\n",
       "      <td>NaN</td>\n",
       "    </tr>\n",
       "    <tr>\n",
       "      <th>4</th>\n",
       "      <td>2.669976e+09</td>\n",
       "      <td>9.853734e+07</td>\n",
       "      <td>1.781652e+08</td>\n",
       "      <td>178.530157</td>\n",
       "      <td>Baseline</td>\n",
       "      <td>NaN</td>\n",
       "      <td>NaN</td>\n",
       "      <td>NaN</td>\n",
       "    </tr>\n",
       "    <tr>\n",
       "      <th>...</th>\n",
       "      <td>...</td>\n",
       "      <td>...</td>\n",
       "      <td>...</td>\n",
       "      <td>...</td>\n",
       "      <td>...</td>\n",
       "      <td>...</td>\n",
       "      <td>...</td>\n",
       "      <td>...</td>\n",
       "    </tr>\n",
       "    <tr>\n",
       "      <th>455</th>\n",
       "      <td>7.033070e+05</td>\n",
       "      <td>1.318300e+04</td>\n",
       "      <td>2.377895e+04</td>\n",
       "      <td>0.023776</td>\n",
       "      <td>Our approach</td>\n",
       "      <td>bar</td>\n",
       "      <td>1.709117e+09</td>\n",
       "      <td>0.0</td>\n",
       "    </tr>\n",
       "    <tr>\n",
       "      <th>456</th>\n",
       "      <td>4.162526e+06</td>\n",
       "      <td>4.656970e+05</td>\n",
       "      <td>2.027487e+05</td>\n",
       "      <td>0.202745</td>\n",
       "      <td>Our approach</td>\n",
       "      <td>bar</td>\n",
       "      <td>1.709117e+09</td>\n",
       "      <td>0.0</td>\n",
       "    </tr>\n",
       "    <tr>\n",
       "      <th>457</th>\n",
       "      <td>6.534400e+05</td>\n",
       "      <td>2.410900e+04</td>\n",
       "      <td>2.460760e+04</td>\n",
       "      <td>0.024605</td>\n",
       "      <td>Our approach</td>\n",
       "      <td>bar</td>\n",
       "      <td>1.709117e+09</td>\n",
       "      <td>0.0</td>\n",
       "    </tr>\n",
       "    <tr>\n",
       "      <th>458</th>\n",
       "      <td>5.574083e+06</td>\n",
       "      <td>2.154540e+05</td>\n",
       "      <td>2.554058e+05</td>\n",
       "      <td>0.255402</td>\n",
       "      <td>Our approach</td>\n",
       "      <td>bar</td>\n",
       "      <td>1.709117e+09</td>\n",
       "      <td>0.0</td>\n",
       "    </tr>\n",
       "    <tr>\n",
       "      <th>459</th>\n",
       "      <td>3.651785e+06</td>\n",
       "      <td>1.901850e+05</td>\n",
       "      <td>1.231686e+05</td>\n",
       "      <td>0.123165</td>\n",
       "      <td>Our approach</td>\n",
       "      <td>bar</td>\n",
       "      <td>1.709117e+09</td>\n",
       "      <td>0.0</td>\n",
       "    </tr>\n",
       "  </tbody>\n",
       "</table>\n",
       "<p>920 rows × 8 columns</p>\n",
       "</div>"
      ],
      "text/plain": [
       "              pkg          dram      duration        time        method label  \\\n",
       "0    2.660181e+09  9.829101e+07  1.777660e+08  179.212476      Baseline   NaN   \n",
       "1    2.657124e+09  9.849050e+07  1.784617e+08  178.196058      Baseline   NaN   \n",
       "2    2.672012e+09  9.868693e+07  1.789471e+08  178.762414      Baseline   NaN   \n",
       "3    2.679951e+09  9.821266e+07  1.786366e+08  177.928489      Baseline   NaN   \n",
       "4    2.669976e+09  9.853734e+07  1.781652e+08  178.530157      Baseline   NaN   \n",
       "..            ...           ...           ...         ...           ...   ...   \n",
       "455  7.033070e+05  1.318300e+04  2.377895e+04    0.023776  Our approach   bar   \n",
       "456  4.162526e+06  4.656970e+05  2.027487e+05    0.202745  Our approach   bar   \n",
       "457  6.534400e+05  2.410900e+04  2.460760e+04    0.024605  Our approach   bar   \n",
       "458  5.574083e+06  2.154540e+05  2.554058e+05    0.255402  Our approach   bar   \n",
       "459  3.651785e+06  1.901850e+05  1.231686e+05    0.123165  Our approach   bar   \n",
       "\n",
       "        timestamp  socket  \n",
       "0             NaN     NaN  \n",
       "1             NaN     NaN  \n",
       "2             NaN     NaN  \n",
       "3             NaN     NaN  \n",
       "4             NaN     NaN  \n",
       "..            ...     ...  \n",
       "455  1.709117e+09     0.0  \n",
       "456  1.709117e+09     0.0  \n",
       "457  1.709117e+09     0.0  \n",
       "458  1.709117e+09     0.0  \n",
       "459  1.709117e+09     0.0  \n",
       "\n",
       "[920 rows x 8 columns]"
      ]
     },
     "execution_count": 48,
     "metadata": {},
     "output_type": "execute_result"
    }
   ],
   "source": [
    "our_mlp['method'] = 'Our approach'\n",
    "manila_mlp['method'] = 'Baseline'\n",
    "full_mlp = pd.concat(\n",
    "    [\n",
    "        manila_mlp,\n",
    "        our_mlp\n",
    "    ]\n",
    ")\n",
    "full_mlp"
   ]
  },
  {
   "cell_type": "markdown",
   "metadata": {},
   "source": [
    "## CPU Consumption"
   ]
  },
  {
   "cell_type": "code",
   "execution_count": 66,
   "metadata": {},
   "outputs": [
    {
     "data": {
      "image/png": "[encoded data removed]",
      "text/plain": [
       "<Figure size 500x300 with 1 Axes>"
      ]
     },
     "metadata": {},
     "output_type": "display_data"
    }
   ],
   "source": [
    "fig, ax = plt.subplots(figsize=(5, 3))\n",
    "sns.barplot(\n",
    "    data=full_mlp,\n",
    "    x=\"method\",\n",
    "    y=\"pkg\",\n",
    "    ax=ax,\n",
    ")\n",
    "ax.set_ylabel('CPU consumption (pkg)')\n",
    "ax.set_xlabel('')\n",
    "ax.yaxis.set_major_formatter(formatter)\n",
    "plt.savefig('figs/pkg_mlp.pdf', bbox_inches='tight')\n",
    "plt.show()"
   ]
  },
  {
   "cell_type": "code",
   "execution_count": 50,
   "metadata": {},
   "outputs": [
    {
     "data": {
      "text/plain": [
       "WilcoxonResult(statistic=0.0, pvalue=4.3092972809371276e-77)"
      ]
     },
     "execution_count": 50,
     "metadata": {},
     "output_type": "execute_result"
    }
   ],
   "source": [
    "stats.wilcoxon(manila_mlp[\"pkg\"], our_mlp[\"pkg\"])"
   ]
  },
  {
   "cell_type": "markdown",
   "metadata": {},
   "source": [
    "## Execution time"
   ]
  },
  {
   "cell_type": "code",
   "execution_count": 65,
   "metadata": {},
   "outputs": [
    {
     "data": {
      "image/png": "[encoded data removed]",
      "text/plain": [
       "<Figure size 500x300 with 1 Axes>"
      ]
     },
     "metadata": {},
     "output_type": "display_data"
    }
   ],
   "source": [
    "fig, ax = plt.subplots(figsize=(5, 3))\n",
    "sns.barplot(data=full_mlp, x=\"method\", y=\"time\", hue=\"method\", ax=ax)\n",
    "ax.set_ylabel(\"Execution time (s)\")\n",
    "ax.set_xlabel(\"\")\n",
    "# plt.title(\"Execution time\")\n",
    "plt.savefig(\"figs/time_bin.pdf\", bbox_inches=\"tight\")\n",
    "plt.show()"
   ]
  },
  {
   "cell_type": "code",
   "execution_count": 54,
   "metadata": {},
   "outputs": [
    {
     "data": {
      "text/plain": [
       "WilcoxonResult(statistic=0.0, pvalue=4.3092972809371276e-77)"
      ]
     },
     "execution_count": 54,
     "metadata": {},
     "output_type": "execute_result"
    }
   ],
   "source": [
    "stats.wilcoxon(manila_mlp[\"time\"], our_mlp[\"time\"])"
   ]
  },
  {
   "cell_type": "markdown",
   "metadata": {},
   "source": [
    "# Random Forest Classifier"
   ]
  },
  {
   "cell_type": "code",
   "execution_count": 60,
   "metadata": {},
   "outputs": [],
   "source": [
    "manila = pd.read_csv(\"manila_full_rf/measures.csv\")\n",
    "our = pd.read_csv(\"our_approach_rf/measures.csv\")\n",
    "manila_time = pd.read_fwf(\"manila_full_rf/times.txt\", header=None)\n",
    "manila[\"time\"] = manila_time\n",
    "our_time = pd.read_fwf(\"our_approach_rf/times.txt\", header=None)\n",
    "our[\"time\"] = our_time\n",
    "manila[\"approach\"] = \"Baseline\"\n",
    "our[\"approach\"] = \"Our approach\"\n",
    "full = pd.concat([manila, our])"
   ]
  },
  {
   "cell_type": "markdown",
   "metadata": {},
   "source": [
    "## CPU consumption"
   ]
  },
  {
   "cell_type": "code",
   "execution_count": 61,
   "metadata": {},
   "outputs": [
    {
     "data": {
      "image/png": "[encoded data removed]",
      "text/plain": [
       "<Figure size 500x300 with 1 Axes>"
      ]
     },
     "metadata": {},
     "output_type": "display_data"
    }
   ],
   "source": [
    "fig, ax = plt.subplots(figsize=(5, 3))\n",
    "sns.barplot(data=full, x=\"approach\", y=\"pkg\", hue=\"approach\", ax=ax)\n",
    "ax.set_ylabel(\"CPU consumption (pkg)\")\n",
    "ax.set_xlabel(\"\")\n",
    "ax.yaxis.set_major_formatter(formatter)\n",
    "plt.savefig(\"figs/pkg_rf.pdf\", bbox_inches=\"tight\")\n",
    "plt.show()"
   ]
  },
  {
   "cell_type": "code",
   "execution_count": 62,
   "metadata": {},
   "outputs": [
    {
     "data": {
      "text/plain": [
       "WilcoxonResult(statistic=0.0, pvalue=4.3092972809371276e-77)"
      ]
     },
     "execution_count": 62,
     "metadata": {},
     "output_type": "execute_result"
    }
   ],
   "source": [
    "stats.wilcoxon(manila[\"pkg\"], our[\"pkg\"])"
   ]
  },
  {
   "cell_type": "markdown",
   "metadata": {},
   "source": [
    "## Training time"
   ]
  },
  {
   "cell_type": "code",
   "execution_count": 63,
   "metadata": {},
   "outputs": [
    {
     "data": {
      "image/png": "[encoded data removed]",
      "text/plain": [
       "<Figure size 500x300 with 1 Axes>"
      ]
     },
     "metadata": {},
     "output_type": "display_data"
    }
   ],
   "source": [
    "fig, ax = plt.subplots(figsize=(5, 3))\n",
    "sns.barplot(data=full, x=\"approach\", y=\"time\", hue=\"approach\", ax=ax)\n",
    "ax.set_ylabel(\"Execution time (s)\")\n",
    "ax.set_xlabel(\"\")\n",
    "# plt.title(\"Execution time\")\n",
    "plt.savefig(\"figs/time_full.pdf\", bbox_inches=\"tight\")\n",
    "plt.show()"
   ]
  },
  {
   "cell_type": "code",
   "execution_count": 64,
   "metadata": {},
   "outputs": [
    {
     "data": {
      "text/plain": [
       "WilcoxonResult(statistic=0.0, pvalue=4.3092972809371276e-77)"
      ]
     },
     "execution_count": 64,
     "metadata": {},
     "output_type": "execute_result"
    }
   ],
   "source": [
    "stats.wilcoxon(manila[\"time\"], our[\"time\"])"
   ]
  }
 ],
 "metadata": {
  "kernelspec": {
   "display_name": "bias",
   "language": "python",
   "name": "python3"
  },
  "language_info": {
   "codemirror_mode": {
    "name": "ipython",
    "version": 3
   },
   "file_extension": ".py",
   "mimetype": "text/x-python",
   "name": "python",
   "nbconvert_exporter": "python",
   "pygments_lexer": "ipython3",
   "version": "3.10.13"
  }
 },
 "nbformat": 4,
 "nbformat_minor": 2
}
