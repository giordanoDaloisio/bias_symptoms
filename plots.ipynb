{
 "cells": [
  {
   "cell_type": "code",
   "execution_count": null,
   "metadata": {},
   "outputs": [],
   "source": [
    "import pandas as pd\n",
    "import seaborn as sns\n",
    "import matplotlib.pyplot as plt\n",
    "\n",
    "%load_ext autoreload\n",
    "%autoreload 2\n",
    "\n",
    "sns.set_theme(style=\"whitegrid\", font_scale=1.5)"
   ]
  },
  {
   "cell_type": "markdown",
   "metadata": {},
   "source": [
    "# Analysis of Bias Symptoms"
   ]
  },
  {
   "cell_type": "markdown",
   "metadata": {},
   "source": [
    "Selected Datasets:\n",
    "\n",
    "- Biased Dataset: `Adult Income dataset`\n",
    "- Unbiased Dataset: `Kickstarter Projects dataset`\n",
    "\n",
    "Steps:\n",
    "\n",
    "- Train a Logistic Regression classifier on the training set\n",
    "- Predict the label on the testing set\n",
    "- Select from the testing set only binary columns with a permutation importance score $\\geq 0.01$\n",
    "- Compute the following metrics on the selected columns:\n",
    "    - Permutation importance score\n",
    "    - Correlation with the predicted label\n",
    "    - Groups unbalance (defined as the ratio between expected and observed groups size, optimal value equal to 0)\n",
    "    - Absolute Statistical parity (optimal value equal to 0)\n",
    "    - Absolute Equalized odds (optimal value equal to 0)"
   ]
  },
  {
   "cell_type": "markdown",
   "metadata": {},
   "source": [
    "## Biased Data"
   ]
  },
  {
   "cell_type": "code",
   "execution_count": null,
   "metadata": {},
   "outputs": [],
   "source": [
    "symptoms = pd.read_csv('symptoms_adult.csv', index_col=0)\n",
    "symptoms.sort_values(by='equalized_odds', ascending=False, inplace=True)\n",
    "symptoms = symptoms[symptoms[\"importance\"] > 0.01]\n",
    "symptoms['unbalance'] = abs(1-symptoms['unbalance'])\n",
    "symptoms = symptoms.melt(\n",
    "    id_vars=[\"variable\"],\n",
    "    value_vars=[\"importance\", \"correlation\", \"unbalance\", \"statistical_parity\", \"equalized_odds\"],\n",
    "    var_name=\"symptom\",\n",
    ")\n",
    "symptoms['value'] = symptoms['value'].abs()"
   ]
  },
  {
   "cell_type": "code",
   "execution_count": null,
   "metadata": {},
   "outputs": [],
   "source": [
    "fig = sns.catplot(\n",
    "    data=symptoms,\n",
    "    y=\"variable\",\n",
    "    x=\"value\",\n",
    "    hue=\"symptom\",\n",
    "    kind=\"bar\",\n",
    "    height=15,\n",
    "    aspect=1\n",
    ")\n",
    "\n",
    "plt.axvline(x=0.3, color='red')\n",
    "plt.title(\"Biased Dataset\")\n",
    "plt.xlabel(\"Metrics\")\n",
    "plt.ylabel(\"Variable\")\n",
    "plt.show()"
   ]
  },
  {
   "cell_type": "markdown",
   "metadata": {},
   "source": [
    "## Unbiased Data"
   ]
  },
  {
   "cell_type": "code",
   "execution_count": null,
   "metadata": {},
   "outputs": [],
   "source": [
    "symptoms_nob = pd.read_csv(\"symptoms_kickstarter_proc.csv\", index_col=0)\n",
    "symptoms_nob = symptoms_nob[symptoms_nob[\"importance\"] > 0.005]\n",
    "symptoms_nob.sort_values(by=\"statistical_parity\", ascending=True, inplace=True)\n",
    "symptoms_nob[\"unbalance\"] = abs(1 - symptoms_nob[\"unbalance\"])\n",
    "\n",
    "symptoms_nob = symptoms_nob.melt(\n",
    "    id_vars=[\"variable\"],\n",
    "    value_vars=[\n",
    "        \"importance\",\n",
    "        \"correlation\",\n",
    "        \"unbalance\",\n",
    "        \"statistical_parity\",\n",
    "        \"equalized_odds\",\n",
    "    ],\n",
    "    var_name=\"symptom\",\n",
    "\n",
    ")\n",
    "symptoms_nob[\"value\"] = symptoms_nob[\"value\"].abs()"
   ]
  },
  {
   "cell_type": "code",
   "execution_count": null,
   "metadata": {},
   "outputs": [],
   "source": [
    "fig = sns.catplot(\n",
    "    data=symptoms_nob,\n",
    "    y=\"variable\",\n",
    "    x=\"value\",\n",
    "    hue=\"symptom\",\n",
    "    kind=\"bar\",\n",
    "    height=15,\n",
    "    aspect=1\n",
    ")\n",
    "\n",
    "plt.axvline(x=0.3, color='red')\n",
    "plt.xlabel(\"Metrics\")\n",
    "plt.ylabel(\"Variable\")\n",
    "plt.title(\"Unbiased Dataset\")\n",
    "plt.show()"
   ]
  },
  {
   "cell_type": "markdown",
   "metadata": {},
   "source": [
    "## Correlation plots"
   ]
  },
  {
   "cell_type": "code",
   "execution_count": null,
   "metadata": {},
   "outputs": [],
   "source": [
    "symptoms = pd.read_csv(\"symptoms_adult.csv\", index_col=0)\n",
    "symptoms = symptoms[symptoms[\"importance\"] > 0.01]\n",
    "correlation_matrix = symptoms.corr()\n",
    "\n",
    "plt.figure(figsize=(10, 8))\n",
    "\n",
    "sns.heatmap(correlation_matrix, annot=True, cmap=\"coolwarm\")\n",
    "\n",
    "plt.title(\"Correlation Plot Biased Dataset\")\n",
    "\n",
    "plt.show()"
   ]
  },
  {
   "cell_type": "code",
   "execution_count": null,
   "metadata": {},
   "outputs": [],
   "source": [
    "symptoms_nob = pd.read_csv(\"symptoms_kickstarter_proc.csv\", index_col=0)\n",
    "symptoms_nob = symptoms_nob[symptoms_nob[\"importance\"] > 0.005]\n",
    "\n",
    "\n",
    "correlation_matrix = symptoms_nob.corr()\n",
    "\n",
    "plt.figure(figsize=(10, 8))\n",
    "\n",
    "sns.heatmap(correlation_matrix, annot=True, cmap=\"coolwarm\")\n",
    "\n",
    "plt.title(\"Correlation Plot Unbiased Dataset\")\n",
    "\n",
    "plt.show()"
   ]
  },
  {
   "cell_type": "markdown",
   "metadata": {},
   "source": [
    "### Challenges\n",
    "\n",
    "1. So far we consider only binary columns, but the analysis can be extended also to specific values of categorical columns. In this case, computing the fairness metric for each possible value can be extremely computationally complex.\n",
    "2. We are not considering groups identified by multiple sensitive variables. In this case, we must consider all possible combinations of sensitive variables, which can be extremely computationally complex."
   ]
  }
 ],
 "metadata": {
  "kernelspec": {
   "display_name": "Python 3",
   "language": "python",
   "name": "python3"
  },
  "language_info": {
   "codemirror_mode": {
    "name": "ipython",
    "version": 3
   },
   "file_extension": ".py",
   "mimetype": "text/x-python",
   "name": "python",
   "nbconvert_exporter": "python",
   "pygments_lexer": "ipython3",
   "version": "3.9.7"
  }
 },
 "nbformat": 4,
 "nbformat_minor": 2
}
