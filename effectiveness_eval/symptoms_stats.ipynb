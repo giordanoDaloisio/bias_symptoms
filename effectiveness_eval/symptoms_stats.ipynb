{
 "cells": [
  {
   "cell_type": "code",
   "execution_count": 7,
   "metadata": {},
   "outputs": [],
   "source": [
    "import pandas as pd\n",
    "import matplotlib.pyplot as plt\n",
    "import seaborn as sns\n",
    "from scipy.stats import ttest_ind, kendalltau\n",
    "from cliffs_delta import cliffs_delta\n",
    "\n",
    "sns.set_theme(style=\"whitegrid\", context='paper', palette='Greys')"
   ]
  },
  {
   "cell_type": "markdown",
   "metadata": {},
   "source": [
    "## Correlation analysis"
   ]
  },
  {
   "cell_type": "code",
   "execution_count": 4,
   "metadata": {},
   "outputs": [],
   "source": [
    "data = pd.read_csv(\"data/bias_symptoms.csv\", index_col=[0, 1])"
   ]
  },
  {
   "cell_type": "markdown",
   "metadata": {},
   "source": [
    "### Correlation symptoms and metrics"
   ]
  },
  {
   "cell_type": "code",
   "execution_count": 9,
   "metadata": {},
   "outputs": [],
   "source": [
    "important_features = ['unpriv_prob_pos', 'kurtosis_var', 'correlation_true', 'mutual_info', 'pos_prob', 'skew_var', 'priv_prob_pos', 'unbalance', 'unpriv_prob_neg', 'neg_prob', 'priv_prob_neg']"
   ]
  },
  {
   "cell_type": "code",
   "execution_count": 10,
   "metadata": {},
   "outputs": [
    {
     "name": "stdout",
     "output_type": "stream",
     "text": [
      "unpriv_prob_pos 0.015850124573293236\n",
      "kurtosis_var 4.45015518143181e-193\n",
      "correlation_true 7.632762757102702e-07\n",
      "mutual_info 2.0964243578078605e-61\n",
      "pos_prob 3.77587193343648e-05\n",
      "skew_var 2.917565304223906e-134\n",
      "priv_prob_pos 7.961377713016335e-05\n",
      "unbalance 0.4175437635550592\n",
      "unpriv_prob_neg 0.015850124573293236\n",
      "neg_prob 3.774877182840267e-05\n",
      "priv_prob_neg 7.961377713016335e-05\n"
     ]
    }
   ],
   "source": [
    "sp_correlations = pd.DataFrame(columns=['Statistical Parity'])\n",
    "for feature in important_features:\n",
    "    sp_correlations.loc[feature] = kendalltau(data['statistical_parity'], data[feature])[0]\n",
    "    print(feature, kendalltau(data['statistical_parity'], data[feature])[1])"
   ]
  },
  {
   "cell_type": "code",
   "execution_count": 11,
   "metadata": {},
   "outputs": [
    {
     "name": "stdout",
     "output_type": "stream",
     "text": [
      "unpriv_prob_pos 7.479333965008174e-58\n",
      "kurtosis_var 0.0\n",
      "correlation_true 0.7967093356182586\n",
      "mutual_info 0.0007187468168639104\n",
      "pos_prob 0.0035476350756200405\n",
      "skew_var 5.75320007012021e-275\n",
      "priv_prob_pos 5.921729536505201e-07\n",
      "unbalance 0.06919970469461686\n",
      "unpriv_prob_neg 7.479333965008174e-58\n",
      "neg_prob 0.0035475467826887575\n",
      "priv_prob_neg 5.921729536505201e-07\n"
     ]
    }
   ],
   "source": [
    "eo_correlations = pd.DataFrame(columns=['Equal Opportunity'])\n",
    "for feature in important_features:\n",
    "    eo_correlations.loc[feature] = kendalltau(data['equal_opportunity'], data[feature])[0]\n",
    "    print(feature, kendalltau(data['equal_opportunity'], data[feature])[1])"
   ]
  },
  {
   "cell_type": "code",
   "execution_count": 12,
   "metadata": {},
   "outputs": [
    {
     "name": "stdout",
     "output_type": "stream",
     "text": [
      "unpriv_prob_pos 1.2268207512585685e-08\n",
      "kurtosis_var 2.643059533890519e-88\n",
      "correlation_true 0.06736073856759005\n",
      "mutual_info 1.104359826035202e-25\n",
      "pos_prob 4.0914982303575934e-74\n",
      "skew_var 2.907890380089849e-45\n",
      "priv_prob_pos 3.830501414390883e-98\n",
      "unbalance 1.0532937011662693e-08\n",
      "unpriv_prob_neg 1.2268207512585685e-08\n",
      "neg_prob 4.089205367828571e-74\n",
      "priv_prob_neg 3.830501414390883e-98\n"
     ]
    }
   ],
   "source": [
    "ao_correlation = pd.DataFrame(columns=['Average Odds'])\n",
    "for feature in important_features:\n",
    "    ao_correlation.loc[feature] = kendalltau(data['average_odds'], data[feature])[0]\n",
    "    print(feature, kendalltau(data['average_odds'], data[feature])[1])"
   ]
  },
  {
   "cell_type": "code",
   "execution_count": 13,
   "metadata": {},
   "outputs": [],
   "source": [
    "correlations = pd.concat([sp_correlations, eo_correlations, ao_correlation], axis=1)"
   ]
  },
  {
   "cell_type": "code",
   "execution_count": 14,
   "metadata": {},
   "outputs": [],
   "source": [
    "correlations.to_latex('correlations.tex', float_format=\"%.3f\")"
   ]
  },
  {
   "cell_type": "markdown",
   "metadata": {},
   "source": [
    "### Correlation between symptoms"
   ]
  },
  {
   "cell_type": "code",
   "execution_count": 15,
   "metadata": {},
   "outputs": [],
   "source": [
    "data[important_features].corr('kendall').to_latex('correlation_matrix.tex', float_format=\"%.3f\")"
   ]
  },
  {
   "cell_type": "code",
   "execution_count": 16,
   "metadata": {},
   "outputs": [
    {
     "name": "stdout",
     "output_type": "stream",
     "text": [
      "unpriv_prob_pos unpriv_prob_pos 0.0\n",
      "unpriv_prob_pos kurtosis_var 1.0882338216167122e-43\n",
      "unpriv_prob_pos correlation_true 0.034159514075288895\n",
      "unpriv_prob_pos mutual_info 4.0198828206249125e-65\n",
      "unpriv_prob_pos pos_prob 1.5378447070734712e-38\n",
      "unpriv_prob_pos skew_var 1.3036041395092385e-11\n",
      "unpriv_prob_pos priv_prob_pos 2.0802561648594455e-307\n",
      "unpriv_prob_pos unbalance 5.5431514577473196e-52\n",
      "unpriv_prob_pos unpriv_prob_neg 0.0\n",
      "unpriv_prob_pos neg_prob 1.5385043909081945e-38\n",
      "unpriv_prob_pos priv_prob_neg 2.0802561648594455e-307\n",
      "kurtosis_var unpriv_prob_pos 1.0882338216167122e-43\n",
      "kurtosis_var kurtosis_var 0.0\n",
      "kurtosis_var correlation_true 0.85706221543918\n",
      "kurtosis_var mutual_info 6.816850366511135e-245\n",
      "kurtosis_var pos_prob 1.9218229314381373e-10\n",
      "kurtosis_var skew_var 0.0\n",
      "kurtosis_var priv_prob_pos 2.3761157233386746e-68\n",
      "kurtosis_var unbalance 2.297103112972068e-15\n",
      "kurtosis_var unpriv_prob_neg 1.0882338216167122e-43\n",
      "kurtosis_var neg_prob 1.922481270871082e-10\n",
      "kurtosis_var priv_prob_neg 2.3761157233386746e-68\n",
      "correlation_true unpriv_prob_pos 0.034159514075288895\n",
      "correlation_true kurtosis_var 0.85706221543918\n",
      "correlation_true correlation_true 0.0\n",
      "correlation_true mutual_info 0.0741536651539556\n",
      "correlation_true pos_prob 5.905668220275266e-34\n",
      "correlation_true skew_var 0.07696886837247902\n",
      "correlation_true priv_prob_pos 1.1468513122667247e-34\n",
      "correlation_true unbalance 1.0834777804412281e-05\n",
      "correlation_true unpriv_prob_neg 0.034159514075288895\n",
      "correlation_true neg_prob 5.910413898735294e-34\n",
      "correlation_true priv_prob_neg 1.1468513122667247e-34\n",
      "mutual_info unpriv_prob_pos 4.0198828206249125e-65\n",
      "mutual_info kurtosis_var 6.816850366511135e-245\n",
      "mutual_info correlation_true 0.0741536651539556\n",
      "mutual_info mutual_info 0.0\n",
      "mutual_info pos_prob 6.420321974729782e-08\n",
      "mutual_info skew_var 9.931158687710447e-219\n",
      "mutual_info priv_prob_pos 0.0004591544650553842\n",
      "mutual_info unbalance 1.6802412061878124e-21\n",
      "mutual_info unpriv_prob_neg 4.0198828206249125e-65\n",
      "mutual_info neg_prob 6.420321934332009e-08\n",
      "mutual_info priv_prob_neg 0.0004591544650553842\n",
      "pos_prob unpriv_prob_pos 1.5378447070734712e-38\n",
      "pos_prob kurtosis_var 1.9218229314381373e-10\n",
      "pos_prob correlation_true 5.905668220275266e-34\n",
      "pos_prob mutual_info 6.420321974729782e-08\n",
      "pos_prob pos_prob 0.0\n",
      "pos_prob skew_var 1.76405578263585e-31\n",
      "pos_prob priv_prob_pos 0.0\n",
      "pos_prob unbalance 0.0\n",
      "pos_prob unpriv_prob_neg 1.5378447070734712e-38\n",
      "pos_prob neg_prob 0.0\n",
      "pos_prob priv_prob_neg 0.0\n",
      "skew_var unpriv_prob_pos 1.3036041395092385e-11\n",
      "skew_var kurtosis_var 0.0\n",
      "skew_var correlation_true 0.07696886837247902\n",
      "skew_var mutual_info 9.931158687710447e-219\n",
      "skew_var pos_prob 1.76405578263585e-31\n",
      "skew_var skew_var 0.0\n",
      "skew_var priv_prob_pos 9.540053193905126e-58\n",
      "skew_var unbalance 0.9344867270390391\n",
      "skew_var unpriv_prob_neg 1.3036041395092385e-11\n",
      "skew_var neg_prob 1.765282390535812e-31\n",
      "skew_var priv_prob_neg 9.540053193905126e-58\n",
      "priv_prob_pos unpriv_prob_pos 2.0802561648594455e-307\n",
      "priv_prob_pos kurtosis_var 2.3761157233386746e-68\n",
      "priv_prob_pos correlation_true 1.1468513122667247e-34\n",
      "priv_prob_pos mutual_info 0.0004591544650553842\n",
      "priv_prob_pos pos_prob 0.0\n",
      "priv_prob_pos skew_var 9.540053193905126e-58\n",
      "priv_prob_pos priv_prob_pos 0.0\n",
      "priv_prob_pos unbalance 6.638961158731865e-180\n",
      "priv_prob_pos unpriv_prob_neg 2.0802561648594455e-307\n",
      "priv_prob_pos neg_prob 0.0\n",
      "priv_prob_pos priv_prob_neg 0.0\n",
      "unbalance unpriv_prob_pos 5.5431514577473196e-52\n",
      "unbalance kurtosis_var 2.297103112972068e-15\n",
      "unbalance correlation_true 1.0834777804412281e-05\n",
      "unbalance mutual_info 1.6802412061878124e-21\n",
      "unbalance pos_prob 0.0\n",
      "unbalance skew_var 0.9344867270390391\n",
      "unbalance priv_prob_pos 6.638961158731865e-180\n",
      "unbalance unbalance 0.0\n",
      "unbalance unpriv_prob_neg 5.5431514577473196e-52\n",
      "unbalance neg_prob 0.0\n",
      "unbalance priv_prob_neg 6.638961158731865e-180\n",
      "unpriv_prob_neg unpriv_prob_pos 0.0\n",
      "unpriv_prob_neg kurtosis_var 1.0882338216167122e-43\n",
      "unpriv_prob_neg correlation_true 0.034159514075288895\n",
      "unpriv_prob_neg mutual_info 4.0198828206249125e-65\n",
      "unpriv_prob_neg pos_prob 1.5378447070734712e-38\n",
      "unpriv_prob_neg skew_var 1.3036041395092385e-11\n",
      "unpriv_prob_neg priv_prob_pos 2.0802561648594455e-307\n",
      "unpriv_prob_neg unbalance 5.5431514577473196e-52\n",
      "unpriv_prob_neg unpriv_prob_neg 0.0\n",
      "unpriv_prob_neg neg_prob 1.5385043909081945e-38\n",
      "unpriv_prob_neg priv_prob_neg 2.0802561648594455e-307\n",
      "neg_prob unpriv_prob_pos 1.5385043909081945e-38\n",
      "neg_prob kurtosis_var 1.922481270871082e-10\n",
      "neg_prob correlation_true 5.910413898735294e-34\n",
      "neg_prob mutual_info 6.420321934332009e-08\n",
      "neg_prob pos_prob 0.0\n",
      "neg_prob skew_var 1.765282390535812e-31\n",
      "neg_prob priv_prob_pos 0.0\n",
      "neg_prob unbalance 0.0\n",
      "neg_prob unpriv_prob_neg 1.5385043909081945e-38\n",
      "neg_prob neg_prob 0.0\n",
      "neg_prob priv_prob_neg 0.0\n",
      "priv_prob_neg unpriv_prob_pos 2.0802561648594455e-307\n",
      "priv_prob_neg kurtosis_var 2.3761157233386746e-68\n",
      "priv_prob_neg correlation_true 1.1468513122667247e-34\n",
      "priv_prob_neg mutual_info 0.0004591544650553842\n",
      "priv_prob_neg pos_prob 0.0\n",
      "priv_prob_neg skew_var 9.540053193905126e-58\n",
      "priv_prob_neg priv_prob_pos 0.0\n",
      "priv_prob_neg unbalance 6.638961158731865e-180\n",
      "priv_prob_neg unpriv_prob_neg 2.0802561648594455e-307\n",
      "priv_prob_neg neg_prob 0.0\n",
      "priv_prob_neg priv_prob_neg 0.0\n"
     ]
    }
   ],
   "source": [
    "# print p values of correlation between features\n",
    "for feature1 in important_features:\n",
    "    for feature2 in important_features:\n",
    "        print(feature1, feature2, kendalltau(data[feature1], data[feature2])[1])"
   ]
  },
  {
   "cell_type": "markdown",
   "metadata": {},
   "source": [
    "### Correlation between metrics"
   ]
  },
  {
   "cell_type": "code",
   "execution_count": 18,
   "metadata": {},
   "outputs": [],
   "source": [
    "data[['statistical_parity', 'equal_opportunity', 'average_odds']].corr('kendall').to_latex('corr_metrics.tex', float_format=\"%.3f\")"
   ]
  },
  {
   "cell_type": "code",
   "execution_count": 20,
   "metadata": {},
   "outputs": [
    {
     "name": "stdout",
     "output_type": "stream",
     "text": [
      "statistical_parity statistical_parity 0.0\n",
      "statistical_parity equal_opportunity 3.155116244722005e-172\n",
      "statistical_parity average_odds 8.742031511472009e-296\n",
      "equal_opportunity statistical_parity 3.155116244722005e-172\n",
      "equal_opportunity equal_opportunity 0.0\n",
      "equal_opportunity average_odds 1.3479257761157075e-30\n",
      "average_odds statistical_parity 8.742031511472009e-296\n",
      "average_odds equal_opportunity 1.3479257761157075e-30\n",
      "average_odds average_odds 0.0\n"
     ]
    }
   ],
   "source": [
    "for metric in ['statistical_parity', 'equal_opportunity', 'average_odds']:\n",
    "    for metric2 in ['statistical_parity', 'equal_opportunity', 'average_odds']:\n",
    "        print(metric, metric2, kendalltau(data[metric], data[metric2])[1])"
   ]
  },
  {
   "cell_type": "markdown",
   "metadata": {},
   "source": [
    "## Distribution of the data"
   ]
  },
  {
   "cell_type": "code",
   "execution_count": 30,
   "metadata": {},
   "outputs": [],
   "source": [
    "def plot_differences(symps, symp, symp_name):\n",
    "    corr_high_sp = symps[symps[\"statistical_parity\"] == 1][symp].values\n",
    "    corr_low_sp = symps[symps[\"statistical_parity\"] == 0][symp].values\n",
    "    corr_high_eo = symps[symps[\"equal_opportunity\"] == 1][symp].values\n",
    "    corr_low_eo = symps[symps[\"equal_opportunity\"] == 0][symp].values\n",
    "    corr_high_ao = symps[symps[\"average_odds\"] == 1][symp].values\n",
    "    corr_low_ao = symps[symps[\"average_odds\"] == 0][symp].values\n",
    "    df = pd.DataFrame(\n",
    "        {\n",
    "            symp_name: [\n",
    "                corr_high_sp,\n",
    "                corr_low_sp,\n",
    "                corr_high_eo,\n",
    "                corr_low_eo,\n",
    "                corr_high_ao,\n",
    "                corr_low_ao,\n",
    "            ],\n",
    "            \"Metric\": [\n",
    "                \"Statistical Parity\",\n",
    "                \"Statistical Parity\",\n",
    "                \"Equal Opportunity\",\n",
    "                \"Equal Opportunity\",\n",
    "                \"Average Odds\",\n",
    "                \"Average Odds\",\n",
    "            ],\n",
    "            \"Bias\": [\"High\", \"Low\", \"High\", \"Low\", \"High\", \"Low\"],\n",
    "        }\n",
    "    )\n",
    "    df = df.explode(symp_name)\n",
    "    g = sns.FacetGrid(df, col=\"Metric\", height=5, aspect=0.5)\n",
    "    g.map(\n",
    "        sns.barplot,\n",
    "        \"Bias\",\n",
    "        symp_name,\n",
    "        \"Bias\",\n",
    "        order=[\"Low\", \"High\"],\n",
    "        hue_order=[\"Low\", \"High\"],\n",
    "        palette=sns.color_palette()[0:4:3],\n",
    "    )\n",
    "    g.add_legend()\n",
    "    g.set_axis_labels(\"\", symp_name)\n",
    "    plt.savefig(f\"figs/{symp_name}.pdf\")\n",
    "    plt.show()\n",
    "    print(ttest_ind(corr_high_sp, corr_low_sp, equal_var=False))\n",
    "    print(ttest_ind(corr_high_eo, corr_low_eo, equal_var=False))\n",
    "    print(ttest_ind(corr_high_ao, corr_low_ao, equal_var=False))\n",
    "    print(cliffs_delta(corr_high_sp, corr_low_sp))\n",
    "    print(cliffs_delta(corr_high_eo, corr_low_eo))\n",
    "    print(cliffs_delta(corr_high_ao, corr_low_ao))"
   ]
  },
  {
   "cell_type": "markdown",
   "metadata": {},
   "source": [
    "### Analysis of Mutual Information"
   ]
  },
  {
   "cell_type": "code",
   "execution_count": 31,
   "metadata": {},
   "outputs": [
    {
     "data": {
      "image/png": "[encoded data removed]",
      "text/plain": [
       "<Figure size 759.778x500 with 3 Axes>"
      ]
     },
     "metadata": {},
     "output_type": "display_data"
    },
    {
     "name": "stdout",
     "output_type": "stream",
     "text": [
      "TtestResult(statistic=12.181259491235245, pvalue=1.1050329735503381e-33, df=5273.542215517817)\n",
      "TtestResult(statistic=4.969556617657444, pvalue=6.981220136577633e-07, df=4148.467645721216)\n",
      "TtestResult(statistic=8.787038962485973, pvalue=2.118614327152681e-18, df=4698.47871442909)\n",
      "(0.24800113804483898, 'small')\n",
      "(0.05192252149740341, 'negligible')\n",
      "(0.15887782630260947, 'small')\n"
     ]
    }
   ],
   "source": [
    "plot_differences(data, \"mutual_info\", \"Mutual Information\")"
   ]
  },
  {
   "cell_type": "markdown",
   "metadata": {},
   "source": [
    "## Kendall's Tau"
   ]
  },
  {
   "cell_type": "code",
   "execution_count": 32,
   "metadata": {},
   "outputs": [
    {
     "data": {
      "image/png": "[encoded data removed]",
      "text/plain": [
       "<Figure size 759.778x500 with 3 Axes>"
      ]
     },
     "metadata": {},
     "output_type": "display_data"
    },
    {
     "name": "stdout",
     "output_type": "stream",
     "text": [
      "TtestResult(statistic=4.920407206060938, pvalue=8.90281128912713e-07, df=5200.347519522351)\n",
      "TtestResult(statistic=1.8430507055195782, pvalue=0.06538212656436809, df=4887.272983939778)\n",
      "TtestResult(statistic=2.119145188288985, pvalue=0.034130380173150406, df=4710.563657264576)\n",
      "(0.07416638215545693, 'negligible')\n",
      "(0.003954575780082866, 'negligible')\n",
      "(0.02774027003712103, 'negligible')\n"
     ]
    }
   ],
   "source": [
    "plot_differences(data, \"correlation_true\", \"Kendall's Tau\")"
   ]
  },
  {
   "cell_type": "markdown",
   "metadata": {},
   "source": [
    "## Metrics Distribution"
   ]
  },
  {
   "cell_type": "code",
   "execution_count": 26,
   "metadata": {},
   "outputs": [],
   "source": [
    "distr = pd.DataFrame(\n",
    "    [\n",
    "        {\n",
    "            \"Statistical Parity\": [\n",
    "              data[data[\"statistical_parity\"] == 0].shape[0]/data.shape[0],\n",
    "              data[data[\"statistical_parity\"] == 1].shape[0]/data.shape[0],\n",
    "            ],\n",
    "            \"Equal Opportunity\": [\n",
    "              data[data[\"equal_opportunity\"] == 0].shape[0]/data.shape[0],\n",
    "              data[data[\"equal_opportunity\"] == 1].shape[0]/data.shape[0],\n",
    "            ],\n",
    "            \"Average Odds\": [\n",
    "              data[data[\"average_odds\"] == 0].shape[0]/data.shape[0],\n",
    "              data[data[\"average_odds\"] == 1].shape[0]/data.shape[0],\n",
    "            ],\n",
    "            \"Bias\": [\"Low\", \"High\"]\n",
    "        }\n",
    "    ]\n",
    ")"
   ]
  },
  {
   "cell_type": "code",
   "execution_count": 27,
   "metadata": {},
   "outputs": [],
   "source": [
    "distr = distr.explode(['Statistical Parity', 'Equal Opportunity', 'Average Odds', 'Bias']).melt(id_vars='Bias', var_name='Metric', value_name='Proportion')"
   ]
  },
  {
   "cell_type": "code",
   "execution_count": 29,
   "metadata": {},
   "outputs": [
    {
     "data": {
      "image/png": "[encoded data removed]",
      "text/plain": [
       "<Figure size 900x300 with 3 Axes>"
      ]
     },
     "metadata": {},
     "output_type": "display_data"
    }
   ],
   "source": [
    "g = sns.catplot(\n",
    "    data=distr,\n",
    "    col=\"Metric\",\n",
    "    x=\"Bias\",\n",
    "    y=\"Proportion\",\n",
    "    kind=\"bar\",\n",
    "    hue=\"Bias\",\n",
    "    palette=sns.color_palette()[0:4:3],\n",
    "    height=3,\n",
    "    aspect=1,\n",
    ")\n",
    "\n",
    "\n",
    "g.facet_axis(0, 0).bar_label(g.facet_axis(0, 0).containers[0], fmt=\"%.2f\")\n",
    "g.facet_axis(0, 0).bar_label(g.facet_axis(0, 0).containers[1], fmt=\"%.2f\")\n",
    "g.facet_axis(0, 1).bar_label(g.facet_axis(0, 1).containers[0], fmt=\"%.2f\")\n",
    "g.facet_axis(0, 1).bar_label(g.facet_axis(0, 1).containers[1], fmt=\"%.2f\")\n",
    "g.facet_axis(0, 2).bar_label(g.facet_axis(0, 2).containers[0], fmt=\"%.2f\")\n",
    "g.facet_axis(0, 2).bar_label(g.facet_axis(0, 2).containers[1], fmt=\"%.2f\")\n",
    "plt.savefig('metrics_distr.png', dpi=300, bbox_inches='tight')\n",
    "plt.savefig(\"figs/metrics_distr.pdf\", bbox_inches=\"tight\")\n",
    "plt.show()"
   ]
  }
 ],
 "metadata": {
  "kernelspec": {
   "display_name": "bias",
   "language": "python",
   "name": "python3"
  },
  "language_info": {
   "codemirror_mode": {
    "name": "ipython",
    "version": 3
   },
   "file_extension": ".py",
   "mimetype": "text/x-python",
   "name": "python",
   "nbconvert_exporter": "python",
   "pygments_lexer": "ipython3",
   "version": "3.10.13"
  }
 },
 "nbformat": 4,
 "nbformat_minor": 2
}
