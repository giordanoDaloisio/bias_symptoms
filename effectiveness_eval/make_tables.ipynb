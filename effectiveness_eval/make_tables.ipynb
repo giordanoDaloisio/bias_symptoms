{
 "cells": [
  {
   "cell_type": "code",
   "execution_count": 1,
   "metadata": {},
   "outputs": [],
   "source": [
    "import pandas as pd"
   ]
  },
  {
   "cell_type": "code",
   "execution_count": 42,
   "metadata": {},
   "outputs": [],
   "source": [
    "sp = pd.read_csv('bias_symptoms_sp.csv', index_col=0, header=[0,1]).round(3)\n",
    "eo = pd.read_csv(\"bias_symptoms_eo.csv\", index_col=0, header=[0, 1]).round(3)\n",
    "ao = pd.read_csv(\"bias_symptoms_ao.csv\", index_col=0, header=[0, 1]).round(3)\n",
    "full = pd.read_csv(\"bias_symptoms_full.csv\", index_col=0, header=[0, 1]).round(3)"
   ]
  },
  {
   "cell_type": "code",
   "execution_count": 43,
   "metadata": {},
   "outputs": [],
   "source": [
    "def process_table(sp):\n",
    "    sp[\"AP\"] = sp[(\"ap\", \"mean\")].astype(str) + \"$\\pm$\" + sp[(\"ap\", \"std\")].astype(str)\n",
    "    sp[\"Accuracy\"] = (\n",
    "        sp[(\"accuracy\", \"mean\")].astype(str)\n",
    "        + \"$\\pm$\"\n",
    "        + sp[(\"accuracy\", \"std\")].astype(str)\n",
    "    )\n",
    "    sp[\"Precision\"] = (\n",
    "        sp[(\"precision\", \"mean\")].astype(str)\n",
    "        + \"$\\pm$\"\n",
    "        + sp[(\"precision\", \"std\")].astype(str)\n",
    "    )\n",
    "    sp[\"Recall\"] = (\n",
    "        sp[(\"recall\", \"mean\")].astype(str) + \"$\\pm$\" + sp[(\"recall\", \"std\")].astype(str)\n",
    "    )\n",
    "    sp[\"F1\"] = sp[(\"f1\", \"mean\")].astype(str) + \"$\\pm$\" + sp[(\"f1\", \"std\")].astype(str)\n",
    "    sp.drop(\n",
    "        columns=[\n",
    "            (\"ap\", \"mean\"),\n",
    "            (\"ap\", \"std\"),\n",
    "            (\"accuracy\", \"mean\"),\n",
    "            (\"accuracy\", \"std\"),\n",
    "            (\"precision\", \"mean\"),\n",
    "            (\"precision\", \"std\"),\n",
    "            (\"recall\", \"mean\"),\n",
    "            (\"recall\", \"std\"),\n",
    "            (\"f1\", \"mean\"),\n",
    "            (\"f1\", \"std\"),\n",
    "        ],\n",
    "        inplace=True,\n",
    "    )\n",
    "    sp.columns = sp.columns.droplevel(1)\n",
    "    sp = sp.transpose()\n",
    "    return sp"
   ]
  },
  {
   "cell_type": "code",
   "execution_count": 44,
   "metadata": {},
   "outputs": [],
   "source": [
    "sp = process_table(sp)"
   ]
  },
  {
   "cell_type": "code",
   "execution_count": 46,
   "metadata": {},
   "outputs": [],
   "source": [
    "eo = process_table(eo)\n",
    "ao = process_table(ao)\n",
    "full = process_table(full)"
   ]
  },
  {
   "cell_type": "code",
   "execution_count": 48,
   "metadata": {},
   "outputs": [],
   "source": [
    "table = pd.concat([sp, eo, ao, full], axis=1)"
   ]
  },
  {
   "cell_type": "code",
   "execution_count": 50,
   "metadata": {},
   "outputs": [],
   "source": [
    "table.to_latex(\"effectiveness_results.tex\", escape=False)"
   ]
  }
 ],
 "metadata": {
  "kernelspec": {
   "display_name": "sens_disc",
   "language": "python",
   "name": "python3"
  },
  "language_info": {
   "codemirror_mode": {
    "name": "ipython",
    "version": 3
   },
   "file_extension": ".py",
   "mimetype": "text/x-python",
   "name": "python",
   "nbconvert_exporter": "python",
   "pygments_lexer": "ipython3",
   "version": "3.10.13"
  }
 },
 "nbformat": 4,
 "nbformat_minor": 2
}
