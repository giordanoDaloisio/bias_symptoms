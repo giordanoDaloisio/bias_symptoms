{
 "cells": [
  {
   "cell_type": "code",
   "execution_count": 1,
   "metadata": {},
   "outputs": [],
   "source": [
    "import pandas as pd"
   ]
  },
  {
   "cell_type": "code",
   "execution_count": 3,
   "metadata": {},
   "outputs": [],
   "source": [
    "new_data = pd.read_excel('datasets.xlsx')"
   ]
  },
  {
   "cell_type": "code",
   "execution_count": 10,
   "metadata": {},
   "outputs": [
    {
     "data": {
      "text/plain": [
       "array(['advertiser-keyword pairs', 'agent-agent pairs',\n",
       "       'article-article pairs', 'author-author pairs', 'driver-job pairs',\n",
       "       'entity-relation-entity triples', 'image', 'images',\n",
       "       'item-property-value triples', 'item-recommendation pairs',\n",
       "       'judge-case pairs', 'judge-defendant pair',\n",
       "       'lender-borrower pairs', 'lister-seeker pairs',\n",
       "       'location-location pairs', 'mixture', 'mixture (image, text)',\n",
       "       'mixture (time series and tabular data)', 'page-page pairs',\n",
       "       'paper-paper pairs', 'paper-reviewer pairs', 'patient-donor pairs',\n",
       "       'person-person pairs', 'player-expert pairs',\n",
       "       'protein-protein pairs', 'query document pairs',\n",
       "       'query-document pairs', 'query-result pairs', 'query-worker pairs',\n",
       "       'student-student pairs', 'tabular', 'tabular data', 'text',\n",
       "       'time series', 'unknown', 'user-article pairs', 'user-book pairs',\n",
       "       'user-business pairs', 'user-movie pairs',\n",
       "       'user-movie pairs and user-user pairs', 'user-post pairs',\n",
       "       'user-product pairs (reviews)', 'user-song pairs',\n",
       "       'user-song pairs (LFM1K); user-artist pairs (LFM360K)',\n",
       "       'user-story pairs', 'user-sushi pairs', 'user-topic pairs',\n",
       "       'user-user pairs'], dtype=object)"
      ]
     },
     "execution_count": 10,
     "metadata": {},
     "output_type": "execute_result"
    }
   ],
   "source": [
    "new_data.datatype.unique()"
   ]
  },
  {
   "cell_type": "code",
   "execution_count": 11,
   "metadata": {},
   "outputs": [],
   "source": [
    "filtered = new_data[(new_data['datatype'] == 'tabular') | (new_data['datatype'] == 'tabular data')]"
   ]
  },
  {
   "cell_type": "code",
   "execution_count": 14,
   "metadata": {},
   "outputs": [],
   "source": [
    "filtered[['dataset', 'Link1']].dropna().to_csv('new_datasets.csv', index=False)"
   ]
  }
 ],
 "metadata": {
  "kernelspec": {
   "display_name": "sens_disc",
   "language": "python",
   "name": "python3"
  },
  "language_info": {
   "codemirror_mode": {
    "name": "ipython",
    "version": 3
   },
   "file_extension": ".py",
   "mimetype": "text/x-python",
   "name": "python",
   "nbconvert_exporter": "python",
   "pygments_lexer": "ipython3",
   "version": "3.10.13"
  }
 },
 "nbformat": 4,
 "nbformat_minor": 2
}
