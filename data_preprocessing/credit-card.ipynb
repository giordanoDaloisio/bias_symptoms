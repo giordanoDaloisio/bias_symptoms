{
 "cells": [
  {
   "cell_type": "code",
   "execution_count": null,
   "metadata": {},
   "outputs": [],
   "source": [
    "import pandas as pd\n",
    "\n",
    "def clean_data(df):\n",
    "    # Change column type to object for column: 'SEX'\n",
    "    df = df.astype({'SEX': 'int64'})\n",
    "    # Rename column 'default.payment.next.month' to 'y'\n",
    "    df = df.rename(columns={'default.payment.next.month': 'y'})\n",
    "    # Replace all instances of 1 with 0 in column: 'SEX'\n",
    "    df.loc[df['SEX'] == 1, 'SEX'] = 0\n",
    "    # Replace all instances of 2 with 1 in column: 'SEX'\n",
    "    df.loc[df['SEX'] == 2, 'SEX'] = 1\n",
    "    return df\n",
    "\n",
    "# Loaded variable 'df' from URI: c:\\Users\\giord\\Progetti\\python\\bias\\sensitive_variables_detection\\data_preprocessing\\raw_data\\UCI_Credit_Card.csv\n",
    "df = pd.read_csv(r'c:\\\\Users\\\\giord\\\\Progetti\\\\python\\\\bias\\\\sensitive_variables_detection\\\\data_preprocessing\\\\raw_data\\\\UCI_Credit_Card.csv')\n",
    "\n",
    "df_clean = clean_data(df.copy())\n",
    "df_clean.head()"
   ]
  }
 ],
 "metadata": {
  "kernelspec": {
   "display_name": "Python 3",
   "language": "python",
   "name": "python3"
  },
  "language_info": {
   "name": "python",
   "version": "3.9.7"
  }
 },
 "nbformat": 4,
 "nbformat_minor": 2
}
