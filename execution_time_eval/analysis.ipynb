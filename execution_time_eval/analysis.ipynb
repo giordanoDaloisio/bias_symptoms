{
 "cells": [
  {
   "cell_type": "code",
   "execution_count": 93,
   "metadata": {},
   "outputs": [],
   "source": [
    "import pandas as pd\n",
    "import matplotlib.pyplot as plt\n",
    "import matplotlib.ticker as ticker\n",
    "import seaborn as sns\n",
    "import scipy.stats as stats\n",
    "import os\n",
    "\n",
    "sns.set_theme(style=\"whitegrid\", context=\"paper\", font_scale=1.3)\n",
    "formatter = ticker.ScalarFormatter(useMathText=True)"
   ]
  },
  {
   "cell_type": "code",
   "execution_count": 94,
   "metadata": {},
   "outputs": [],
   "source": [
    "manila = pd.read_csv('manila_baseline/measures.csv')\n",
    "our = pd.read_csv('our_approach/measures.csv')"
   ]
  },
  {
   "cell_type": "code",
   "execution_count": 95,
   "metadata": {},
   "outputs": [],
   "source": [
    "manila_time = pd.read_fwf('manila_baseline/times.txt', header=None)\n",
    "manila[\"time\"] = manila_time"
   ]
  },
  {
   "cell_type": "code",
   "execution_count": 96,
   "metadata": {},
   "outputs": [],
   "source": [
    "our_time = pd.read_fwf('our_approach/times.txt', header=None)\n",
    "our['time'] = our_time"
   ]
  },
  {
   "cell_type": "code",
   "execution_count": 97,
   "metadata": {},
   "outputs": [],
   "source": [
    "manila['approach'] = 'Manila'\n",
    "our['approach'] = 'Our approach'"
   ]
  },
  {
   "cell_type": "code",
   "execution_count": 98,
   "metadata": {},
   "outputs": [],
   "source": [
    "full = pd.concat([manila, our])"
   ]
  },
  {
   "cell_type": "code",
   "execution_count": 99,
   "metadata": {},
   "outputs": [
    {
     "data": {
      "text/html": [
       "<div>\n",
       "<style scoped>\n",
       "    .dataframe tbody tr th:only-of-type {\n",
       "        vertical-align: middle;\n",
       "    }\n",
       "\n",
       "    .dataframe tbody tr th {\n",
       "        vertical-align: top;\n",
       "    }\n",
       "\n",
       "    .dataframe thead th {\n",
       "        text-align: right;\n",
       "    }\n",
       "</style>\n",
       "<table border=\"1\" class=\"dataframe\">\n",
       "  <thead>\n",
       "    <tr style=\"text-align: right;\">\n",
       "      <th></th>\n",
       "      <th>label</th>\n",
       "      <th>timestamp</th>\n",
       "      <th>duration</th>\n",
       "      <th>pkg</th>\n",
       "      <th>dram</th>\n",
       "      <th>socket</th>\n",
       "      <th>time</th>\n",
       "      <th>approach</th>\n",
       "    </tr>\n",
       "  </thead>\n",
       "  <tbody>\n",
       "    <tr>\n",
       "      <th>0</th>\n",
       "      <td>bar</td>\n",
       "      <td>1.708449e+09</td>\n",
       "      <td>1.517328e+05</td>\n",
       "      <td>3581716.0</td>\n",
       "      <td>78552.0</td>\n",
       "      <td>0</td>\n",
       "      <td>0.151729</td>\n",
       "      <td>Manila</td>\n",
       "    </tr>\n",
       "    <tr>\n",
       "      <th>1</th>\n",
       "      <td>bar</td>\n",
       "      <td>1.708449e+09</td>\n",
       "      <td>4.879537e+05</td>\n",
       "      <td>10208775.0</td>\n",
       "      <td>163207.0</td>\n",
       "      <td>0</td>\n",
       "      <td>0.487949</td>\n",
       "      <td>Manila</td>\n",
       "    </tr>\n",
       "    <tr>\n",
       "      <th>2</th>\n",
       "      <td>bar</td>\n",
       "      <td>1.708449e+09</td>\n",
       "      <td>9.572183e+04</td>\n",
       "      <td>2507378.0</td>\n",
       "      <td>70618.0</td>\n",
       "      <td>0</td>\n",
       "      <td>0.095718</td>\n",
       "      <td>Manila</td>\n",
       "    </tr>\n",
       "    <tr>\n",
       "      <th>3</th>\n",
       "      <td>bar</td>\n",
       "      <td>1.708449e+09</td>\n",
       "      <td>8.048866e+04</td>\n",
       "      <td>1655880.0</td>\n",
       "      <td>61523.0</td>\n",
       "      <td>0</td>\n",
       "      <td>0.080486</td>\n",
       "      <td>Manila</td>\n",
       "    </tr>\n",
       "    <tr>\n",
       "      <th>4</th>\n",
       "      <td>bar</td>\n",
       "      <td>1.708449e+09</td>\n",
       "      <td>1.532336e+07</td>\n",
       "      <td>370795071.0</td>\n",
       "      <td>29013598.0</td>\n",
       "      <td>0</td>\n",
       "      <td>15.323353</td>\n",
       "      <td>Manila</td>\n",
       "    </tr>\n",
       "    <tr>\n",
       "      <th>...</th>\n",
       "      <td>...</td>\n",
       "      <td>...</td>\n",
       "      <td>...</td>\n",
       "      <td>...</td>\n",
       "      <td>...</td>\n",
       "      <td>...</td>\n",
       "      <td>...</td>\n",
       "      <td>...</td>\n",
       "    </tr>\n",
       "    <tr>\n",
       "      <th>455</th>\n",
       "      <td>bar</td>\n",
       "      <td>1.708449e+09</td>\n",
       "      <td>1.748198e+04</td>\n",
       "      <td>341613.0</td>\n",
       "      <td>7690.0</td>\n",
       "      <td>0</td>\n",
       "      <td>0.017480</td>\n",
       "      <td>Our approach</td>\n",
       "    </tr>\n",
       "    <tr>\n",
       "      <th>456</th>\n",
       "      <td>bar</td>\n",
       "      <td>1.708449e+09</td>\n",
       "      <td>1.173531e+05</td>\n",
       "      <td>2608514.0</td>\n",
       "      <td>272216.0</td>\n",
       "      <td>0</td>\n",
       "      <td>0.117351</td>\n",
       "      <td>Our approach</td>\n",
       "    </tr>\n",
       "    <tr>\n",
       "      <th>457</th>\n",
       "      <td>bar</td>\n",
       "      <td>1.708449e+09</td>\n",
       "      <td>1.809481e+04</td>\n",
       "      <td>574644.0</td>\n",
       "      <td>10681.0</td>\n",
       "      <td>0</td>\n",
       "      <td>0.018091</td>\n",
       "      <td>Our approach</td>\n",
       "    </tr>\n",
       "    <tr>\n",
       "      <th>458</th>\n",
       "      <td>bar</td>\n",
       "      <td>1.708449e+09</td>\n",
       "      <td>1.267146e+05</td>\n",
       "      <td>2785881.0</td>\n",
       "      <td>152282.0</td>\n",
       "      <td>0</td>\n",
       "      <td>0.126712</td>\n",
       "      <td>Our approach</td>\n",
       "    </tr>\n",
       "    <tr>\n",
       "      <th>459</th>\n",
       "      <td>bar</td>\n",
       "      <td>1.708449e+09</td>\n",
       "      <td>5.513346e+04</td>\n",
       "      <td>1476375.0</td>\n",
       "      <td>91369.0</td>\n",
       "      <td>0</td>\n",
       "      <td>0.055131</td>\n",
       "      <td>Our approach</td>\n",
       "    </tr>\n",
       "  </tbody>\n",
       "</table>\n",
       "<p>920 rows × 8 columns</p>\n",
       "</div>"
      ],
      "text/plain": [
       "    label     timestamp      duration          pkg        dram  socket  \\\n",
       "0     bar  1.708449e+09  1.517328e+05    3581716.0     78552.0       0   \n",
       "1     bar  1.708449e+09  4.879537e+05   10208775.0    163207.0       0   \n",
       "2     bar  1.708449e+09  9.572183e+04    2507378.0     70618.0       0   \n",
       "3     bar  1.708449e+09  8.048866e+04    1655880.0     61523.0       0   \n",
       "4     bar  1.708449e+09  1.532336e+07  370795071.0  29013598.0       0   \n",
       "..    ...           ...           ...          ...         ...     ...   \n",
       "455   bar  1.708449e+09  1.748198e+04     341613.0      7690.0       0   \n",
       "456   bar  1.708449e+09  1.173531e+05    2608514.0    272216.0       0   \n",
       "457   bar  1.708449e+09  1.809481e+04     574644.0     10681.0       0   \n",
       "458   bar  1.708449e+09  1.267146e+05    2785881.0    152282.0       0   \n",
       "459   bar  1.708449e+09  5.513346e+04    1476375.0     91369.0       0   \n",
       "\n",
       "          time      approach  \n",
       "0     0.151729        Manila  \n",
       "1     0.487949        Manila  \n",
       "2     0.095718        Manila  \n",
       "3     0.080486        Manila  \n",
       "4    15.323353        Manila  \n",
       "..         ...           ...  \n",
       "455   0.017480  Our approach  \n",
       "456   0.117351  Our approach  \n",
       "457   0.018091  Our approach  \n",
       "458   0.126712  Our approach  \n",
       "459   0.055131  Our approach  \n",
       "\n",
       "[920 rows x 8 columns]"
      ]
     },
     "execution_count": 99,
     "metadata": {},
     "output_type": "execute_result"
    }
   ],
   "source": [
    "full"
   ]
  },
  {
   "cell_type": "markdown",
   "metadata": {},
   "source": [
    "## CPU Consumption"
   ]
  },
  {
   "cell_type": "code",
   "execution_count": 100,
   "metadata": {},
   "outputs": [
    {
     "data": {
      "image/png": "[encoded data removed]",
      "text/plain": [
       "<Figure size 500x500 with 1 Axes>"
      ]
     },
     "metadata": {},
     "output_type": "display_data"
    }
   ],
   "source": [
    "fig, ax = plt.subplots(figsize=(5, 5))\n",
    "sns.barplot(data=full, x='approach', y='pkg', hue='approach', ax=ax)\n",
    "ax.set_ylabel('CPU consumption (pkg)')\n",
    "ax.set_xlabel('')\n",
    "ax.yaxis.set_major_formatter(formatter)\n",
    "plt.title('CPU consumption')\n",
    "plt.savefig('pkg.png', dpi=300, bbox_inches='tight')\n",
    "plt.show()"
   ]
  },
  {
   "cell_type": "markdown",
   "metadata": {},
   "source": [
    "## Execution time"
   ]
  },
  {
   "cell_type": "code",
   "execution_count": 101,
   "metadata": {},
   "outputs": [
    {
     "data": {
      "text/html": [
       "<div>\n",
       "<style scoped>\n",
       "    .dataframe tbody tr th:only-of-type {\n",
       "        vertical-align: middle;\n",
       "    }\n",
       "\n",
       "    .dataframe tbody tr th {\n",
       "        vertical-align: top;\n",
       "    }\n",
       "\n",
       "    .dataframe thead th {\n",
       "        text-align: right;\n",
       "    }\n",
       "</style>\n",
       "<table border=\"1\" class=\"dataframe\">\n",
       "  <thead>\n",
       "    <tr style=\"text-align: right;\">\n",
       "      <th></th>\n",
       "      <th>label</th>\n",
       "      <th>timestamp</th>\n",
       "      <th>duration</th>\n",
       "      <th>pkg</th>\n",
       "      <th>dram</th>\n",
       "      <th>socket</th>\n",
       "      <th>time</th>\n",
       "      <th>approach</th>\n",
       "    </tr>\n",
       "  </thead>\n",
       "  <tbody>\n",
       "    <tr>\n",
       "      <th>0</th>\n",
       "      <td>bar</td>\n",
       "      <td>1.708449e+09</td>\n",
       "      <td>1.517328e+05</td>\n",
       "      <td>3581716.0</td>\n",
       "      <td>78552.0</td>\n",
       "      <td>0</td>\n",
       "      <td>0.151729</td>\n",
       "      <td>Manila</td>\n",
       "    </tr>\n",
       "    <tr>\n",
       "      <th>1</th>\n",
       "      <td>bar</td>\n",
       "      <td>1.708449e+09</td>\n",
       "      <td>4.879537e+05</td>\n",
       "      <td>10208775.0</td>\n",
       "      <td>163207.0</td>\n",
       "      <td>0</td>\n",
       "      <td>0.487949</td>\n",
       "      <td>Manila</td>\n",
       "    </tr>\n",
       "    <tr>\n",
       "      <th>2</th>\n",
       "      <td>bar</td>\n",
       "      <td>1.708449e+09</td>\n",
       "      <td>9.572183e+04</td>\n",
       "      <td>2507378.0</td>\n",
       "      <td>70618.0</td>\n",
       "      <td>0</td>\n",
       "      <td>0.095718</td>\n",
       "      <td>Manila</td>\n",
       "    </tr>\n",
       "    <tr>\n",
       "      <th>3</th>\n",
       "      <td>bar</td>\n",
       "      <td>1.708449e+09</td>\n",
       "      <td>8.048866e+04</td>\n",
       "      <td>1655880.0</td>\n",
       "      <td>61523.0</td>\n",
       "      <td>0</td>\n",
       "      <td>0.080486</td>\n",
       "      <td>Manila</td>\n",
       "    </tr>\n",
       "    <tr>\n",
       "      <th>4</th>\n",
       "      <td>bar</td>\n",
       "      <td>1.708449e+09</td>\n",
       "      <td>1.532336e+07</td>\n",
       "      <td>370795071.0</td>\n",
       "      <td>29013598.0</td>\n",
       "      <td>0</td>\n",
       "      <td>15.323353</td>\n",
       "      <td>Manila</td>\n",
       "    </tr>\n",
       "    <tr>\n",
       "      <th>...</th>\n",
       "      <td>...</td>\n",
       "      <td>...</td>\n",
       "      <td>...</td>\n",
       "      <td>...</td>\n",
       "      <td>...</td>\n",
       "      <td>...</td>\n",
       "      <td>...</td>\n",
       "      <td>...</td>\n",
       "    </tr>\n",
       "    <tr>\n",
       "      <th>455</th>\n",
       "      <td>bar</td>\n",
       "      <td>1.708449e+09</td>\n",
       "      <td>1.748198e+04</td>\n",
       "      <td>341613.0</td>\n",
       "      <td>7690.0</td>\n",
       "      <td>0</td>\n",
       "      <td>0.017480</td>\n",
       "      <td>Our approach</td>\n",
       "    </tr>\n",
       "    <tr>\n",
       "      <th>456</th>\n",
       "      <td>bar</td>\n",
       "      <td>1.708449e+09</td>\n",
       "      <td>1.173531e+05</td>\n",
       "      <td>2608514.0</td>\n",
       "      <td>272216.0</td>\n",
       "      <td>0</td>\n",
       "      <td>0.117351</td>\n",
       "      <td>Our approach</td>\n",
       "    </tr>\n",
       "    <tr>\n",
       "      <th>457</th>\n",
       "      <td>bar</td>\n",
       "      <td>1.708449e+09</td>\n",
       "      <td>1.809481e+04</td>\n",
       "      <td>574644.0</td>\n",
       "      <td>10681.0</td>\n",
       "      <td>0</td>\n",
       "      <td>0.018091</td>\n",
       "      <td>Our approach</td>\n",
       "    </tr>\n",
       "    <tr>\n",
       "      <th>458</th>\n",
       "      <td>bar</td>\n",
       "      <td>1.708449e+09</td>\n",
       "      <td>1.267146e+05</td>\n",
       "      <td>2785881.0</td>\n",
       "      <td>152282.0</td>\n",
       "      <td>0</td>\n",
       "      <td>0.126712</td>\n",
       "      <td>Our approach</td>\n",
       "    </tr>\n",
       "    <tr>\n",
       "      <th>459</th>\n",
       "      <td>bar</td>\n",
       "      <td>1.708449e+09</td>\n",
       "      <td>5.513346e+04</td>\n",
       "      <td>1476375.0</td>\n",
       "      <td>91369.0</td>\n",
       "      <td>0</td>\n",
       "      <td>0.055131</td>\n",
       "      <td>Our approach</td>\n",
       "    </tr>\n",
       "  </tbody>\n",
       "</table>\n",
       "<p>920 rows × 8 columns</p>\n",
       "</div>"
      ],
      "text/plain": [
       "    label     timestamp      duration          pkg        dram  socket  \\\n",
       "0     bar  1.708449e+09  1.517328e+05    3581716.0     78552.0       0   \n",
       "1     bar  1.708449e+09  4.879537e+05   10208775.0    163207.0       0   \n",
       "2     bar  1.708449e+09  9.572183e+04    2507378.0     70618.0       0   \n",
       "3     bar  1.708449e+09  8.048866e+04    1655880.0     61523.0       0   \n",
       "4     bar  1.708449e+09  1.532336e+07  370795071.0  29013598.0       0   \n",
       "..    ...           ...           ...          ...         ...     ...   \n",
       "455   bar  1.708449e+09  1.748198e+04     341613.0      7690.0       0   \n",
       "456   bar  1.708449e+09  1.173531e+05    2608514.0    272216.0       0   \n",
       "457   bar  1.708449e+09  1.809481e+04     574644.0     10681.0       0   \n",
       "458   bar  1.708449e+09  1.267146e+05    2785881.0    152282.0       0   \n",
       "459   bar  1.708449e+09  5.513346e+04    1476375.0     91369.0       0   \n",
       "\n",
       "          time      approach  \n",
       "0     0.151729        Manila  \n",
       "1     0.487949        Manila  \n",
       "2     0.095718        Manila  \n",
       "3     0.080486        Manila  \n",
       "4    15.323353        Manila  \n",
       "..         ...           ...  \n",
       "455   0.017480  Our approach  \n",
       "456   0.117351  Our approach  \n",
       "457   0.018091  Our approach  \n",
       "458   0.126712  Our approach  \n",
       "459   0.055131  Our approach  \n",
       "\n",
       "[920 rows x 8 columns]"
      ]
     },
     "execution_count": 101,
     "metadata": {},
     "output_type": "execute_result"
    }
   ],
   "source": [
    "full"
   ]
  },
  {
   "cell_type": "code",
   "execution_count": 102,
   "metadata": {},
   "outputs": [
    {
     "data": {
      "image/png": "[encoded data removed]",
      "text/plain": [
       "<Figure size 500x500 with 1 Axes>"
      ]
     },
     "metadata": {},
     "output_type": "display_data"
    }
   ],
   "source": [
    "fig, ax = plt.subplots(figsize=(5, 5))\n",
    "sns.barplot(data=full, x=\"approach\", y=\"time\", hue=\"approach\", ax=ax)\n",
    "ax.set_ylabel(\"Execution time (s)\")\n",
    "ax.set_xlabel(\"\")\n",
    "plt.title(\"Execution time\")\n",
    "plt.savefig(\"time.png\", dpi=300, bbox_inches=\"tight\")\n",
    "plt.show()"
   ]
  },
  {
   "cell_type": "markdown",
   "metadata": {},
   "source": [
    "## Prediction comparison"
   ]
  },
  {
   "cell_type": "code",
   "execution_count": 103,
   "metadata": {},
   "outputs": [],
   "source": [
    "def map_values(x):\n",
    "  if x > 0.2:\n",
    "    return 1\n",
    "  else: \n",
    "    return 0\n",
    "\n",
    "manila = pd.DataFrame()\n",
    "for file in os.listdir('manila_baseline/manila_results/'):\n",
    "  manila = pd.concat([manila, pd.read_csv(f'manila_baseline/manila_results/{file}', index_col=0)[['stat_par', 'eq_odds', 'ao']]])\n",
    "manila = manila.map(map_values)"
   ]
  },
  {
   "cell_type": "code",
   "execution_count": 104,
   "metadata": {},
   "outputs": [],
   "source": [
    "our = pd.DataFrame()\n",
    "for file in os.listdir('our_approach/our_approach_results/'):\n",
    "    our = pd.concat(\n",
    "        [\n",
    "            our,\n",
    "            pd.read_csv(f\"our_approach/our_approach_results/{file}\", index_col=0)\n",
    "        ]\n",
    "    )"
   ]
  },
  {
   "cell_type": "code",
   "execution_count": 105,
   "metadata": {},
   "outputs": [],
   "source": [
    "from sklearn.metrics import accuracy_score"
   ]
  },
  {
   "cell_type": "code",
   "execution_count": 106,
   "metadata": {},
   "outputs": [
    {
     "name": "stdout",
     "output_type": "stream",
     "text": [
      "Statistical parity 0.34782608695652173\n"
     ]
    }
   ],
   "source": [
    "print('Statistical parity', accuracy_score(manila['stat_par'], our['0']))"
   ]
  },
  {
   "cell_type": "code",
   "execution_count": 107,
   "metadata": {},
   "outputs": [
    {
     "name": "stdout",
     "output_type": "stream",
     "text": [
      "Equal opportunity 0.6086956521739131\n"
     ]
    }
   ],
   "source": [
    "print(\"Equal opportunity\", accuracy_score(manila[\"eq_odds\"], our[\"1\"]))"
   ]
  },
  {
   "cell_type": "code",
   "execution_count": 109,
   "metadata": {},
   "outputs": [
    {
     "name": "stdout",
     "output_type": "stream",
     "text": [
      "Average odds 0.6521739130434783\n"
     ]
    }
   ],
   "source": [
    "print(\"Average odds\", accuracy_score(manila[\"ao\"], our[\"2\"]))"
   ]
  },
  {
   "cell_type": "markdown",
   "metadata": {},
   "source": [
    "## Aequitas"
   ]
  },
  {
   "cell_type": "code",
   "execution_count": 112,
   "metadata": {},
   "outputs": [],
   "source": [
    "aequitas = pd.DataFrame()\n",
    "for file in os.listdir('aequitas/aequitas_results/'):\n",
    "    aequitas = pd.concat(\n",
    "        [\n",
    "            aequitas,\n",
    "            pd.read_csv(f\"aequitas/aequitas_results/{file}\", index_col=0)[['tpr', 'fpr']]\n",
    "        ]\n",
    "    )\n",
    "aequitas['ao'] = aequitas['tpr'] - aequitas['fpr']"
   ]
  },
  {
   "cell_type": "code",
   "execution_count": 117,
   "metadata": {},
   "outputs": [],
   "source": [
    "aequitas = aequitas.loc[0]\n",
    "aequitas = aequitas.map(map_values)"
   ]
  }
 ],
 "metadata": {
  "kernelspec": {
   "display_name": "bias",
   "language": "python",
   "name": "python3"
  },
  "language_info": {
   "codemirror_mode": {
    "name": "ipython",
    "version": 3
   },
   "file_extension": ".py",
   "mimetype": "text/x-python",
   "name": "python",
   "nbconvert_exporter": "python",
   "pygments_lexer": "ipython3",
   "version": "3.10.13"
  }
 },
 "nbformat": 4,
 "nbformat_minor": 2
}
