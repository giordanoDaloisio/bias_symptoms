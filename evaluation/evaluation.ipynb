{
 "cells": [
  {
   "cell_type": "code",
   "execution_count": 27,
   "metadata": {},
   "outputs": [],
   "source": [
    "import pandas as pd\n",
    "import joblib\n",
    "from sklearn.metrics import r2_score, mean_squared_error\n",
    "from sklearn.model_selection import train_test_split\n",
    "from xgboost import XGBClassifier"
   ]
  },
  {
   "cell_type": "code",
   "execution_count": 34,
   "metadata": {},
   "outputs": [],
   "source": [
    "model_reg = joblib.load('all_features_xgb.joblib')"
   ]
  },
  {
   "cell_type": "code",
   "execution_count": 67,
   "metadata": {},
   "outputs": [],
   "source": [
    "data = pd.read_csv('data/all_features.csv', index_col=[0,1])"
   ]
  },
  {
   "cell_type": "code",
   "execution_count": 68,
   "metadata": {},
   "outputs": [],
   "source": [
    "data[[\"statistical_parity\", \"equal_opportunity\", \"average_odds\"]] = data[\n",
    "    [\"statistical_parity\", \"equal_opportunity\", \"average_odds\"]\n",
    "].abs()"
   ]
  },
  {
   "cell_type": "code",
   "execution_count": 69,
   "metadata": {},
   "outputs": [],
   "source": [
    "train, test = train_test_split(data, test_size=0.2, shuffle=False)"
   ]
  },
  {
   "cell_type": "code",
   "execution_count": 43,
   "metadata": {},
   "outputs": [
    {
     "data": {
      "text/plain": [
       "XGBRegressor(base_score=None, booster=None, callbacks=None,\n",
       "             colsample_bylevel=None, colsample_bynode=None,\n",
       "             colsample_bytree=0.8, early_stopping_rounds=None,\n",
       "             enable_categorical=False, eval_metric=None, feature_types=None,\n",
       "             gamma=0, gpu_id=None, grow_policy=None, importance_type=None,\n",
       "             interaction_constraints=None, learning_rate=0.2, max_bin=None,\n",
       "             max_cat_threshold=None, max_cat_to_onehot=None,\n",
       "             max_delta_step=None, max_depth=6, max_leaves=None,\n",
       "             min_child_weight=None, missing=nan, monotone_constraints=None,\n",
       "             n_estimators=100, n_jobs=None, num_parallel_tree=None,\n",
       "             predictor=None, random_state=None, ...)"
      ]
     },
     "execution_count": 43,
     "metadata": {},
     "output_type": "execute_result"
    }
   ],
   "source": [
    "model_reg.fit(train.drop(columns=['statistical_parity', 'equal_opportunity', 'average_odds']).values, train[['statistical_parity', 'equal_opportunity', 'average_odds']].values)"
   ]
  },
  {
   "cell_type": "code",
   "execution_count": 45,
   "metadata": {},
   "outputs": [],
   "source": [
    "predictions = model_reg.predict(test.drop(columns=['statistical_parity', 'equal_opportunity', 'average_odds']).values)"
   ]
  },
  {
   "cell_type": "code",
   "execution_count": 46,
   "metadata": {},
   "outputs": [],
   "source": [
    "true_val = test[['statistical_parity', 'equal_opportunity', 'average_odds']]"
   ]
  },
  {
   "cell_type": "code",
   "execution_count": 47,
   "metadata": {},
   "outputs": [
    {
     "name": "stderr",
     "output_type": "stream",
     "text": [
      "c:\\Users\\giord\\miniconda3\\envs\\bias\\lib\\site-packages\\pandas\\core\\indexing.py:1667: SettingWithCopyWarning: \n",
      "A value is trying to be set on a copy of a slice from a DataFrame.\n",
      "Try using .loc[row_indexer,col_indexer] = value instead\n",
      "\n",
      "See the caveats in the documentation: https://pandas.pydata.org/pandas-docs/stable/user_guide/indexing.html#returning-a-view-versus-a-copy\n",
      "  self.obj[key] = value\n"
     ]
    }
   ],
   "source": [
    "true_val.loc[:,'stat_par_pred'] = predictions[:, 0]\n",
    "true_val.loc[:,'eq_opp_pred'] = predictions[:, 1]\n",
    "true_val.loc[:,'avg_odds_pred'] = predictions[:, 2]"
   ]
  },
  {
   "cell_type": "code",
   "execution_count": 48,
   "metadata": {},
   "outputs": [
    {
     "data": {
      "text/html": [
       "<div>\n",
       "<style scoped>\n",
       "    .dataframe tbody tr th:only-of-type {\n",
       "        vertical-align: middle;\n",
       "    }\n",
       "\n",
       "    .dataframe tbody tr th {\n",
       "        vertical-align: top;\n",
       "    }\n",
       "\n",
       "    .dataframe thead th {\n",
       "        text-align: right;\n",
       "    }\n",
       "</style>\n",
       "<table border=\"1\" class=\"dataframe\">\n",
       "  <thead>\n",
       "    <tr style=\"text-align: right;\">\n",
       "      <th></th>\n",
       "      <th></th>\n",
       "      <th>statistical_parity</th>\n",
       "      <th>equal_opportunity</th>\n",
       "      <th>average_odds</th>\n",
       "      <th>stat_par_pred</th>\n",
       "      <th>eq_opp_pred</th>\n",
       "      <th>avg_odds_pred</th>\n",
       "    </tr>\n",
       "    <tr>\n",
       "      <th>variable</th>\n",
       "      <th>data</th>\n",
       "      <th></th>\n",
       "      <th></th>\n",
       "      <th></th>\n",
       "      <th></th>\n",
       "      <th></th>\n",
       "      <th></th>\n",
       "    </tr>\n",
       "  </thead>\n",
       "  <tbody>\n",
       "    <tr>\n",
       "      <th>age_65</th>\n",
       "      <th>health</th>\n",
       "      <td>0.002187</td>\n",
       "      <td>0.000467</td>\n",
       "      <td>0.005576</td>\n",
       "      <td>0.005184</td>\n",
       "      <td>0.026977</td>\n",
       "      <td>0.017148</td>\n",
       "    </tr>\n",
       "    <tr>\n",
       "      <th>age_75</th>\n",
       "      <th>health</th>\n",
       "      <td>0.001317</td>\n",
       "      <td>0.080599</td>\n",
       "      <td>0.015067</td>\n",
       "      <td>0.002520</td>\n",
       "      <td>0.071845</td>\n",
       "      <td>0.000773</td>\n",
       "    </tr>\n",
       "    <tr>\n",
       "      <th>age_85</th>\n",
       "      <th>health</th>\n",
       "      <td>0.002351</td>\n",
       "      <td>0.133723</td>\n",
       "      <td>0.000595</td>\n",
       "      <td>-0.004387</td>\n",
       "      <td>0.122724</td>\n",
       "      <td>0.023963</td>\n",
       "    </tr>\n",
       "    <tr>\n",
       "      <th>age_MISS</th>\n",
       "      <th>health</th>\n",
       "      <td>0.013354</td>\n",
       "      <td>0.169971</td>\n",
       "      <td>0.012140</td>\n",
       "      <td>0.038404</td>\n",
       "      <td>0.156345</td>\n",
       "      <td>0.043793</td>\n",
       "    </tr>\n",
       "    <tr>\n",
       "      <th>sexMALE</th>\n",
       "      <th>health</th>\n",
       "      <td>0.000428</td>\n",
       "      <td>0.030862</td>\n",
       "      <td>0.004383</td>\n",
       "      <td>-0.003729</td>\n",
       "      <td>0.025852</td>\n",
       "      <td>-0.004250</td>\n",
       "    </tr>\n",
       "    <tr>\n",
       "      <th>...</th>\n",
       "      <th>...</th>\n",
       "      <td>...</td>\n",
       "      <td>...</td>\n",
       "      <td>...</td>\n",
       "      <td>...</td>\n",
       "      <td>...</td>\n",
       "      <td>...</td>\n",
       "    </tr>\n",
       "    <tr>\n",
       "      <th>type</th>\n",
       "      <th>wine</th>\n",
       "      <td>0.159525</td>\n",
       "      <td>0.014760</td>\n",
       "      <td>0.299304</td>\n",
       "      <td>0.170590</td>\n",
       "      <td>0.030387</td>\n",
       "      <td>0.062462</td>\n",
       "    </tr>\n",
       "    <tr>\n",
       "      <th>alcohol</th>\n",
       "      <th>wine</th>\n",
       "      <td>0.640531</td>\n",
       "      <td>0.015267</td>\n",
       "      <td>1.253022</td>\n",
       "      <td>0.344491</td>\n",
       "      <td>0.115946</td>\n",
       "      <td>0.321133</td>\n",
       "    </tr>\n",
       "    <tr>\n",
       "      <th>type</th>\n",
       "      <th>wine</th>\n",
       "      <td>0.235537</td>\n",
       "      <td>0.039945</td>\n",
       "      <td>0.467955</td>\n",
       "      <td>0.230214</td>\n",
       "      <td>0.076621</td>\n",
       "      <td>0.110527</td>\n",
       "    </tr>\n",
       "    <tr>\n",
       "      <th>alcohol</th>\n",
       "      <th>wine</th>\n",
       "      <td>0.828246</td>\n",
       "      <td>0.030618</td>\n",
       "      <td>1.632706</td>\n",
       "      <td>0.336727</td>\n",
       "      <td>0.147678</td>\n",
       "      <td>0.310509</td>\n",
       "    </tr>\n",
       "    <tr>\n",
       "      <th>type</th>\n",
       "      <th>wine</th>\n",
       "      <td>0.113436</td>\n",
       "      <td>0.130544</td>\n",
       "      <td>0.185586</td>\n",
       "      <td>0.150861</td>\n",
       "      <td>0.053897</td>\n",
       "      <td>0.049545</td>\n",
       "    </tr>\n",
       "  </tbody>\n",
       "</table>\n",
       "<p>604 rows × 6 columns</p>\n",
       "</div>"
      ],
      "text/plain": [
       "                 statistical_parity  equal_opportunity  average_odds  \\\n",
       "variable data                                                          \n",
       "age_65   health            0.002187           0.000467      0.005576   \n",
       "age_75   health            0.001317           0.080599      0.015067   \n",
       "age_85   health            0.002351           0.133723      0.000595   \n",
       "age_MISS health            0.013354           0.169971      0.012140   \n",
       "sexMALE  health            0.000428           0.030862      0.004383   \n",
       "...                             ...                ...           ...   \n",
       "type     wine              0.159525           0.014760      0.299304   \n",
       "alcohol  wine              0.640531           0.015267      1.253022   \n",
       "type     wine              0.235537           0.039945      0.467955   \n",
       "alcohol  wine              0.828246           0.030618      1.632706   \n",
       "type     wine              0.113436           0.130544      0.185586   \n",
       "\n",
       "                 stat_par_pred  eq_opp_pred  avg_odds_pred  \n",
       "variable data                                               \n",
       "age_65   health       0.005184     0.026977       0.017148  \n",
       "age_75   health       0.002520     0.071845       0.000773  \n",
       "age_85   health      -0.004387     0.122724       0.023963  \n",
       "age_MISS health       0.038404     0.156345       0.043793  \n",
       "sexMALE  health      -0.003729     0.025852      -0.004250  \n",
       "...                        ...          ...            ...  \n",
       "type     wine         0.170590     0.030387       0.062462  \n",
       "alcohol  wine         0.344491     0.115946       0.321133  \n",
       "type     wine         0.230214     0.076621       0.110527  \n",
       "alcohol  wine         0.336727     0.147678       0.310509  \n",
       "type     wine         0.150861     0.053897       0.049545  \n",
       "\n",
       "[604 rows x 6 columns]"
      ]
     },
     "execution_count": 48,
     "metadata": {},
     "output_type": "execute_result"
    }
   ],
   "source": [
    "true_val"
   ]
  },
  {
   "cell_type": "code",
   "execution_count": 49,
   "metadata": {},
   "outputs": [
    {
     "data": {
      "text/plain": [
       "0.7044014037149324"
      ]
     },
     "execution_count": 49,
     "metadata": {},
     "output_type": "execute_result"
    }
   ],
   "source": [
    "r2_score(true_val['statistical_parity'], true_val['stat_par_pred'])"
   ]
  },
  {
   "cell_type": "code",
   "execution_count": 50,
   "metadata": {},
   "outputs": [
    {
     "data": {
      "text/plain": [
       "0.03385115544053474"
      ]
     },
     "execution_count": 50,
     "metadata": {},
     "output_type": "execute_result"
    }
   ],
   "source": [
    "r2_score(true_val['equal_opportunity'], true_val['eq_opp_pred'])"
   ]
  },
  {
   "cell_type": "code",
   "execution_count": 51,
   "metadata": {},
   "outputs": [
    {
     "data": {
      "text/plain": [
       "0.17737567676010968"
      ]
     },
     "execution_count": 51,
     "metadata": {},
     "output_type": "execute_result"
    }
   ],
   "source": [
    "r2_score(true_val['average_odds'], true_val['avg_odds_pred'])"
   ]
  },
  {
   "cell_type": "markdown",
   "metadata": {},
   "source": [
    "## Change the problem into classification with threshold"
   ]
  },
  {
   "cell_type": "code",
   "execution_count": 64,
   "metadata": {},
   "outputs": [],
   "source": [
    "model = XGBClassifier()"
   ]
  },
  {
   "cell_type": "code",
   "execution_count": 70,
   "metadata": {},
   "outputs": [],
   "source": [
    "train.loc[train[\"statistical_parity\"] > 0.2, \"statistical_parity\"] = 1\n",
    "train.loc[train[\"statistical_parity\"] != 1, \"statistical_parity\"] = 0\n",
    "train.loc[train[\"equal_opportunity\"] > 0.2, \"equal_opportunity\"] = 1\n",
    "train.loc[train[\"equal_opportunity\"] != 1, \"equal_opportunity\"] = 0\n",
    "train.loc[train[\"average_odds\"] > 0.2, \"average_odds\"] = 1\n",
    "train.loc[train[\"average_odds\"] != 1, \"average_odds\"] = 0"
   ]
  },
  {
   "cell_type": "code",
   "execution_count": 71,
   "metadata": {},
   "outputs": [],
   "source": [
    "test.loc[test[\"statistical_parity\"] > 0.2, \"statistical_parity\"] = 1\n",
    "test.loc[test[\"statistical_parity\"] != 1, \"statistical_parity\"] = 0\n",
    "test.loc[test[\"equal_opportunity\"] > 0.2, \"equal_opportunity\"] = 1\n",
    "test.loc[test[\"equal_opportunity\"] != 1, \"equal_opportunity\"] = 0\n",
    "test.loc[test[\"average_odds\"] > 0.2, \"average_odds\"] = 1\n",
    "test.loc[test[\"average_odds\"] != 1, \"average_odds\"] = 0"
   ]
  },
  {
   "cell_type": "code",
   "execution_count": 74,
   "metadata": {},
   "outputs": [
    {
     "data": {
      "text/plain": [
       "XGBClassifier(base_score=None, booster=None, callbacks=None,\n",
       "              colsample_bylevel=None, colsample_bynode=None,\n",
       "              colsample_bytree=None, early_stopping_rounds=None,\n",
       "              enable_categorical=False, eval_metric=None, feature_types=None,\n",
       "              gamma=None, gpu_id=None, grow_policy=None, importance_type=None,\n",
       "              interaction_constraints=None, learning_rate=None, max_bin=None,\n",
       "              max_cat_threshold=None, max_cat_to_onehot=None,\n",
       "              max_delta_step=None, max_depth=None, max_leaves=None,\n",
       "              min_child_weight=None, missing=nan, monotone_constraints=None,\n",
       "              n_estimators=100, n_jobs=None, num_parallel_tree=None,\n",
       "              predictor=None, random_state=None, ...)"
      ]
     },
     "execution_count": 74,
     "metadata": {},
     "output_type": "execute_result"
    }
   ],
   "source": [
    "model.fit(train.drop(columns=['statistical_parity', 'equal_opportunity', 'average_odds']).values, train[['statistical_parity', 'equal_opportunity', 'average_odds']].values)"
   ]
  },
  {
   "cell_type": "code",
   "execution_count": 75,
   "metadata": {},
   "outputs": [],
   "source": [
    "predictions = model.predict(\n",
    "    test.drop(\n",
    "        columns=[\"statistical_parity\", \"equal_opportunity\", \"average_odds\"]\n",
    "    ).values\n",
    ")"
   ]
  },
  {
   "cell_type": "code",
   "execution_count": 76,
   "metadata": {},
   "outputs": [
    {
     "name": "stderr",
     "output_type": "stream",
     "text": [
      "c:\\Users\\giord\\miniconda3\\envs\\bias\\lib\\site-packages\\pandas\\core\\indexing.py:1667: SettingWithCopyWarning: \n",
      "A value is trying to be set on a copy of a slice from a DataFrame.\n",
      "Try using .loc[row_indexer,col_indexer] = value instead\n",
      "\n",
      "See the caveats in the documentation: https://pandas.pydata.org/pandas-docs/stable/user_guide/indexing.html#returning-a-view-versus-a-copy\n",
      "  self.obj[key] = value\n"
     ]
    }
   ],
   "source": [
    "true_val = test[[\"statistical_parity\", \"equal_opportunity\", \"average_odds\"]]\n",
    "true_val.loc[:, \"stat_par_pred\"] = predictions[:, 0]\n",
    "true_val.loc[:, \"eq_opp_pred\"] = predictions[:, 1]\n",
    "true_val.loc[:, \"avg_odds_pred\"] = predictions[:, 2]"
   ]
  },
  {
   "cell_type": "code",
   "execution_count": 78,
   "metadata": {},
   "outputs": [
    {
     "data": {
      "text/plain": [
       "0.9296551724137931"
      ]
     },
     "execution_count": 78,
     "metadata": {},
     "output_type": "execute_result"
    }
   ],
   "source": [
    "from sklearn.metrics import accuracy_score\n",
    "\n",
    "accuracy_score(true_val[\"statistical_parity\"], true_val[\"stat_par_pred\"])"
   ]
  },
  {
   "cell_type": "code",
   "execution_count": 79,
   "metadata": {},
   "outputs": [
    {
     "data": {
      "text/plain": [
       "0.8303448275862069"
      ]
     },
     "execution_count": 79,
     "metadata": {},
     "output_type": "execute_result"
    }
   ],
   "source": [
    "accuracy_score(true_val[\"equal_opportunity\"], true_val[\"eq_opp_pred\"])"
   ]
  },
  {
   "cell_type": "code",
   "execution_count": 80,
   "metadata": {},
   "outputs": [
    {
     "data": {
      "text/plain": [
       "0.593103448275862"
      ]
     },
     "execution_count": 80,
     "metadata": {},
     "output_type": "execute_result"
    }
   ],
   "source": [
    "accuracy_score(true_val[\"average_odds\"], true_val[\"avg_odds_pred\"])"
   ]
  }
 ],
 "metadata": {
  "kernelspec": {
   "display_name": "bias",
   "language": "python",
   "name": "python3"
  },
  "language_info": {
   "codemirror_mode": {
    "name": "ipython",
    "version": 3
   },
   "file_extension": ".py",
   "mimetype": "text/x-python",
   "name": "python",
   "nbconvert_exporter": "python",
   "pygments_lexer": "ipython3",
   "version": "3.9.7"
  }
 },
 "nbformat": 4,
 "nbformat_minor": 2
}
