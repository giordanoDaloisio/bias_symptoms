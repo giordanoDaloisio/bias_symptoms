{
 "cells": [
  {
   "cell_type": "code",
   "execution_count": 31,
   "metadata": {},
   "outputs": [],
   "source": [
    "import pandas as pd\n",
    "import joblib\n",
    "from sklearn.metrics import r2_score, mean_squared_error\n",
    "from sklearn.model_selection import train_test_split\n",
    "from sklearn.linear_model import LogisticRegression\n",
    "from xgboost import XGBClassifier"
   ]
  },
  {
   "cell_type": "code",
   "execution_count": 32,
   "metadata": {},
   "outputs": [],
   "source": [
    "model_reg = joblib.load('all_features_xgb.joblib')"
   ]
  },
  {
   "cell_type": "code",
   "execution_count": 79,
   "metadata": {},
   "outputs": [],
   "source": [
    "data = pd.read_csv('data/all_features.csv', index_col=[0,1])"
   ]
  },
  {
   "cell_type": "code",
   "execution_count": 80,
   "metadata": {},
   "outputs": [],
   "source": [
    "data[[\"statistical_parity\", \"equal_opportunity\", \"average_odds\"]] = data[\n",
    "    [\"statistical_parity\", \"equal_opportunity\", \"average_odds\"]\n",
    "].abs()"
   ]
  },
  {
   "cell_type": "code",
   "execution_count": 81,
   "metadata": {},
   "outputs": [],
   "source": [
    "train, test = train_test_split(data, test_size=0.2, shuffle=False)"
   ]
  },
  {
   "cell_type": "code",
   "execution_count": 82,
   "metadata": {},
   "outputs": [
    {
     "data": {
      "text/plain": [
       "XGBRegressor(base_score=None, booster=None, callbacks=None,\n",
       "             colsample_bylevel=None, colsample_bynode=None,\n",
       "             colsample_bytree=0.8, early_stopping_rounds=None,\n",
       "             enable_categorical=False, eval_metric=None, feature_types=None,\n",
       "             gamma=0, gpu_id=None, grow_policy=None, importance_type=None,\n",
       "             interaction_constraints=None, learning_rate=0.2, max_bin=None,\n",
       "             max_cat_threshold=None, max_cat_to_onehot=None,\n",
       "             max_delta_step=None, max_depth=6, max_leaves=None,\n",
       "             min_child_weight=None, missing=nan, monotone_constraints=None,\n",
       "             n_estimators=100, n_jobs=None, num_parallel_tree=None,\n",
       "             predictor=None, random_state=None, ...)"
      ]
     },
     "execution_count": 82,
     "metadata": {},
     "output_type": "execute_result"
    }
   ],
   "source": [
    "model_reg.fit(train.drop(columns=['statistical_parity', 'equal_opportunity', 'average_odds']).values, train[['statistical_parity', 'equal_opportunity', 'average_odds']].values)"
   ]
  },
  {
   "cell_type": "code",
   "execution_count": 84,
   "metadata": {},
   "outputs": [],
   "source": [
    "test = test[test.index.get_level_values(1) != 'german']"
   ]
  },
  {
   "cell_type": "code",
   "execution_count": 85,
   "metadata": {},
   "outputs": [],
   "source": [
    "predictions = model_reg.predict(test.drop(columns=['statistical_parity', 'equal_opportunity', 'average_odds']).values)"
   ]
  },
  {
   "cell_type": "code",
   "execution_count": 86,
   "metadata": {},
   "outputs": [],
   "source": [
    "true_val = test[['statistical_parity', 'equal_opportunity', 'average_odds']]"
   ]
  },
  {
   "cell_type": "code",
   "execution_count": 87,
   "metadata": {},
   "outputs": [
    {
     "name": "stderr",
     "output_type": "stream",
     "text": [
      "c:\\Users\\giord\\miniconda3\\envs\\bias\\lib\\site-packages\\pandas\\core\\indexing.py:1667: SettingWithCopyWarning: \n",
      "A value is trying to be set on a copy of a slice from a DataFrame.\n",
      "Try using .loc[row_indexer,col_indexer] = value instead\n",
      "\n",
      "See the caveats in the documentation: https://pandas.pydata.org/pandas-docs/stable/user_guide/indexing.html#returning-a-view-versus-a-copy\n",
      "  self.obj[key] = value\n"
     ]
    }
   ],
   "source": [
    "true_val.loc[:,'stat_par_pred'] = predictions[:, 0]\n",
    "true_val.loc[:,'eq_opp_pred'] = predictions[:, 1]\n",
    "true_val.loc[:,'avg_odds_pred'] = predictions[:, 2]"
   ]
  },
  {
   "cell_type": "code",
   "execution_count": 88,
   "metadata": {},
   "outputs": [
    {
     "data": {
      "text/plain": [
       "Index(['health', 'hearth', 'law', 'medical', 'obesity', 'park', 'resyduo',\n",
       "       'student', 'wine'],\n",
       "      dtype='object', name='data')"
      ]
     },
     "execution_count": 88,
     "metadata": {},
     "output_type": "execute_result"
    }
   ],
   "source": [
    "true_val.index.get_level_values(1).unique()"
   ]
  },
  {
   "cell_type": "code",
   "execution_count": 98,
   "metadata": {},
   "outputs": [
    {
     "data": {
      "text/html": [
       "<div>\n",
       "<style scoped>\n",
       "    .dataframe tbody tr th:only-of-type {\n",
       "        vertical-align: middle;\n",
       "    }\n",
       "\n",
       "    .dataframe tbody tr th {\n",
       "        vertical-align: top;\n",
       "    }\n",
       "\n",
       "    .dataframe thead th {\n",
       "        text-align: right;\n",
       "    }\n",
       "</style>\n",
       "<table border=\"1\" class=\"dataframe\">\n",
       "  <thead>\n",
       "    <tr style=\"text-align: right;\">\n",
       "      <th></th>\n",
       "      <th></th>\n",
       "      <th>statistical_parity</th>\n",
       "      <th>equal_opportunity</th>\n",
       "      <th>average_odds</th>\n",
       "      <th>stat_par_pred</th>\n",
       "      <th>eq_opp_pred</th>\n",
       "      <th>avg_odds_pred</th>\n",
       "    </tr>\n",
       "    <tr>\n",
       "      <th>variable</th>\n",
       "      <th>data</th>\n",
       "      <th></th>\n",
       "      <th></th>\n",
       "      <th></th>\n",
       "      <th></th>\n",
       "      <th></th>\n",
       "      <th></th>\n",
       "    </tr>\n",
       "  </thead>\n",
       "  <tbody>\n",
       "    <tr>\n",
       "      <th>race</th>\n",
       "      <th>law</th>\n",
       "      <td>0.295092</td>\n",
       "      <td>0.166591</td>\n",
       "      <td>0.534723</td>\n",
       "      <td>0.236775</td>\n",
       "      <td>0.083782</td>\n",
       "      <td>0.478464</td>\n",
       "    </tr>\n",
       "    <tr>\n",
       "      <th>gender</th>\n",
       "      <th>law</th>\n",
       "      <td>0.270576</td>\n",
       "      <td>0.014035</td>\n",
       "      <td>0.506689</td>\n",
       "      <td>0.212589</td>\n",
       "      <td>0.102538</td>\n",
       "      <td>0.219868</td>\n",
       "    </tr>\n",
       "    <tr>\n",
       "      <th>parttime</th>\n",
       "      <th>law</th>\n",
       "      <td>0.332319</td>\n",
       "      <td>0.075809</td>\n",
       "      <td>0.709497</td>\n",
       "      <td>0.162121</td>\n",
       "      <td>0.089413</td>\n",
       "      <td>0.391281</td>\n",
       "    </tr>\n",
       "    <tr>\n",
       "      <th>pass_bar</th>\n",
       "      <th>law</th>\n",
       "      <td>0.349575</td>\n",
       "      <td>0.204255</td>\n",
       "      <td>0.732304</td>\n",
       "      <td>0.284753</td>\n",
       "      <td>0.153597</td>\n",
       "      <td>0.424489</td>\n",
       "    </tr>\n",
       "  </tbody>\n",
       "</table>\n",
       "</div>"
      ],
      "text/plain": [
       "               statistical_parity  equal_opportunity  average_odds  \\\n",
       "variable data                                                        \n",
       "race     law             0.295092           0.166591      0.534723   \n",
       "gender   law             0.270576           0.014035      0.506689   \n",
       "parttime law             0.332319           0.075809      0.709497   \n",
       "pass_bar law             0.349575           0.204255      0.732304   \n",
       "\n",
       "               stat_par_pred  eq_opp_pred  avg_odds_pred  \n",
       "variable data                                             \n",
       "race     law        0.236775     0.083782       0.478464  \n",
       "gender   law        0.212589     0.102538       0.219868  \n",
       "parttime law        0.162121     0.089413       0.391281  \n",
       "pass_bar law        0.284753     0.153597       0.424489  "
      ]
     },
     "execution_count": 98,
     "metadata": {},
     "output_type": "execute_result"
    }
   ],
   "source": [
    "true_val[true_val.index.get_level_values(1) == 'law'].iloc[:4]"
   ]
  },
  {
   "cell_type": "code",
   "execution_count": 89,
   "metadata": {},
   "outputs": [
    {
     "data": {
      "text/plain": [
       "0.6349051626154033"
      ]
     },
     "execution_count": 89,
     "metadata": {},
     "output_type": "execute_result"
    }
   ],
   "source": [
    "r2_score(true_val['statistical_parity'], true_val['stat_par_pred'])"
   ]
  },
  {
   "cell_type": "code",
   "execution_count": 90,
   "metadata": {},
   "outputs": [
    {
     "data": {
      "text/plain": [
       "0.15499645238966775"
      ]
     },
     "execution_count": 90,
     "metadata": {},
     "output_type": "execute_result"
    }
   ],
   "source": [
    "r2_score(true_val['equal_opportunity'], true_val['eq_opp_pred'])"
   ]
  },
  {
   "cell_type": "code",
   "execution_count": 91,
   "metadata": {},
   "outputs": [
    {
     "data": {
      "text/plain": [
       "0.22822383541575042"
      ]
     },
     "execution_count": 91,
     "metadata": {},
     "output_type": "execute_result"
    }
   ],
   "source": [
    "r2_score(true_val['average_odds'], true_val['avg_odds_pred'])"
   ]
  },
  {
   "cell_type": "markdown",
   "metadata": {},
   "source": [
    "## Change the problem into classification with threshold"
   ]
  },
  {
   "cell_type": "code",
   "execution_count": 99,
   "metadata": {},
   "outputs": [],
   "source": [
    "model = XGBClassifier()\n",
    "logreg = LogisticRegression()"
   ]
  },
  {
   "cell_type": "code",
   "execution_count": 100,
   "metadata": {},
   "outputs": [],
   "source": [
    "train.loc[train[\"statistical_parity\"] > 0.2, \"statistical_parity\"] = 1\n",
    "train.loc[train[\"statistical_parity\"] != 1, \"statistical_parity\"] = 0\n",
    "train.loc[train[\"equal_opportunity\"] > 0.2, \"equal_opportunity\"] = 1\n",
    "train.loc[train[\"equal_opportunity\"] != 1, \"equal_opportunity\"] = 0\n",
    "train.loc[train[\"average_odds\"] > 0.2, \"average_odds\"] = 1\n",
    "train.loc[train[\"average_odds\"] != 1, \"average_odds\"] = 0"
   ]
  },
  {
   "cell_type": "code",
   "execution_count": 101,
   "metadata": {},
   "outputs": [
    {
     "name": "stderr",
     "output_type": "stream",
     "text": [
      "c:\\Users\\giord\\miniconda3\\envs\\bias\\lib\\site-packages\\pandas\\core\\indexing.py:1817: SettingWithCopyWarning: \n",
      "A value is trying to be set on a copy of a slice from a DataFrame.\n",
      "Try using .loc[row_indexer,col_indexer] = value instead\n",
      "\n",
      "See the caveats in the documentation: https://pandas.pydata.org/pandas-docs/stable/user_guide/indexing.html#returning-a-view-versus-a-copy\n",
      "  self._setitem_single_column(loc, value, pi)\n"
     ]
    }
   ],
   "source": [
    "test.loc[test[\"statistical_parity\"] > 0.2, \"statistical_parity\"] = 1\n",
    "test.loc[test[\"statistical_parity\"] != 1, \"statistical_parity\"] = 0\n",
    "test.loc[test[\"equal_opportunity\"] > 0.2, \"equal_opportunity\"] = 1\n",
    "test.loc[test[\"equal_opportunity\"] != 1, \"equal_opportunity\"] = 0\n",
    "test.loc[test[\"average_odds\"] > 0.2, \"average_odds\"] = 1\n",
    "test.loc[test[\"average_odds\"] != 1, \"average_odds\"] = 0"
   ]
  },
  {
   "cell_type": "code",
   "execution_count": 102,
   "metadata": {},
   "outputs": [],
   "source": [
    "test = test[test.index.get_level_values(1) != 'german']"
   ]
  },
  {
   "cell_type": "code",
   "execution_count": 103,
   "metadata": {},
   "outputs": [
    {
     "data": {
      "text/plain": [
       "XGBClassifier(base_score=None, booster=None, callbacks=None,\n",
       "              colsample_bylevel=None, colsample_bynode=None,\n",
       "              colsample_bytree=None, early_stopping_rounds=None,\n",
       "              enable_categorical=False, eval_metric=None, feature_types=None,\n",
       "              gamma=None, gpu_id=None, grow_policy=None, importance_type=None,\n",
       "              interaction_constraints=None, learning_rate=None, max_bin=None,\n",
       "              max_cat_threshold=None, max_cat_to_onehot=None,\n",
       "              max_delta_step=None, max_depth=None, max_leaves=None,\n",
       "              min_child_weight=None, missing=nan, monotone_constraints=None,\n",
       "              n_estimators=100, n_jobs=None, num_parallel_tree=None,\n",
       "              predictor=None, random_state=None, ...)"
      ]
     },
     "execution_count": 103,
     "metadata": {},
     "output_type": "execute_result"
    }
   ],
   "source": [
    "model.fit(train.drop(columns=['statistical_parity', 'equal_opportunity', 'average_odds']).values, train[['statistical_parity', 'equal_opportunity', 'average_odds']].values)"
   ]
  },
  {
   "cell_type": "code",
   "execution_count": 104,
   "metadata": {},
   "outputs": [],
   "source": [
    "predictions = model.predict(\n",
    "    test.drop(\n",
    "        columns=[\"statistical_parity\", \"equal_opportunity\", \"average_odds\"]\n",
    "    ).values\n",
    ")"
   ]
  },
  {
   "cell_type": "code",
   "execution_count": 105,
   "metadata": {},
   "outputs": [
    {
     "name": "stderr",
     "output_type": "stream",
     "text": [
      "c:\\Users\\giord\\miniconda3\\envs\\bias\\lib\\site-packages\\pandas\\core\\indexing.py:1667: SettingWithCopyWarning: \n",
      "A value is trying to be set on a copy of a slice from a DataFrame.\n",
      "Try using .loc[row_indexer,col_indexer] = value instead\n",
      "\n",
      "See the caveats in the documentation: https://pandas.pydata.org/pandas-docs/stable/user_guide/indexing.html#returning-a-view-versus-a-copy\n",
      "  self.obj[key] = value\n"
     ]
    }
   ],
   "source": [
    "true_val = test[[\"statistical_parity\", \"equal_opportunity\", \"average_odds\"]]\n",
    "true_val.loc[:, \"stat_par_pred\"] = predictions[:, 0]\n",
    "true_val.loc[:, \"eq_opp_pred\"] = predictions[:, 1]\n",
    "true_val.loc[:, \"avg_odds_pred\"] = predictions[:, 2]"
   ]
  },
  {
   "cell_type": "code",
   "execution_count": 106,
   "metadata": {},
   "outputs": [
    {
     "data": {
      "text/plain": [
       "0.9290681502086231"
      ]
     },
     "execution_count": 106,
     "metadata": {},
     "output_type": "execute_result"
    }
   ],
   "source": [
    "from sklearn.metrics import accuracy_score\n",
    "\n",
    "accuracy_score(true_val[\"statistical_parity\"], true_val[\"stat_par_pred\"])"
   ]
  },
  {
   "cell_type": "code",
   "execution_count": 107,
   "metadata": {},
   "outputs": [
    {
     "data": {
      "text/plain": [
       "0.8303198887343533"
      ]
     },
     "execution_count": 107,
     "metadata": {},
     "output_type": "execute_result"
    }
   ],
   "source": [
    "accuracy_score(true_val[\"equal_opportunity\"], true_val[\"eq_opp_pred\"])"
   ]
  },
  {
   "cell_type": "code",
   "execution_count": 108,
   "metadata": {},
   "outputs": [
    {
     "data": {
      "text/plain": [
       "0.5910987482614742"
      ]
     },
     "execution_count": 108,
     "metadata": {},
     "output_type": "execute_result"
    }
   ],
   "source": [
    "accuracy_score(true_val[\"average_odds\"], true_val[\"avg_odds_pred\"])"
   ]
  },
  {
   "cell_type": "code",
   "execution_count": 92,
   "metadata": {},
   "outputs": [
    {
     "data": {
      "text/plain": [
       "Index(['health', 'hearth', 'law', 'medical', 'obesity', 'park', 'resyduo',\n",
       "       'student', 'wine'],\n",
       "      dtype='object', name='data')"
      ]
     },
     "execution_count": 92,
     "metadata": {},
     "output_type": "execute_result"
    }
   ],
   "source": [
    "true_val.index.get_level_values(1).unique()"
   ]
  },
  {
   "cell_type": "code",
   "execution_count": 113,
   "metadata": {},
   "outputs": [
    {
     "data": {
      "text/plain": [
       "0.0    513\n",
       "1.0    206\n",
       "Name: stat_par_pred, dtype: int64"
      ]
     },
     "execution_count": 113,
     "metadata": {},
     "output_type": "execute_result"
    }
   ],
   "source": [
    "true_val['stat_par_pred'].value_counts()"
   ]
  },
  {
   "cell_type": "code",
   "execution_count": 109,
   "metadata": {},
   "outputs": [
    {
     "data": {
      "text/html": [
       "<div>\n",
       "<style scoped>\n",
       "    .dataframe tbody tr th:only-of-type {\n",
       "        vertical-align: middle;\n",
       "    }\n",
       "\n",
       "    .dataframe tbody tr th {\n",
       "        vertical-align: top;\n",
       "    }\n",
       "\n",
       "    .dataframe thead th {\n",
       "        text-align: right;\n",
       "    }\n",
       "</style>\n",
       "<table border=\"1\" class=\"dataframe\">\n",
       "  <thead>\n",
       "    <tr style=\"text-align: right;\">\n",
       "      <th></th>\n",
       "      <th></th>\n",
       "      <th>statistical_parity</th>\n",
       "      <th>equal_opportunity</th>\n",
       "      <th>average_odds</th>\n",
       "      <th>stat_par_pred</th>\n",
       "      <th>eq_opp_pred</th>\n",
       "      <th>avg_odds_pred</th>\n",
       "    </tr>\n",
       "    <tr>\n",
       "      <th>variable</th>\n",
       "      <th>data</th>\n",
       "      <th></th>\n",
       "      <th></th>\n",
       "      <th></th>\n",
       "      <th></th>\n",
       "      <th></th>\n",
       "      <th></th>\n",
       "    </tr>\n",
       "  </thead>\n",
       "  <tbody>\n",
       "    <tr>\n",
       "      <th>race</th>\n",
       "      <th>law</th>\n",
       "      <td>1.0</td>\n",
       "      <td>0.0</td>\n",
       "      <td>1.0</td>\n",
       "      <td>1.0</td>\n",
       "      <td>0.0</td>\n",
       "      <td>1.0</td>\n",
       "    </tr>\n",
       "    <tr>\n",
       "      <th>gender</th>\n",
       "      <th>law</th>\n",
       "      <td>1.0</td>\n",
       "      <td>0.0</td>\n",
       "      <td>1.0</td>\n",
       "      <td>1.0</td>\n",
       "      <td>0.0</td>\n",
       "      <td>0.0</td>\n",
       "    </tr>\n",
       "    <tr>\n",
       "      <th>parttime</th>\n",
       "      <th>law</th>\n",
       "      <td>1.0</td>\n",
       "      <td>0.0</td>\n",
       "      <td>1.0</td>\n",
       "      <td>0.0</td>\n",
       "      <td>0.0</td>\n",
       "      <td>1.0</td>\n",
       "    </tr>\n",
       "    <tr>\n",
       "      <th>pass_bar</th>\n",
       "      <th>law</th>\n",
       "      <td>1.0</td>\n",
       "      <td>1.0</td>\n",
       "      <td>1.0</td>\n",
       "      <td>1.0</td>\n",
       "      <td>0.0</td>\n",
       "      <td>1.0</td>\n",
       "    </tr>\n",
       "  </tbody>\n",
       "</table>\n",
       "</div>"
      ],
      "text/plain": [
       "               statistical_parity  equal_opportunity  average_odds  \\\n",
       "variable data                                                        \n",
       "race     law                  1.0                0.0           1.0   \n",
       "gender   law                  1.0                0.0           1.0   \n",
       "parttime law                  1.0                0.0           1.0   \n",
       "pass_bar law                  1.0                1.0           1.0   \n",
       "\n",
       "               stat_par_pred  eq_opp_pred  avg_odds_pred  \n",
       "variable data                                             \n",
       "race     law             1.0          0.0            1.0  \n",
       "gender   law             1.0          0.0            0.0  \n",
       "parttime law             0.0          0.0            1.0  \n",
       "pass_bar law             1.0          0.0            1.0  "
      ]
     },
     "execution_count": 109,
     "metadata": {},
     "output_type": "execute_result"
    }
   ],
   "source": [
    "true_val[true_val.index.get_level_values(1) == \"law\"].iloc[:4]"
   ]
  }
 ],
 "metadata": {
  "kernelspec": {
   "display_name": "bias",
   "language": "python",
   "name": "python3"
  },
  "language_info": {
   "codemirror_mode": {
    "name": "ipython",
    "version": 3
   },
   "file_extension": ".py",
   "mimetype": "text/x-python",
   "name": "python",
   "nbconvert_exporter": "python",
   "pygments_lexer": "ipython3",
   "version": "3.9.7"
  }
 },
 "nbformat": 4,
 "nbformat_minor": 2
}
